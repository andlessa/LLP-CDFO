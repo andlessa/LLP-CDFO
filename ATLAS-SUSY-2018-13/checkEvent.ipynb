{
 "cells": [
  {
   "cell_type": "code",
   "execution_count": 2,
   "metadata": {},
   "outputs": [
    {
     "name": "stdout",
     "output_type": "stream",
     "text": [
      "Welcome to JupyROOT 6.28/06\n"
     ]
    },
    {
     "data": {
      "text/plain": [
       "True"
      ]
     },
     "execution_count": 2,
     "metadata": {},
     "output_type": "execute_result"
    }
   ],
   "source": [
    "import os,glob\n",
    "import numpy as np\n",
    "import pandas as pd\n",
    "import glob\n",
    "import pyslha\n",
    "import time\n",
    "import progressbar as P\n",
    "from atlas_susy_2018_13_Recast import getLLPs, getDisplacedJets, getJets,eventAcc\n",
    "import matplotlib.pyplot as plt\n",
    "import os,glob\n",
    "import numpy as np\n",
    "import seaborn as sns\n",
    "from scipy.special import kn,zetac\n",
    "from helper import LLP\n",
    "import pyslha\n",
    "sns.set() #Set style\n",
    "sns.set_style('ticks',{'font.family':'serif', 'font.serif':'Times New Roman'})\n",
    "sns.set_context('paper', font_scale=1.8)\n",
    "sns.set_palette(sns.color_palette(\"Paired\"))\n",
    "\n",
    "delphesDir = os.path.abspath(\"../DelphesLLP\")\n",
    "os.environ['ROOT_INCLUDE_PATH'] = os.path.join(delphesDir,\"external\")\n",
    "\n",
    "import ROOT\n",
    "\n",
    "ROOT.gSystem.Load(os.path.join(delphesDir,\"libDelphes.so\"))\n",
    "\n",
    "ROOT.gInterpreter.Declare('#include \"classes/SortableObject.h\"')\n",
    "ROOT.gInterpreter.Declare('#include \"classes/DelphesClasses.h\"')\n",
    "ROOT.gInterpreter.Declare('#include \"external/ExRootAnalysis/ExRootTreeReader.h\"')\n"
   ]
  },
  {
   "cell_type": "code",
   "execution_count": 3,
   "metadata": {},
   "outputs": [],
   "source": [
    "inputFile = './pp2BB/Events/run_01/cdfo_110_100.0_tau_3e-02_delphes_events.root'"
   ]
  },
  {
   "cell_type": "code",
   "execution_count": 8,
   "metadata": {},
   "outputs": [],
   "source": [
    "f = ROOT.TFile(inputFile,'read')\n",
    "tree = f.Get(\"Delphes\")\n",
    "nevts = tree.GetEntries()\n",
    "\n",
    "ievt = 1\n",
    "\n",
    "tree.GetEntry(ievt)\n",
    "for illp in range(tree.llps.GetEntries()):\n",
    "    llp = tree.llps.At(illp)\n",
    "try:\n",
    "    llps = getLLPs(tree.llps,tree.llpDaughters,maxMomViolation=3e-2)\n",
    "except:\n",
    "    print('Error in %i'%ievt)\n",
    "jets = getJets(tree.GenJet,pTmin=25.,etaMax=5.0)\n",
    "jetsDisp = getDisplacedJets(jets,llps)\n",
    "jet_acc_HighPT = eventAcc(jets,jetsDisp,sr='HighPT')\n",
    "jet_acc_Trackless = eventAcc(jets,jetsDisp,sr='Trackless')\n"
   ]
  },
  {
   "cell_type": "code",
   "execution_count": 13,
   "metadata": {},
   "outputs": [
    {
     "name": "stdout",
     "output_type": "stream",
     "text": [
      "1 1 0\n"
     ]
    }
   ],
   "source": [
    "print(len(jets),tree.GenJet.GetEntries(),len(jetsDisp))"
   ]
  },
  {
   "cell_type": "code",
   "execution_count": 18,
   "metadata": {},
   "outputs": [
    {
     "name": "stdout",
     "output_type": "stream",
     "text": [
      "PT,Eta,Phi = 33.32, -4.31, -0.18\n"
     ]
    }
   ],
   "source": [
    "jet = jets[0]\n",
    "print('PT,Eta,Phi = %1.2f, %1.2f, %1.2f' %(jet.PT,jet.Eta,jet.Phi))"
   ]
  },
  {
   "cell_type": "code",
   "execution_count": 17,
   "metadata": {},
   "outputs": [
    {
     "name": "stdout",
     "output_type": "stream",
     "text": [
      "-5 PT,Eta,Phi = 1.39, 0.52, -0.08\n",
      "1000022 PT,Eta,Phi = 39.78, 2.38, 1.31\n",
      "5 PT,Eta,Phi = 2.92, 1.69, -1.53\n",
      "1000022 PT,Eta,Phi = 64.36, -0.05, -2.44\n"
     ]
    }
   ],
   "source": [
    "for llp in llps:\n",
    "    for d in llp.directDaughters:\n",
    "        print(d.PID,'PT,Eta,Phi = %1.2f, %1.2f, %1.2f' %(d.PT,d.Eta,d.Phi))"
   ]
  },
  {
   "cell_type": "code",
   "execution_count": null,
   "metadata": {},
   "outputs": [],
   "source": []
  }
 ],
 "metadata": {
  "kernelspec": {
   "display_name": "Python 3 (ipykernel)",
   "language": "python",
   "name": "python3"
  },
  "language_info": {
   "codemirror_mode": {
    "name": "ipython",
    "version": 3
   },
   "file_extension": ".py",
   "mimetype": "text/x-python",
   "name": "python",
   "nbconvert_exporter": "python",
   "pygments_lexer": "ipython3",
   "version": "3.10.12"
  }
 },
 "nbformat": 4,
 "nbformat_minor": 4
}
