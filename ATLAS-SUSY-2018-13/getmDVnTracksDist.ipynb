{
 "cells": [
  {
   "cell_type": "code",
   "execution_count": 27,
   "metadata": {},
   "outputs": [],
   "source": [
    "import numpy as np\n",
    "import seaborn as sns\n",
    "import os\n",
    "from matplotlib import pyplot as plt\n",
    "from matplotlib.colors import LogNorm\n",
    "from ATLAS_data.effFunctions import eventEff,vertexEff\n",
    "from atlas_susy_2018_13_Recast import (getLLPs, getJets, getDisplacedJets, eventAcc, \n",
    "                                       vertexAcc, getModelDict)\n",
    "\n",
    "\n",
    "plt.rcParams.update({\n",
    "    \"text.usetex\": True,\n",
    "    \"font.family\": \"sans-serif\",\n",
    "    \"font.sans-serif\": [\"Helvetica\"]})\n",
    "\n",
    "plt.rcParams.update({\"savefig.dpi\" : 300}) #Figure resolution\n",
    "\n",
    "delphesDir = os.path.abspath(\"../DelphesLLP\")\n",
    "os.environ['ROOT_INCLUDE_PATH'] = os.path.join(delphesDir,\"external\")\n",
    "\n",
    "import ROOT\n",
    "import xml.etree.ElementTree as ET\n",
    "\n",
    "\n",
    "ROOT.gSystem.Load(os.path.join(delphesDir,\"libDelphes.so\"))\n",
    "\n",
    "ROOT.gInterpreter.Declare('#include \"classes/SortableObject.h\"')\n",
    "ROOT.gInterpreter.Declare('#include \"classes/DelphesClasses.h\"')\n",
    "ROOT.gInterpreter.Declare('#include \"external/ExRootAnalysis/ExRootTreeReader.h\"')\n",
    "\n",
    "\n",
    "#Define plotting style:\n",
    "sns.set() #Set style\n",
    "sns.set_style('ticks',{'font.family':'Times New Roman', 'font.serif':'Times New Roman'})\n",
    "sns.set_context('paper', font_scale=1.8)\n",
    "cm = plt.colormaps['YlGnBu']"
   ]
  },
  {
   "cell_type": "code",
   "execution_count": 14,
   "metadata": {},
   "outputs": [],
   "source": [
    "inputFile = './ewk_Fig10b/Events/run_01/ewk_700_tau_1.00e-01_delphes_events.root'\n",
    "sr = 'Trackless'"
   ]
  },
  {
   "cell_type": "code",
   "execution_count": 49,
   "metadata": {},
   "outputs": [],
   "source": [
    "f = ROOT.TFile(inputFile,'read')\n",
    "tree = f.Get(\"Delphes\")\n",
    "nevts = tree.GetEntries()\n",
    "ntotal = 0\n",
    "totalweightPB = 0.0\n",
    "lumi = 139.0\n",
    "mDV_nTracks_weights = []\n",
    "for ievt in range(nevts):    \n",
    "   \n",
    "    ntotal += 1\n",
    "    tree.GetEntry(ievt)   \n",
    "    weightPB = tree.Weight.At(1).Weight     \n",
    "    totalweightPB += weightPB\n",
    "    ns = weightPB*1e3*lumi # number of signal events\n",
    "\n",
    "    llps = getLLPs(tree.bsm,tree.bsmDirectDaughters,tree.bsmFinalDaughters)\n",
    "    jets = getJets(tree.GenJet,pTmin=25.,etaMax=5.0)\n",
    "    jetsDisp = getDisplacedJets(jets,llps)\n",
    "    \n",
    "    # Event acceptance:\n",
    "    jet_acc = eventAcc(jets,jetsDisp,sr=sr)\n",
    "    if (not jet_acc): continue\n",
    "    ns = ns*jet_acc\n",
    "    \n",
    "    # Event efficiency\n",
    "    ev_eff = eventEff(jets,llps,sr=sr,extrapolate=True)\n",
    "    ns = ns*ev_eff\n",
    "    # Vertex acceptances:\n",
    "    v_acc = np.array([vertexAcc(llp,Rmax=300.0,zmax=300.0,Rmin=4.0,d0min=2.0) for llp in llps])\n",
    "    # Vertex efficiencies:\n",
    "    v_eff = np.array([vertexEff(llp,extrapolate=True) for llp in llps])\n",
    "    \n",
    "    v_acc = np.full(len(llps),fill_value=1.0)\n",
    "    v_eff = np.full(len(llps),fill_value=1.0)\n",
    "    \n",
    "\n",
    "    for illp,llp in enumerate(llps):\n",
    "        wv = v_acc[illp]*v_eff[illp]\n",
    "        if wv <= 0.:\n",
    "            continue\n",
    "        mDV_nTracks_weights.append([llp.mDV,llp.nTracks,ns*wv])\n",
    "\n",
    "f.Close()"
   ]
  },
  {
   "cell_type": "code",
   "execution_count": 50,
   "metadata": {},
   "outputs": [],
   "source": [
    "mDV_nTracks_weights = np.array(mDV_nTracks_weights)"
   ]
  },
  {
   "cell_type": "markdown",
   "metadata": {},
   "source": [
    "### ATLAS data"
   ]
  },
  {
   "cell_type": "code",
   "execution_count": 51,
   "metadata": {},
   "outputs": [],
   "source": [
    "data_obs = np.genfromtxt('./ATLAS_data/HEPData-ins2628398-v1-csv/yields_trackless_SR_observed.csv',\n",
    "                         delimiter=',',skip_header=10)\n",
    "data_exp = np.genfromtxt('./ATLAS_data/HEPData-ins2628398-v1-csv/yields_trackless_SR_expected_ewk.csv',\n",
    "                         delimiter=',',skip_header=11)"
   ]
  },
  {
   "cell_type": "code",
   "execution_count": 56,
   "metadata": {},
   "outputs": [
    {
     "data": {
      "image/png": "[encoded data removed]",
      "text/plain": [
       "<Figure size 800x600 with 2 Axes>"
      ]
     },
     "metadata": {},
     "output_type": "display_data"
    }
   ],
   "source": [
    "fig = plt.figure(figsize=(8,6))\n",
    "mDV_bins = sorted(np.unique(data_exp[:,4]))\n",
    "n_bins = sorted(np.unique(data_exp[:,1]))\n",
    "mDV_bins = np.logspace(1,3,20)\n",
    "n_bins = np.arange(1,10).tolist() + np.logspace(1,2,10).tolist()\n",
    "h = plt.hist2d(mDV_nTracks_weights[:,1],mDV_nTracks_weights[:,0],\n",
    "               weights=mDV_nTracks_weights[:,2],bins=(n_bins,mDV_bins),norm=LogNorm(vmin=1e-2,vmax=10))\n",
    "\n",
    "plt.xscale('log')\n",
    "plt.yscale('log')\n",
    "plt.ylabel(r'$m_{DV}$ (GeV)')\n",
    "plt.xlabel(r'$n_{\\rm Tracks}$')\n",
    "fig.colorbar(h[3], ax=plt.gca(),label='Number of Vertices')\n",
    "plt.show()\n"
   ]
  }
 ],
 "metadata": {
  "kernelspec": {
   "display_name": "Python 3 (ipykernel)",
   "language": "python",
   "name": "python3"
  },
  "language_info": {
   "codemirror_mode": {
    "name": "ipython",
    "version": 3
   },
   "file_extension": ".py",
   "mimetype": "text/x-python",
   "name": "python",
   "nbconvert_exporter": "python",
   "pygments_lexer": "ipython3",
   "version": "3.10.12"
  }
 },
 "nbformat": 4,
 "nbformat_minor": 4
}
