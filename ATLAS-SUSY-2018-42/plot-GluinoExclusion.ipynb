{
 "cells": [
  {
   "cell_type": "markdown",
   "metadata": {},
   "source": [
    "# Plot scan"
   ]
  },
  {
   "cell_type": "code",
   "execution_count": 1,
   "metadata": {},
   "outputs": [],
   "source": [
    "import warnings\n",
    "warnings.filterwarnings(\"ignore\", message=\"numpy.dtype size changed\")\n",
    "import pandas as pd\n",
    "import matplotlib.pyplot as plt\n",
    "import numpy as np\n",
    "import sys\n",
    "sys.path.append('../plotting')\n",
    "from auxPlots import interpolateData\n",
    "from nloGluinoXsec import xsecF\n",
    "import seaborn as sns\n",
    "from scipy.interpolate import interp1d\n",
    "pd.option_context('display.max_columns', -1)\n",
    "\n",
    "pd.options.mode.chained_assignment = None #Disable copy warnings\n",
    "# plt.style.use('fivethirtyeight') #Set style\n",
    "# mpl.rcParams.update({'figure.figsize' : (15,10)})  #Set general plotting options\n",
    "plt.rcParams.update({\n",
    "    \"text.usetex\": True,\n",
    "    \"font.family\": \"sans-serif\",\n",
    "    \"font.sans-serif\": [\"Helvetica\"]})\n",
    "\n",
    "plt.rcParams.update({\"savefig.dpi\" : 300}) #Figure resolution\n",
    "\n",
    "\n",
    "#Define plotting style:\n",
    "sns.set_style('ticks',{'font.family':'Times New Roman', 'font.serif':'Times New Roman'})\n",
    "sns.set_context('paper', font_scale=1.8)\n",
    "cm = plt.colormaps['RdYlBu']"
   ]
  },
  {
   "cell_type": "markdown",
   "metadata": {},
   "source": [
    "### Load ATLAS Curve"
   ]
  },
  {
   "cell_type": "code",
   "execution_count": 2,
   "metadata": {},
   "outputs": [],
   "source": [
    "atlasCurve = np.genfromtxt('./ATLAS_data/HEPData-ins2080541-v1-csv/MassLimitvs.Lifetime,R-hadron,compressed,Observed.csv',skip_header=9,delimiter=',')"
   ]
  },
  {
   "cell_type": "markdown",
   "metadata": {},
   "source": [
    "### Load Recast Data"
   ]
  },
  {
   "cell_type": "code",
   "execution_count": 3,
   "metadata": {},
   "outputs": [],
   "source": [
    "recastDF_all = pd.read_pickle('./gluinoRecast.pcl')\n",
    "recastDF_all['robs'] = 1/recastDF_all['$\\mu_{obs}$']"
   ]
  },
  {
   "cell_type": "markdown",
   "metadata": {},
   "source": [
    "### Get all model points"
   ]
  },
  {
   "cell_type": "code",
   "execution_count": 4,
   "metadata": {},
   "outputs": [
    {
     "name": "stdout",
     "output_type": "stream",
     "text": [
      "63 models loaded\n"
     ]
    }
   ],
   "source": [
    "mLLP = 'mLLP'\n",
    "mn1= 'mLSP'\n",
    "tau = 'tau_ns'\n",
    "models = []\n",
    "mCols = [mLLP,mn1,tau,'robs']\n",
    "recastDF_all.sort_values(mCols,inplace=True,ascending=True)\n",
    "recastDF = recastDF_all.drop_duplicates(subset=[mLLP,mn1,tau],keep=\"last\")\n",
    "\n",
    "for row in recastDF[mCols].values:\n",
    "    m = dict(zip(mCols,row.tolist()))\n",
    "    if m not in models:\n",
    "        models.append(m)\n",
    "print('%i models loaded' %len(models))"
   ]
  },
  {
   "cell_type": "markdown",
   "metadata": {},
   "source": [
    "### Get K-factors"
   ]
  },
  {
   "cell_type": "code",
   "execution_count": 5,
   "metadata": {},
   "outputs": [],
   "source": [
    "recastDF['kfactor'] = recastDF[mLLP].apply(xsecF)/recastDF['Total xsec (pb)']"
   ]
  },
  {
   "cell_type": "markdown",
   "metadata": {},
   "source": [
    "### Plot exclusion for each analysis"
   ]
  },
  {
   "cell_type": "code",
   "execution_count": 6,
   "metadata": {},
   "outputs": [
    {
     "data": {
      "image/png": "[encoded data removed]",
      "text/plain": [
       "<Figure size 432x288 with 2 Axes>"
      ]
     },
     "metadata": {},
     "output_type": "display_data"
    }
   ],
   "source": [
    "fig = plt.figure(figsize=(6,4))\n",
    "y = recastDF['mLLP']\n",
    "x = recastDF['tau_ns']\n",
    "rValues = recastDF['robs']*recastDF['kfactor']\n",
    "p = plt.scatter(x=x,y=y,vmin=0.0,vmax=2.0,\n",
    "        c=rValues,cmap=cm,s=20)\n",
    "plt.colorbar(label=r'$r$-value')\n",
    "# Interpolate to create more points\n",
    "xnew,ynew,znew = interpolateData(x,y,rValues,nx=500,ny=500)\n",
    "cValues = sorted([1.])\n",
    "# Get contours\n",
    "plt.contour(xnew, ynew, znew, cValues, \n",
    "                           colors='black',linestyles='dashed',\n",
    "                           linewidths=2.0)\n",
    "# plt.plot(atlasCurve[:,0],atlasCurve[:,1],label='ATLAS')\n",
    "plt.fill_between(atlasCurve[:,0],atlasCurve[:,1]+atlasCurve[:,2],atlasCurve[:,1]+atlasCurve[:,3],\n",
    "                 label='ATLAS',alpha=0.5)\n",
    "\n",
    "plt.ylabel(r'$m_{\\tilde g}$ (GeV)')\n",
    "plt.xlabel(r'$\\tau$ (ns)')\n",
    "plt.xscale('log')\n",
    "plt.xlim(0.2,50.)\n",
    "plt.ylim(200.,2500.)\n",
    "# ax.set_ylim(5.0,1.1*y.max())\n",
    "plt.grid()\n",
    "\n",
    "# fig.subplots_adjust(right=0.9,top=1.1)\n",
    "# cbar_ax = fig.add_axes([0.99, 0.25, 0.01, 0.5]) \n",
    "# plt.legend()\n",
    "plt.title(r'$\\Delta m = 30$ GeV')\n",
    "plt.tight_layout()\n",
    "plt.show()"
   ]
  },
  {
   "cell_type": "code",
   "execution_count": null,
   "metadata": {},
   "outputs": [],
   "source": []
  }
 ],
 "metadata": {
  "kernelspec": {
   "display_name": "Python 3 (ipykernel)",
   "language": "python",
   "name": "python3"
  },
  "language_info": {
   "codemirror_mode": {
    "name": "ipython",
    "version": 3
   },
   "file_extension": ".py",
   "mimetype": "text/x-python",
   "name": "python",
   "nbconvert_exporter": "python",
   "pygments_lexer": "ipython3",
   "version": "3.9.7"
  }
 },
 "nbformat": 4,
 "nbformat_minor": 4
}
