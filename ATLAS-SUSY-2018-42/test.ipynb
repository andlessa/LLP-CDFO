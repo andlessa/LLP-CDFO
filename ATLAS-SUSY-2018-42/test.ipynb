{
 "cells": [
  {
   "cell_type": "code",
   "execution_count": 1,
   "metadata": {},
   "outputs": [
    {
     "name": "stdout",
     "output_type": "stream",
     "text": [
      "Welcome to JupyROOT 6.24/06\n"
     ]
    },
    {
     "data": {
      "text/plain": [
       "True"
      ]
     },
     "execution_count": 1,
     "metadata": {},
     "output_type": "execute_result"
    }
   ],
   "source": [
    "import os\n",
    "import numpy as np\n",
    "import pandas as pd\n",
    "import time\n",
    "import sys\n",
    "sys.path.append('../')\n",
    "import progressbar as P\n",
    "from helper import getLLPs,getModelDict,splitModels\n",
    "from ATLAS_data.effFunctions import (getMuonRecoEff,getTriggerEff,getTrackEff,\n",
    "                                     getSelectionEff,getTargetMass,getMassSelEff,\n",
    "                                     massLong,massShort)\n",
    "from atlas_susy_2018_42_Recast import getHSCPCandidates,applyHSCPSelection,applyIsolation,applyMuonTagging,removeFromMET,applyMTCut\n",
    "\n",
    "delphesDir = os.path.abspath(\"../DelphesLLP\")\n",
    "os.environ['ROOT_INCLUDE_PATH'] = os.path.join(delphesDir,\"external\")\n",
    "\n",
    "import ROOT\n",
    "import xml.etree.ElementTree as ET\n",
    "\n",
    "\n",
    "ROOT.gSystem.Load(os.path.join(delphesDir,\"libDelphes.so\"))\n",
    "\n",
    "ROOT.gInterpreter.Declare('#include \"classes/SortableObject.h\"')\n",
    "ROOT.gInterpreter.Declare('#include \"classes/DelphesClasses.h\"')\n",
    "ROOT.gInterpreter.Declare('#include \"external/ExRootAnalysis/ExRootTreeReader.h\"')"
   ]
  },
  {
   "cell_type": "code",
   "execution_count": 23,
   "metadata": {},
   "outputs": [],
   "source": [
    "inputFile = '../eventData/pp2BB1j_atlas_scan_New3/Events/run_01/'"
   ]
  },
  {
   "cell_type": "code",
   "execution_count": 35,
   "metadata": {},
   "outputs": [],
   "source": [
    "f = ROOT.TFile(inputFile,'read')\n",
    "tree = f.Get(\"Delphes\")\n",
    "nevts = tree.GetEntries()\n",
    "ntotal = 0\n",
    "for ievt in range(nevts):    \n",
    "    \n",
    "    ntotal += 1\n",
    "    tree.GetEntry(ievt)   \n",
    "    weightPB = tree.Weight.At(1).Weight\n",
    "\n",
    "    # metCalo = tree.MissingETCalo.At(0).MET\n",
    "    # llps = getLLPs(tree.bsm,tree.bsmDirectDaughters,tree.bsmFinalDaughters)\n",
    "    # hscpCandidates = getHSCPCandidates(tree.isoRhadrons,tree.rhadronDaughters,llps)\n",
    "    if int(tree.bsm.GetEntries()) == 0:\n",
    "        continue\n",
    "    print(tree.bsm.GetEntries())\n",
    "    print(tree.bsmDirectDaughters.GetEntries())\n",
    "    print(tree.bsmFinalDaughters.GetEntries())\n",
    "\n",
    "    break\n",
    "f.Close()"
   ]
  },
  {
   "cell_type": "code",
   "execution_count": 27,
   "metadata": {},
   "outputs": [
    {
     "name": "stdout",
     "output_type": "stream",
     "text": [
      "0\n"
     ]
    }
   ],
   "source": []
  },
  {
   "cell_type": "code",
   "execution_count": 28,
   "metadata": {},
   "outputs": [
    {
     "name": "stdout",
     "output_type": "stream",
     "text": [
      "0\n"
     ]
    }
   ],
   "source": [
    "print(tree.bsmDirectDaughters.GetEntries())"
   ]
  },
  {
   "cell_type": "code",
   "execution_count": 29,
   "metadata": {},
   "outputs": [
    {
     "name": "stdout",
     "output_type": "stream",
     "text": [
      "0\n"
     ]
    }
   ],
   "source": [
    "print(tree.bsmFinalDaughters.GetEntries())"
   ]
  },
  {
   "cell_type": "code",
   "execution_count": 30,
   "metadata": {},
   "outputs": [
    {
     "ename": "AttributeError",
     "evalue": "'TTree' object has no attribute 'isoRhadrons'",
     "output_type": "error",
     "traceback": [
      "\u001b[0;31m---------------------------------------------------------------------------\u001b[0m",
      "\u001b[0;31mAttributeError\u001b[0m                            Traceback (most recent call last)",
      "\u001b[0;32m/tmp/ipykernel_29926/3622141337.py\u001b[0m in \u001b[0;36m<module>\u001b[0;34m\u001b[0m\n\u001b[0;32m----> 1\u001b[0;31m \u001b[0mprint\u001b[0m\u001b[0;34m(\u001b[0m\u001b[0mtree\u001b[0m\u001b[0;34m.\u001b[0m\u001b[0misoRhadrons\u001b[0m\u001b[0;34m.\u001b[0m\u001b[0mGetEntries\u001b[0m\u001b[0;34m(\u001b[0m\u001b[0;34m)\u001b[0m\u001b[0;34m)\u001b[0m\u001b[0;34m\u001b[0m\u001b[0;34m\u001b[0m\u001b[0m\n\u001b[0m",
      "\u001b[0;31mAttributeError\u001b[0m: 'TTree' object has no attribute 'isoRhadrons'"
     ]
    }
   ],
   "source": [
    "print(tree.isoRhadrons.GetEntries())"
   ]
  },
  {
   "cell_type": "code",
   "execution_count": 20,
   "metadata": {},
   "outputs": [
    {
     "name": "stdout",
     "output_type": "stream",
     "text": [
      "4\n"
     ]
    }
   ],
   "source": [
    "print(tree.rhadronDaughters.GetEntries())"
   ]
  },
  {
   "cell_type": "code",
   "execution_count": 21,
   "metadata": {},
   "outputs": [
    {
     "name": "stdout",
     "output_type": "stream",
     "text": [
      "1000512 105.2750015258789\n",
      "-1000512 105.2750015258789\n"
     ]
    }
   ],
   "source": [
    "for ip in range(tree.isoRhadrons.GetEntries()):\n",
    "    p = tree.isoRhadrons.At(ip)\n",
    "    print(p.PID,p.Mass)"
   ]
  },
  {
   "cell_type": "code",
   "execution_count": 22,
   "metadata": {},
   "outputs": [
    {
     "name": "stdout",
     "output_type": "stream",
     "text": [
      "1000005 104.75\n",
      "-1 0.5249999761581421\n",
      "-1000005 104.75\n",
      "1 0.5249999761581421\n"
     ]
    }
   ],
   "source": [
    "for ip in range(tree.rhadronDaughters.GetEntries()):\n",
    "    p = tree.rhadronDaughters.At(ip)\n",
    "    print(p.PID,p.Mass)"
   ]
  },
  {
   "cell_type": "code",
   "execution_count": null,
   "metadata": {},
   "outputs": [],
   "source": []
  }
 ],
 "metadata": {
  "kernelspec": {
   "display_name": "Python 3",
   "language": "python",
   "name": "python3"
  },
  "language_info": {
   "codemirror_mode": {
    "name": "ipython",
    "version": 3
   },
   "file_extension": ".py",
   "mimetype": "text/x-python",
   "name": "python",
   "nbconvert_exporter": "python",
   "pygments_lexer": "ipython3",
   "version": "3.9.7"
  }
 },
 "nbformat": 4,
 "nbformat_minor": 2
}
