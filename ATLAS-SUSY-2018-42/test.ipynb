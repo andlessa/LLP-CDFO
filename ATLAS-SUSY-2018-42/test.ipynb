{
 "cells": [
  {
   "cell_type": "code",
   "execution_count": 1,
   "metadata": {},
   "outputs": [
    {
     "name": "stdout",
     "output_type": "stream",
     "text": [
      "Welcome to JupyROOT 6.28/06\n"
     ]
    },
    {
     "data": {
      "text/plain": [
       "True"
      ]
     },
     "execution_count": 1,
     "metadata": {},
     "output_type": "execute_result"
    }
   ],
   "source": [
    "import os\n",
    "import numpy as np\n",
    "import pandas as pd\n",
    "import time\n",
    "import sys\n",
    "sys.path.append('../')\n",
    "import progressbar as P\n",
    "from helper import getLLPs,getModelDict,splitModels\n",
    "from ATLAS_data.effFunctions import (getMuonRecoEff,getTriggerEff,getTrackEff,\n",
    "                                     getSelectionEff,getTargetMass,getMassSelEff,\n",
    "                                     massLong,massShort)\n",
    "from atlas_susy_2018_42_Recast import getHSCPCandidates,applyHSCPSelection,applyIsolation,applyMuonTagging,removeFromMET,applyMTCut\n",
    "\n",
    "delphesDir = os.path.abspath(\"../DelphesLLP\")\n",
    "os.environ['ROOT_INCLUDE_PATH'] = os.path.join(delphesDir,\"external\")\n",
    "\n",
    "import ROOT\n",
    "import xml.etree.ElementTree as ET\n",
    "\n",
    "\n",
    "ROOT.gSystem.Load(os.path.join(delphesDir,\"libDelphes.so\"))\n",
    "\n",
    "ROOT.gInterpreter.Declare('#include \"classes/SortableObject.h\"')\n",
    "ROOT.gInterpreter.Declare('#include \"classes/DelphesClasses.h\"')\n",
    "ROOT.gInterpreter.Declare('#include \"external/ExRootAnalysis/ExRootTreeReader.h\"')"
   ]
  },
  {
   "cell_type": "code",
   "execution_count": 6,
   "metadata": {},
   "outputs": [],
   "source": [
    "# inputFile = '../eventData/pp2BB1j_atlas_scan_New3/Events/run_04/cdfo_105_100.0_tau_6e+00_delphes_events.root'\n",
    "# inputFile = '../eventData/pp2BB1j_atlas_scan_New3/Events/run_03/cdfo_106_100.0_tau_6e+00_delphes_events.root'\n",
    "inputFile = '../eventData/pp2Gluino_atlas/Events/run_10/gluino_400_370.0_tau_3e-01_delphes_events.root'"
   ]
  },
  {
   "cell_type": "code",
   "execution_count": 7,
   "metadata": {},
   "outputs": [],
   "source": [
    "f = ROOT.TFile(inputFile,'read')\n",
    "tree = f.Get(\"Delphes\")\n",
    "nevts = tree.GetEntries()\n",
    "ntotal = 0\n",
    "for ievt in range(nevts):    \n",
    "    \n",
    "    ntotal += 1\n",
    "    tree.GetEntry(ievt)   \n",
    "    weightPB = tree.Weight.At(1).Weight\n",
    "\n",
    "    metCalo = tree.MissingETCalo.At(0).MET\n",
    "    llps = getLLPs(tree.bsm,tree.bsmDirectDaughters,tree.bsmFinalDaughters,tree.bsmMothers)\n",
    "    # hscpCandidates = getHSCPCandidates(tree.isoRhadrons,tree.rhadronDaughters,llps)\n",
    "    break\n",
    "# f.Close()"
   ]
  },
  {
   "cell_type": "code",
   "execution_count": 8,
   "metadata": {},
   "outputs": [
    {
     "data": {
      "text/plain": [
       "[1000021 (106), 1000021 (106)]"
      ]
     },
     "execution_count": 8,
     "metadata": {},
     "output_type": "execute_result"
    }
   ],
   "source": [
    "llps"
   ]
  },
  {
   "cell_type": "code",
   "execution_count": 9,
   "metadata": {},
   "outputs": [
    {
     "name": "stdout",
     "output_type": "stream",
     "text": [
      "1000021 609.0592041015625 0 0.0\n",
      "   1009223 610.657958984375\n",
      "1000021 1205.9241943359375 0 1.0\n",
      "   -1009213 1209.0897216796875\n"
     ]
    }
   ],
   "source": [
    "for llp in llps:\n",
    "    print(llp.PID,llp.E,llp.Charge,llp.getCharge(),llp.SumPtCharged)\n",
    "    for m in llp.mothers:\n",
    "        print('  ',m.PID,m.E)"
   ]
  },
  {
   "cell_type": "code",
   "execution_count": 10,
   "metadata": {},
   "outputs": [
    {
     "name": "stdout",
     "output_type": "stream",
     "text": [
      "1000021 400.0 106 609.0592041015625 0 2\n",
      "1000021 400.0 106 1205.9241943359375 3 5\n"
     ]
    }
   ],
   "source": [
    "for p in tree.isoLLPs:\n",
    "    print(p.PID,p.Mass,p.Status,p.E,p.D1,p.D2)"
   ]
  },
  {
   "cell_type": "code",
   "execution_count": 6,
   "metadata": {},
   "outputs": [
    {
     "name": "stdout",
     "output_type": "stream",
     "text": [
      "-1 0.33000001311302185 23 0\n",
      "1 0.33000001311302185 23 0\n",
      "1000022 370.0 1 0\n",
      "-1 0.33000001311302185 23 0\n",
      "1 0.33000001311302185 23 0\n",
      "1000022 370.0 1 0\n"
     ]
    }
   ],
   "source": [
    "for ip in range(tree.bsmDirectDaughters.GetEntries()):\n",
    "    p = tree.bsmDirectDaughters.At(ip)\n",
    "    print(p.PID,p.Mass,p.Status,p.Charge)"
   ]
  },
  {
   "cell_type": "code",
   "execution_count": 14,
   "metadata": {},
   "outputs": [
    {
     "name": "stdout",
     "output_type": "stream",
     "text": [
      "1000021 400.0 609.0592041015625 106 0 0 0 2\n",
      "1000021 400.0 1205.9241943359375 106 1 1 3 5\n",
      "1000021 400.0 609.0592041015625 106 0 0 0 2\n",
      "1000021 400.0 1205.9241943359375 106 1 1 3 5\n"
     ]
    }
   ],
   "source": [
    "for p in tree.bsm:\n",
    "    # p = tree.bsm.At(ip)\n",
    "    print(p.PID,p.Mass,p.E,p.Status,p.M1,p.M2,p.D1,p.D2)\n",
    "\n",
    "\n",
    "for p in tree.isoLLPs:\n",
    "    # p = tree.bsm.At(ip)\n",
    "    print(p.PID,p.Mass,p.E,p.Status,p.M1,p.M2,p.D1,p.D2)    "
   ]
  },
  {
   "cell_type": "code",
   "execution_count": 8,
   "metadata": {},
   "outputs": [
    {
     "name": "stdout",
     "output_type": "stream",
     "text": [
      "1009113 401.174560546875 104 -999\n",
      "-1009213 401.04998779296875 104 -999\n"
     ]
    }
   ],
   "source": [
    "for ip in range(tree.bsmMothers.GetEntries()):\n",
    "    p = tree.bsmMothers.At(ip)\n",
    "    print(p.PID,p.Mass,p.Status,p.Charge)"
   ]
  },
  {
   "cell_type": "code",
   "execution_count": 12,
   "metadata": {},
   "outputs": [
    {
     "name": "stdout",
     "output_type": "stream",
     "text": [
      "1009113 401.174560546875 104 -999\n",
      "-1009213 401.04998779296875 104 -999\n"
     ]
    }
   ],
   "source": [
    "for ip,p in enumerate(tree.bsmMothers):\n",
    "    print(p.PID,p.Mass,p.Status,p.Charge)"
   ]
  },
  {
   "cell_type": "code",
   "execution_count": 9,
   "metadata": {},
   "outputs": [
    {
     "name": "stdout",
     "output_type": "stream",
     "text": [
      "R-hadron: 1009113\n"
     ]
    },
    {
     "ename": "AttributeError",
     "evalue": "'TTree' object has no attribute 'rhadronDaughters'",
     "output_type": "error",
     "traceback": [
      "\u001b[0;31m---------------------------------------------------------------------------\u001b[0m",
      "\u001b[0;31mAttributeError\u001b[0m                            Traceback (most recent call last)",
      "Cell \u001b[0;32mIn[9], line 11\u001b[0m\n\u001b[1;32m      5\u001b[0m \u001b[38;5;66;03m# if abs(rhadron.Charge) == 1: # Skip neutral or multicharged particles\u001b[39;00m\n\u001b[1;32m      6\u001b[0m     \u001b[38;5;66;03m# continue\u001b[39;00m\n\u001b[1;32m      7\u001b[0m \n\u001b[1;32m      8\u001b[0m \u001b[38;5;66;03m# Map rhadron to llp (parton)\u001b[39;00m\n\u001b[1;32m      9\u001b[0m \u001b[38;5;66;03m# (check which llp came from the R-hadron)\u001b[39;00m\n\u001b[1;32m     10\u001b[0m rhadron_ddaughters \u001b[38;5;241m=\u001b[39m []\n\u001b[0;32m---> 11\u001b[0m \u001b[38;5;28;01mfor\u001b[39;00m jp \u001b[38;5;129;01min\u001b[39;00m \u001b[38;5;28mrange\u001b[39m(\u001b[43mtree\u001b[49m\u001b[38;5;241;43m.\u001b[39;49m\u001b[43mrhadronDaughters\u001b[49m\u001b[38;5;241m.\u001b[39mGetEntries()):\n\u001b[1;32m     12\u001b[0m     d \u001b[38;5;241m=\u001b[39m tree\u001b[38;5;241m.\u001b[39mrhadronDaughters\u001b[38;5;241m.\u001b[39mAt(jp)\n\u001b[1;32m     13\u001b[0m     \u001b[38;5;28mprint\u001b[39m(\u001b[38;5;124m'\u001b[39m\u001b[38;5;124m  dE=\u001b[39m\u001b[38;5;124m'\u001b[39m,d\u001b[38;5;241m.\u001b[39mE)\n",
      "\u001b[0;31mAttributeError\u001b[0m: 'TTree' object has no attribute 'rhadronDaughters'"
     ]
    }
   ],
   "source": [
    "candidates = []    \n",
    "for ip in range(tree.rhadron.GetEntries()):\n",
    "    rhadron = tree.rhadron.At(ip)\n",
    "    print('R-hadron:',rhadron.PID)\n",
    "    # if abs(rhadron.Charge) == 1: # Skip neutral or multicharged particles\n",
    "        # continue\n",
    "    \n",
    "    # Map rhadron to llp (parton)\n",
    "    # (check which llp came from the R-hadron)\n",
    "    rhadron_ddaughters = []\n",
    "    for jp in range(tree.rhadronDaughters.GetEntries()):\n",
    "        d = tree.rhadronDaughters.At(jp)\n",
    "        print('  dE=',d.E)\n",
    "        for llp in llps:\n",
    "            print(llp.PID,llp.E,llp is d)\n",
    "        if d.M1 == ip:\n",
    "            rhadron_ddaughters.append(d)\n",
    "    print([(d.PID,d.Charge) for d in rhadron_ddaughters])\n",
    "    totalCharge = sum([d.Charge for d in rhadron_ddaughters])\n",
    "    x = rhadron_ddaughters[0].X\n",
    "    totalE = sum([d.E for d in rhadron_ddaughters])\n",
    "    print('  Charge=',totalCharge,'X=',x,'totalE = ',totalE,rhadron.E)\n"
   ]
  },
  {
   "cell_type": "code",
   "execution_count": 21,
   "metadata": {},
   "outputs": [
    {
     "data": {
      "text/plain": [
       "0"
      ]
     },
     "execution_count": 21,
     "metadata": {},
     "output_type": "execute_result"
    }
   ],
   "source": [
    "tree.bsmMothers.GetEntries()"
   ]
  },
  {
   "cell_type": "code",
   "execution_count": 8,
   "metadata": {},
   "outputs": [
    {
     "data": {
      "text/plain": [
       "[]"
      ]
     },
     "execution_count": 8,
     "metadata": {},
     "output_type": "execute_result"
    }
   ],
   "source": [
    "candidates"
   ]
  },
  {
   "cell_type": "code",
   "execution_count": 8,
   "metadata": {},
   "outputs": [
    {
     "ename": "AttributeError",
     "evalue": "'TTree' object has no attribute 'isoLLPs'",
     "output_type": "error",
     "traceback": [
      "\u001b[0;31m---------------------------------------------------------------------------\u001b[0m",
      "\u001b[0;31mAttributeError\u001b[0m                            Traceback (most recent call last)",
      "Cell \u001b[0;32mIn[8], line 1\u001b[0m\n\u001b[0;32m----> 1\u001b[0m \u001b[38;5;28;01mfor\u001b[39;00m p \u001b[38;5;129;01min\u001b[39;00m \u001b[43mtree\u001b[49m\u001b[38;5;241;43m.\u001b[39;49m\u001b[43misoLLPs\u001b[49m:\n\u001b[1;32m      2\u001b[0m     \u001b[38;5;66;03m# p = tree.bsmFinalDaughters.At(ip)\u001b[39;00m\n\u001b[1;32m      3\u001b[0m     \u001b[38;5;28mprint\u001b[39m(p\u001b[38;5;241m.\u001b[39mPID,p\u001b[38;5;241m.\u001b[39mMass,p\u001b[38;5;241m.\u001b[39mStatus,p\u001b[38;5;241m.\u001b[39mCharge)\n",
      "\u001b[0;31mAttributeError\u001b[0m: 'TTree' object has no attribute 'isoLLPs'"
     ]
    }
   ],
   "source": [
    "for p in tree.isoLLPs:\n",
    "    # p = tree.bsmFinalDaughters.At(ip)\n",
    "    print(p.PID,p.Mass,p.Status,p.Charge)"
   ]
  },
  {
   "cell_type": "code",
   "execution_count": 38,
   "metadata": {},
   "outputs": [
    {
     "name": "stdout",
     "output_type": "stream",
     "text": [
      "2212 4 1 0.9382699728012085\n",
      "2203 63 1 0.7713299989700317\n",
      "2212 4 1 0.9382699728012085\n",
      "-1009002 103 -999 400.70001220703125\n",
      "-1009002 102 -999 400.70001220703125\n",
      "1009323 104 -999 401.2250061035156\n",
      "1009002 103 -999 400.5249938964844\n",
      "1009002 102 -999 400.5249938964844\n",
      "1009223 104 -999 401.04998779296875\n",
      "2203 72 1 0.7713299989700317\n",
      "213 2 1 0.7540422677993774\n",
      "-211 1 -1 0.13956999778747559\n",
      "211 1 1 0.13956999778747559\n",
      "-213 2 -1 0.754854679107666\n",
      "211 1 1 0.13956999778747559\n",
      "-213 2 -1 0.7838952541351318\n",
      "211 1 1 0.13956999778747559\n",
      "-211 1 -1 0.13956999778747559\n",
      "213 2 1 1.2140008211135864\n",
      "-213 2 -1 0.6929205060005188\n",
      "2212 1 1 0.9382699728012085\n",
      "-211 1 -1 0.13956999778747559\n",
      "321 1 1 0.4936800003051758\n",
      "-211 1 -1 0.13956999778747559\n",
      "211 1 1 0.13956999778747559\n",
      "-321 1 -1 0.4936800003051758\n",
      "211 1 1 0.13956999778747559\n",
      "211 1 1 0.13956999778747559\n",
      "-211 1 -1 0.13956999778747559\n",
      "213 2 1 0.8911933302879333\n",
      "-211 1 -1 0.13956999778747559\n",
      "211 1 1 0.13956999778747559\n",
      "-211 1 -1 0.13956999778747559\n",
      "321 1 1 0.4936800003051758\n",
      "-213 2 -1 0.8580932021141052\n",
      "213 2 1 0.7617296576499939\n",
      "1114 2 -1 1.6815415620803833\n",
      "211 1 1 0.13956999778747559\n",
      "-213 2 -1 0.7635587453842163\n",
      "213 2 1 0.8519461750984192\n",
      "-211 1 -1 0.13956999778747559\n",
      "211 1 1 0.13956999778747559\n",
      "-211 1 -1 0.13956999778747559\n",
      "213 2 1 1.256770133972168\n",
      "-211 1 -1 0.13956999778747559\n",
      "211 1 1 0.13956999778747559\n",
      "-321 1 -1 0.4936800003051758\n",
      "321 1 1 0.4936800003051758\n",
      "-321 1 -1 0.4936800003051758\n",
      "2212 1 1 0.9382699728012085\n",
      "-211 1 -1 0.13956999778747559\n",
      "211 1 1 0.13956999778747559\n",
      "-213 2 -1 0.7334240674972534\n",
      "211 1 1 0.13956999778747559\n",
      "-211 1 -1 0.13956999778747559\n",
      "211 1 1 0.13956999778747559\n",
      "-211 1 -1 0.13956999778747559\n",
      "211 1 1 0.13956999778747559\n",
      "-213 2 -1 0.690527081489563\n",
      "211 1 1 0.13956999778747559\n",
      "-211 1 -1 0.13956999778747559\n",
      "-211 1 -1 0.13956999778747559\n",
      "213 2 1 0.6052706241607666\n",
      "-213 2 -1 0.7831491231918335\n",
      "321 1 1 0.4936800003051758\n",
      "-323 2 -1 0.8667648434638977\n",
      "213 2 1 0.7869837284088135\n",
      "-323 2 -1 0.8800342679023743\n",
      "213 2 1 0.658731997013092\n",
      "-213 2 -1 0.7260830998420715\n",
      "213 2 1 0.7837918996810913\n",
      "-321 1 -1 0.4936800003051758\n",
      "-2212 1 -1 0.9382699728012085\n",
      "213 2 1 0.7065554261207581\n",
      "-211 1 -1 0.13956999778747559\n",
      "213 2 1 0.8683124780654907\n",
      "-211 1 -1 0.13956999778747559\n",
      "323 2 1 0.8752484917640686\n",
      "-321 1 -1 0.4936800003051758\n",
      "2224 2 2 1.3095537424087524\n",
      "211 1 1 0.13956999778747559\n",
      "-211 1 -1 0.13956999778747559\n",
      "-211 1 -1 0.13956999778747559\n",
      "211 1 1 0.13956999778747559\n",
      "-211 1 -1 0.13956999778747559\n",
      "211 1 1 0.13956999778747559\n",
      "-211 1 -1 0.13956999778747559\n",
      "211 1 1 0.13956999778747559\n",
      "211 1 1 0.13956999778747559\n",
      "-211 1 -1 0.13956999778747559\n",
      "321 1 1 0.4936800003051758\n",
      "-211 1 -1 0.13956999778747559\n",
      "-321 1 -1 0.4936800003051758\n",
      "211 1 1 0.13956999778747559\n",
      "-211 1 -1 0.13956999778747559\n",
      "211 1 1 0.13956999778747559\n",
      "-211 1 -1 0.13956999778747559\n",
      "-211 1 -1 0.13956999778747559\n",
      "211 1 1 0.13956999778747559\n",
      "211 1 1 0.13956999778747559\n",
      "211 1 1 0.13956999778747559\n",
      "-211 1 -1 0.13956999778747559\n",
      "-211 1 -1 0.13956999778747559\n",
      "211 1 1 0.13956999778747559\n",
      "-211 1 -1 0.13956999778747559\n",
      "-211 1 -1 0.13956999778747559\n",
      "211 1 1 0.13956999778747559\n",
      "-211 1 -1 0.13956999778747559\n",
      "-211 1 -1 0.13956999778747559\n",
      "211 1 1 0.13956999778747559\n",
      "321 1 1 0.4936800003051758\n",
      "-211 1 -1 0.13956999778747559\n",
      "-211 1 -1 0.13956999778747559\n",
      "211 1 1 0.13956999778747559\n",
      "-211 1 -1 0.13956999778747559\n",
      "211 1 1 0.13956999778747559\n",
      "-211 1 -1 0.13956999778747559\n",
      "211 1 1 0.13956999778747559\n",
      "-321 1 -1 0.4936800003051758\n",
      "211 1 1 0.13956999778747559\n",
      "211 1 1 0.13956999778747559\n",
      "211 1 1 0.13956999778747559\n",
      "-211 1 -1 0.13956999778747559\n",
      "211 1 1 0.13956999778747559\n",
      "211 1 1 0.13956999778747559\n",
      "-211 1 -1 0.13956999778747559\n",
      "211 1 1 0.13956999778747559\n",
      "-211 1 -1 0.13956999778747559\n",
      "211 1 1 0.13956999778747559\n",
      "-211 1 -1 0.13956999778747559\n",
      "211 1 1 0.13956999778747559\n",
      "-211 1 -1 0.13956999778747559\n",
      "211 1 1 0.13956999778747559\n",
      "-211 1 -1 0.13956999778747559\n",
      "211 1 1 0.13956999778747559\n",
      "2212 1 1 0.9382699728012085\n",
      "211 1 1 0.13956999778747559\n",
      "211 1 1 0.13956999778747559\n",
      "-211 1 -1 0.13956999778747559\n",
      "211 1 1 0.13956999778747559\n",
      "-211 1 -1 0.13956999778747559\n",
      "11 1 -1 0.0005109999910928309\n",
      "-11 1 1 0.0005109999910928309\n",
      "211 1 1 0.13956999778747559\n",
      "-211 1 -1 0.13956999778747559\n",
      "211 1 1 0.13956999778747559\n",
      "-211 1 -1 0.13956999778747559\n",
      "211 1 1 0.13956999778747559\n",
      "-211 1 -1 0.13956999778747559\n",
      "211 1 1 0.13956999778747559\n",
      "-211 1 -1 0.13956999778747559\n",
      "-2212 1 -1 0.9382699728012085\n",
      "211 1 1 0.13956999778747559\n",
      "11 1 -1 0.0005109999910928309\n",
      "-11 1 1 0.0005109999910928309\n",
      "211 1 1 0.13956999778747559\n",
      "-211 1 -1 0.13956999778747559\n",
      "211 1 1 0.13956999778747559\n",
      "-211 1 -1 0.13956999778747559\n",
      "211 1 1 0.13956999778747559\n",
      "-211 1 -1 0.13956999778747559\n",
      "211 1 1 0.13956999778747559\n",
      "-211 1 -1 0.13956999778747559\n",
      "211 1 1 0.13956999778747559\n",
      "-211 1 -1 0.13956999778747559\n",
      "211 1 1 0.13956999778747559\n",
      "-211 1 -1 0.13956999778747559\n",
      "-2212 1 -1 0.9382699728012085\n",
      "211 1 1 0.13956999778747559\n",
      "211 1 1 0.13956999778747559\n",
      "-211 1 -1 0.13956999778747559\n",
      "211 1 1 0.13956999778747559\n",
      "-211 1 -1 0.13956999778747559\n",
      "323 2 1 0.908916711807251\n",
      "-211 1 -1 0.13956999778747559\n",
      "211 1 1 0.13956999778747559\n",
      "-211 1 -1 0.13956999778747559\n",
      "213 2 1 0.8837681412696838\n",
      "-211 1 -1 0.13956999778747559\n",
      "2212 1 1 0.9382699728012085\n",
      "-211 1 -1 0.13956999778747559\n",
      "323 2 1 0.9180392622947693\n",
      "211 1 1 0.13956999778747559\n",
      "211 1 1 0.13956999778747559\n",
      "211 1 1 0.13956999778747559\n",
      "-321 1 -1 0.4936800003051758\n",
      "211 1 1 0.13956999778747559\n",
      "211 1 1 0.13956999778747559\n",
      "-211 1 -1 0.13956999778747559\n"
     ]
    }
   ],
   "source": [
    "for ip in range(tree.Particle.GetEntries()):\n",
    "    p = tree.Particle.At(ip)\n",
    "    if abs(p.PID) < 10000:\n",
    "        continue\n",
    "    if p.Charge == 0:\n",
    "        continue\n",
    "    print(p.PID,p.Status,p.Charge,p.Mass)"
   ]
  },
  {
   "cell_type": "code",
   "execution_count": null,
   "metadata": {},
   "outputs": [],
   "source": []
  }
 ],
 "metadata": {
  "kernelspec": {
   "display_name": "Python 3",
   "language": "python",
   "name": "python3"
  },
  "language_info": {
   "codemirror_mode": {
    "name": "ipython",
    "version": 3
   },
   "file_extension": ".py",
   "mimetype": "text/x-python",
   "name": "python",
   "nbconvert_exporter": "python",
   "pygments_lexer": "ipython3",
   "version": "3.10.12"
  }
 },
 "nbformat": 4,
 "nbformat_minor": 2
}
