{
 "cells": [
  {
   "cell_type": "code",
   "execution_count": 1,
   "metadata": {},
   "outputs": [
    {
     "name": "stdout",
     "output_type": "stream",
     "text": [
      "Welcome to JupyROOT 6.24/06\n"
     ]
    }
   ],
   "source": [
    "import os\n",
    "import numpy as np\n",
    "import pandas as pd\n",
    "import matplotlib.pyplot as plt\n",
    "import seaborn as sns\n",
    "\n",
    "import sys\n",
    "sys.path.append('../')\n",
    "import progressbar as P\n",
    "from helper import getLLPs,getModelDict,splitModels\n",
    "from ATLAS_data.effFunctions import (getMuonRecoEff,getTriggerEff,getTrackEff,\n",
    "                                     getSelectionEff,getTargetMass,getMassSelEff,\n",
    "                                     massLong,massShort)\n",
    "from atlas_susy_2018_42_Recast import getHSCPCandidates,applyHSCPSelection,applyIsolation,applyMuonTagging,removeFromMET,applyMTCut\n",
    "\n",
    "delphesDir = os.path.abspath(\"../DelphesLLP\")\n",
    "os.environ['ROOT_INCLUDE_PATH'] = os.path.join(delphesDir,\"external\")\n",
    "\n",
    "import ROOT\n",
    "import xml.etree.ElementTree as ET\n",
    "\n",
    "\n",
    "ROOT.gSystem.Load(os.path.join(delphesDir,\"libDelphes.so\"))\n",
    "\n",
    "ROOT.gInterpreter.Declare('#include \"classes/SortableObject.h\"')\n",
    "ROOT.gInterpreter.Declare('#include \"classes/DelphesClasses.h\"')\n",
    "ROOT.gInterpreter.Declare('#include \"external/ExRootAnalysis/ExRootTreeReader.h\"')\n",
    "\n",
    "plt.rcParams.update({\n",
    "    \"text.usetex\": True,\n",
    "    \"font.family\": \"sans-serif\",\n",
    "    \"font.sans-serif\": [\"Helvetica\"]})\n",
    "\n",
    "plt.rcParams.update({\"savefig.dpi\" : 300}) #Figure resolution\n",
    "\n",
    "\n",
    "#Define plotting style:\n",
    "sns.set_style('ticks',{'font.family':'Times New Roman', 'font.serif':'Times New Roman'})\n",
    "sns.set_context('paper', font_scale=1.8)\n",
    "cm = plt.colormaps['RdYlBu']"
   ]
  },
  {
   "cell_type": "code",
   "execution_count": 2,
   "metadata": {},
   "outputs": [],
   "source": [
    "inputFile = '../eventData/pp2Gluino_atlas_scan/Events/run_02/gluino_400_370.0_tau_3e+01_delphes_events.root'\n",
    "# inputFile = '../eventData/pp2BB1j_atlas_scan_hscp/Events/run_05/cdfo_105_100.0_tau_6e+00_delphes_events.root'"
   ]
  },
  {
   "cell_type": "code",
   "execution_count": 3,
   "metadata": {},
   "outputs": [
    {
     "name": "stdout",
     "output_type": "stream",
     "text": [
      "Error getting charge for 1000021\n"
     ]
    },
    {
     "ename": "TypeError",
     "evalue": "bad operand type for abs(): 'NoneType'",
     "output_type": "error",
     "traceback": [
      "\u001b[0;31m---------------------------------------------------------------------------\u001b[0m",
      "\u001b[0;31mTypeError\u001b[0m                                 Traceback (most recent call last)",
      "\u001b[0;32m/tmp/ipykernel_35573/1409872202.py\u001b[0m in \u001b[0;36m<module>\u001b[0;34m\u001b[0m\n\u001b[1;32m     16\u001b[0m         \u001b[0;31m# break\u001b[0m\u001b[0;34m\u001b[0m\u001b[0;34m\u001b[0m\u001b[0m\n\u001b[1;32m     17\u001b[0m     \u001b[0mnLLPs\u001b[0m\u001b[0;34m.\u001b[0m\u001b[0mappend\u001b[0m\u001b[0;34m(\u001b[0m\u001b[0mlen\u001b[0m\u001b[0;34m(\u001b[0m\u001b[0mllps\u001b[0m\u001b[0;34m)\u001b[0m\u001b[0;34m)\u001b[0m\u001b[0;34m\u001b[0m\u001b[0;34m\u001b[0m\u001b[0m\n\u001b[0;32m---> 18\u001b[0;31m     \u001b[0mhscpCandidates\u001b[0m \u001b[0;34m=\u001b[0m \u001b[0mgetHSCPCandidates\u001b[0m\u001b[0;34m(\u001b[0m\u001b[0mllps\u001b[0m\u001b[0;34m)\u001b[0m\u001b[0;34m\u001b[0m\u001b[0;34m\u001b[0m\u001b[0m\n\u001b[0m\u001b[1;32m     19\u001b[0m     \u001b[0mnCharged\u001b[0m\u001b[0;34m.\u001b[0m\u001b[0mappend\u001b[0m\u001b[0;34m(\u001b[0m\u001b[0mlen\u001b[0m\u001b[0;34m(\u001b[0m\u001b[0mhscpCandidates\u001b[0m\u001b[0;34m)\u001b[0m\u001b[0;34m)\u001b[0m\u001b[0;34m\u001b[0m\u001b[0;34m\u001b[0m\u001b[0m\n\u001b[1;32m     20\u001b[0m     \u001b[0;31m# hscpCandidates = getHSCPCandidates(tree.isoRhadrons,tree.rhadronDaughters,llps)\u001b[0m\u001b[0;34m\u001b[0m\u001b[0;34m\u001b[0m\u001b[0m\n",
      "\u001b[0;32m~/LLP-CDFO/ATLAS-SUSY-2018-42/atlas_susy_2018_42_Recast.py\u001b[0m in \u001b[0;36mgetHSCPCandidates\u001b[0;34m(llps)\u001b[0m\n\u001b[1;32m     32\u001b[0m     \u001b[0;31m# Check if llps have charge = 1:\u001b[0m\u001b[0;34m\u001b[0m\u001b[0;34m\u001b[0m\u001b[0m\n\u001b[1;32m     33\u001b[0m     \u001b[0;32mfor\u001b[0m \u001b[0mllp\u001b[0m \u001b[0;32min\u001b[0m \u001b[0mllps\u001b[0m\u001b[0;34m:\u001b[0m\u001b[0;34m\u001b[0m\u001b[0;34m\u001b[0m\u001b[0m\n\u001b[0;32m---> 34\u001b[0;31m         \u001b[0;32mif\u001b[0m \u001b[0mabs\u001b[0m\u001b[0;34m(\u001b[0m\u001b[0mllp\u001b[0m\u001b[0;34m.\u001b[0m\u001b[0mgetCharge\u001b[0m\u001b[0;34m(\u001b[0m\u001b[0;34m)\u001b[0m\u001b[0;34m)\u001b[0m \u001b[0;34m!=\u001b[0m \u001b[0;36m1.0\u001b[0m\u001b[0;34m:\u001b[0m\u001b[0;34m\u001b[0m\u001b[0;34m\u001b[0m\u001b[0m\n\u001b[0m\u001b[1;32m     35\u001b[0m             \u001b[0;32mcontinue\u001b[0m\u001b[0;34m\u001b[0m\u001b[0;34m\u001b[0m\u001b[0m\n\u001b[1;32m     36\u001b[0m         \u001b[0mcandidates\u001b[0m\u001b[0;34m.\u001b[0m\u001b[0mappend\u001b[0m\u001b[0;34m(\u001b[0m\u001b[0mllp\u001b[0m\u001b[0;34m)\u001b[0m\u001b[0;34m\u001b[0m\u001b[0;34m\u001b[0m\u001b[0m\n",
      "\u001b[0;31mTypeError\u001b[0m: bad operand type for abs(): 'NoneType'"
     ]
    }
   ],
   "source": [
    "f = ROOT.TFile(inputFile,'read')\n",
    "tree = f.Get(\"Delphes\")\n",
    "nevts = tree.GetEntries()\n",
    "ntotal = 0\n",
    "nLLPs = []\n",
    "nCharged = []\n",
    "for ievt in range(nevts):    \n",
    "    \n",
    "    ntotal += 1\n",
    "    tree.GetEntry(ievt)   \n",
    "    weightPB = tree.Weight.At(1).Weight\n",
    "\n",
    "    metCalo = tree.MissingETCalo.At(0).MET\n",
    "    llps = getLLPs(tree.bsm,tree.bsmDirectDaughters,tree.bsmFinalDaughters,tree.bsmMothers)\n",
    "    # if len(llps) == 0:\n",
    "        # break\n",
    "    nLLPs.append(len(llps))\n",
    "    hscpCandidates = getHSCPCandidates(llps)\n",
    "    nCharged.append(len(hscpCandidates))\n",
    "    # hscpCandidates = getHSCPCandidates(tree.isoRhadrons,tree.rhadronDaughters,llps)\n",
    "    # break\n",
    "f.Close()"
   ]
  },
  {
   "cell_type": "code",
   "execution_count": 9,
   "metadata": {},
   "outputs": [
    {
     "data": {
      "image/png": "[encoded data removed]",
      "text/plain": [
       "<Figure size 432x288 with 1 Axes>"
      ]
     },
     "metadata": {},
     "output_type": "display_data"
    }
   ],
   "source": [
    "ht,_,_ = plt.hist(nLLPs,bins=np.arange(0.,4.,1.),label='LLP',histtype='step')\n",
    "h,_,_ = plt.hist(nCharged,bins=np.arange(0.,4.,1.),label='HSCP',histtype='step')\n",
    "plt.legend(loc='upper left')\n",
    "plt.yscale('log')\n",
    "plt.show()"
   ]
  },
  {
   "cell_type": "code",
   "execution_count": 10,
   "metadata": {},
   "outputs": [
    {
     "data": {
      "text/plain": [
       "array([2.0000e+01, 0.0000e+00, 2.4976e+04])"
      ]
     },
     "execution_count": 10,
     "metadata": {},
     "output_type": "execute_result"
    }
   ],
   "source": [
    "ht"
   ]
  },
  {
   "cell_type": "code",
   "execution_count": 6,
   "metadata": {},
   "outputs": [
    {
     "data": {
      "text/plain": [
       "array([167., 257.,  99.])"
      ]
     },
     "execution_count": 6,
     "metadata": {},
     "output_type": "execute_result"
    }
   ],
   "source": [
    "h"
   ]
  },
  {
   "cell_type": "code",
   "execution_count": 4,
   "metadata": {},
   "outputs": [
    {
     "name": "stdout",
     "output_type": "stream",
     "text": [
      "BSM:\n",
      "1000021 400.0 102 0\n",
      "1000021 400.0 102 0\n",
      "\n",
      "Mothers:\n",
      "1000021 400.0 101 0\n",
      "1000021 400.0 101 0\n",
      "\n",
      "Direct Daughters:\n",
      "-1009002 400.5556945800781 103 -999\n",
      "1009002 400.5556945800781 103 -999\n",
      "\n",
      "Final Daughters:\n",
      "1009223 401.04998779296875 1 -999\n",
      "-2112 0.9395700097084045 1 0\n",
      "2112 0.9395700097084045 1 0\n",
      "-211 0.13956999778747559 1 -1\n",
      "-211 0.13956999778747559 1 -1\n",
      "130 0.4976100027561188 1 0\n",
      "211 0.13956999778747559 1 1\n",
      "-211 0.13956999778747559 1 -1\n",
      "211 0.13956999778747559 1 1\n",
      "130 0.4976100027561188 1 0\n",
      "22 0.0 1 0\n",
      "11 0.0005109999910928309 1 -1\n",
      "-11 0.0005109999910928309 1 1\n",
      "1009223 400.9932556152344 1 -999\n"
     ]
    }
   ],
   "source": [
    "print('BSM:')\n",
    "for p in tree.bsm:\n",
    "    print(p.PID,p.Mass,p.Status,p.Charge)\n",
    "\n",
    "print('\\nMothers:')\n",
    "for p in tree.bsmMothers:\n",
    "    print(p.PID,p.Mass,p.Status,p.Charge)\n",
    "\n",
    "print('\\nDirect Daughters:')\n",
    "for p in tree.bsmDirectDaughters:\n",
    "    print(p.PID,p.Mass,p.Status,p.Charge)        \n",
    "\n",
    "print('\\nFinal Daughters:')    \n",
    "for p in tree.bsmFinalDaughters:\n",
    "    print(p.PID,p.Mass,p.Status,p.Charge)        \n",
    "\n",
    "\n",
    "\n",
    "print('\\n\\n LLPs:')    \n",
    "for p in llps:\n",
    "    print(p.PID,p.Mass,p.Status,p.Charge)   "
   ]
  },
  {
   "cell_type": "code",
   "execution_count": 17,
   "metadata": {},
   "outputs": [
    {
     "name": "stdout",
     "output_type": "stream",
     "text": [
      "1000021 400.0 101 0\n",
      "1000021 400.0 101 0\n"
     ]
    }
   ],
   "source": []
  },
  {
   "cell_type": "code",
   "execution_count": 9,
   "metadata": {},
   "outputs": [
    {
     "name": "stdout",
     "output_type": "stream",
     "text": [
      "R-hadron: 1009113\n"
     ]
    },
    {
     "ename": "AttributeError",
     "evalue": "'TTree' object has no attribute 'rhadronDaughters'",
     "output_type": "error",
     "traceback": [
      "\u001b[0;31m---------------------------------------------------------------------------\u001b[0m",
      "\u001b[0;31mAttributeError\u001b[0m                            Traceback (most recent call last)",
      "Cell \u001b[0;32mIn[9], line 11\u001b[0m\n\u001b[1;32m      5\u001b[0m \u001b[38;5;66;03m# if abs(rhadron.Charge) == 1: # Skip neutral or multicharged particles\u001b[39;00m\n\u001b[1;32m      6\u001b[0m     \u001b[38;5;66;03m# continue\u001b[39;00m\n\u001b[1;32m      7\u001b[0m \n\u001b[1;32m      8\u001b[0m \u001b[38;5;66;03m# Map rhadron to llp (parton)\u001b[39;00m\n\u001b[1;32m      9\u001b[0m \u001b[38;5;66;03m# (check which llp came from the R-hadron)\u001b[39;00m\n\u001b[1;32m     10\u001b[0m rhadron_ddaughters \u001b[38;5;241m=\u001b[39m []\n\u001b[0;32m---> 11\u001b[0m \u001b[38;5;28;01mfor\u001b[39;00m jp \u001b[38;5;129;01min\u001b[39;00m \u001b[38;5;28mrange\u001b[39m(\u001b[43mtree\u001b[49m\u001b[38;5;241;43m.\u001b[39;49m\u001b[43mrhadronDaughters\u001b[49m\u001b[38;5;241m.\u001b[39mGetEntries()):\n\u001b[1;32m     12\u001b[0m     d \u001b[38;5;241m=\u001b[39m tree\u001b[38;5;241m.\u001b[39mrhadronDaughters\u001b[38;5;241m.\u001b[39mAt(jp)\n\u001b[1;32m     13\u001b[0m     \u001b[38;5;28mprint\u001b[39m(\u001b[38;5;124m'\u001b[39m\u001b[38;5;124m  dE=\u001b[39m\u001b[38;5;124m'\u001b[39m,d\u001b[38;5;241m.\u001b[39mE)\n",
      "\u001b[0;31mAttributeError\u001b[0m: 'TTree' object has no attribute 'rhadronDaughters'"
     ]
    }
   ],
   "source": [
    "candidates = []    \n",
    "for ip in range(tree.rhadron.GetEntries()):\n",
    "    rhadron = tree.rhadron.At(ip)\n",
    "    print('R-hadron:',rhadron.PID)\n",
    "    # if abs(rhadron.Charge) == 1: # Skip neutral or multicharged particles\n",
    "        # continue\n",
    "    \n",
    "    # Map rhadron to llp (parton)\n",
    "    # (check which llp came from the R-hadron)\n",
    "    rhadron_ddaughters = []\n",
    "    for jp in range(tree.rhadronDaughters.GetEntries()):\n",
    "        d = tree.rhadronDaughters.At(jp)\n",
    "        print('  dE=',d.E)\n",
    "        for llp in llps:\n",
    "            print(llp.PID,llp.E,llp is d)\n",
    "        if d.M1 == ip:\n",
    "            rhadron_ddaughters.append(d)\n",
    "    print([(d.PID,d.Charge) for d in rhadron_ddaughters])\n",
    "    totalCharge = sum([d.Charge for d in rhadron_ddaughters])\n",
    "    x = rhadron_ddaughters[0].X\n",
    "    totalE = sum([d.E for d in rhadron_ddaughters])\n",
    "    print('  Charge=',totalCharge,'X=',x,'totalE = ',totalE,rhadron.E)\n"
   ]
  },
  {
   "cell_type": "code",
   "execution_count": 21,
   "metadata": {},
   "outputs": [
    {
     "data": {
      "text/plain": [
       "0"
      ]
     },
     "execution_count": 21,
     "metadata": {},
     "output_type": "execute_result"
    }
   ],
   "source": [
    "tree.bsmMothers.GetEntries()"
   ]
  },
  {
   "cell_type": "code",
   "execution_count": 8,
   "metadata": {},
   "outputs": [
    {
     "data": {
      "text/plain": [
       "[]"
      ]
     },
     "execution_count": 8,
     "metadata": {},
     "output_type": "execute_result"
    }
   ],
   "source": [
    "candidates"
   ]
  },
  {
   "cell_type": "code",
   "execution_count": 8,
   "metadata": {},
   "outputs": [
    {
     "ename": "AttributeError",
     "evalue": "'TTree' object has no attribute 'isoLLPs'",
     "output_type": "error",
     "traceback": [
      "\u001b[0;31m---------------------------------------------------------------------------\u001b[0m",
      "\u001b[0;31mAttributeError\u001b[0m                            Traceback (most recent call last)",
      "Cell \u001b[0;32mIn[8], line 1\u001b[0m\n\u001b[0;32m----> 1\u001b[0m \u001b[38;5;28;01mfor\u001b[39;00m p \u001b[38;5;129;01min\u001b[39;00m \u001b[43mtree\u001b[49m\u001b[38;5;241;43m.\u001b[39;49m\u001b[43misoLLPs\u001b[49m:\n\u001b[1;32m      2\u001b[0m     \u001b[38;5;66;03m# p = tree.bsmFinalDaughters.At(ip)\u001b[39;00m\n\u001b[1;32m      3\u001b[0m     \u001b[38;5;28mprint\u001b[39m(p\u001b[38;5;241m.\u001b[39mPID,p\u001b[38;5;241m.\u001b[39mMass,p\u001b[38;5;241m.\u001b[39mStatus,p\u001b[38;5;241m.\u001b[39mCharge)\n",
      "\u001b[0;31mAttributeError\u001b[0m: 'TTree' object has no attribute 'isoLLPs'"
     ]
    }
   ],
   "source": [
    "for p in tree.isoLLPs:\n",
    "    # p = tree.bsmFinalDaughters.At(ip)\n",
    "    print(p.PID,p.Mass,p.Status,p.Charge)"
   ]
  },
  {
   "cell_type": "code",
   "execution_count": 38,
   "metadata": {},
   "outputs": [
    {
     "name": "stdout",
     "output_type": "stream",
     "text": [
      "2212 4 1 0.9382699728012085\n",
      "2203 63 1 0.7713299989700317\n",
      "2212 4 1 0.9382699728012085\n",
      "-1009002 103 -999 400.70001220703125\n",
      "-1009002 102 -999 400.70001220703125\n",
      "1009323 104 -999 401.2250061035156\n",
      "1009002 103 -999 400.5249938964844\n",
      "1009002 102 -999 400.5249938964844\n",
      "1009223 104 -999 401.04998779296875\n",
      "2203 72 1 0.7713299989700317\n",
      "213 2 1 0.7540422677993774\n",
      "-211 1 -1 0.13956999778747559\n",
      "211 1 1 0.13956999778747559\n",
      "-213 2 -1 0.754854679107666\n",
      "211 1 1 0.13956999778747559\n",
      "-213 2 -1 0.7838952541351318\n",
      "211 1 1 0.13956999778747559\n",
      "-211 1 -1 0.13956999778747559\n",
      "213 2 1 1.2140008211135864\n",
      "-213 2 -1 0.6929205060005188\n",
      "2212 1 1 0.9382699728012085\n",
      "-211 1 -1 0.13956999778747559\n",
      "321 1 1 0.4936800003051758\n",
      "-211 1 -1 0.13956999778747559\n",
      "211 1 1 0.13956999778747559\n",
      "-321 1 -1 0.4936800003051758\n",
      "211 1 1 0.13956999778747559\n",
      "211 1 1 0.13956999778747559\n",
      "-211 1 -1 0.13956999778747559\n",
      "213 2 1 0.8911933302879333\n",
      "-211 1 -1 0.13956999778747559\n",
      "211 1 1 0.13956999778747559\n",
      "-211 1 -1 0.13956999778747559\n",
      "321 1 1 0.4936800003051758\n",
      "-213 2 -1 0.8580932021141052\n",
      "213 2 1 0.7617296576499939\n",
      "1114 2 -1 1.6815415620803833\n",
      "211 1 1 0.13956999778747559\n",
      "-213 2 -1 0.7635587453842163\n",
      "213 2 1 0.8519461750984192\n",
      "-211 1 -1 0.13956999778747559\n",
      "211 1 1 0.13956999778747559\n",
      "-211 1 -1 0.13956999778747559\n",
      "213 2 1 1.256770133972168\n",
      "-211 1 -1 0.13956999778747559\n",
      "211 1 1 0.13956999778747559\n",
      "-321 1 -1 0.4936800003051758\n",
      "321 1 1 0.4936800003051758\n",
      "-321 1 -1 0.4936800003051758\n",
      "2212 1 1 0.9382699728012085\n",
      "-211 1 -1 0.13956999778747559\n",
      "211 1 1 0.13956999778747559\n",
      "-213 2 -1 0.7334240674972534\n",
      "211 1 1 0.13956999778747559\n",
      "-211 1 -1 0.13956999778747559\n",
      "211 1 1 0.13956999778747559\n",
      "-211 1 -1 0.13956999778747559\n",
      "211 1 1 0.13956999778747559\n",
      "-213 2 -1 0.690527081489563\n",
      "211 1 1 0.13956999778747559\n",
      "-211 1 -1 0.13956999778747559\n",
      "-211 1 -1 0.13956999778747559\n",
      "213 2 1 0.6052706241607666\n",
      "-213 2 -1 0.7831491231918335\n",
      "321 1 1 0.4936800003051758\n",
      "-323 2 -1 0.8667648434638977\n",
      "213 2 1 0.7869837284088135\n",
      "-323 2 -1 0.8800342679023743\n",
      "213 2 1 0.658731997013092\n",
      "-213 2 -1 0.7260830998420715\n",
      "213 2 1 0.7837918996810913\n",
      "-321 1 -1 0.4936800003051758\n",
      "-2212 1 -1 0.9382699728012085\n",
      "213 2 1 0.7065554261207581\n",
      "-211 1 -1 0.13956999778747559\n",
      "213 2 1 0.8683124780654907\n",
      "-211 1 -1 0.13956999778747559\n",
      "323 2 1 0.8752484917640686\n",
      "-321 1 -1 0.4936800003051758\n",
      "2224 2 2 1.3095537424087524\n",
      "211 1 1 0.13956999778747559\n",
      "-211 1 -1 0.13956999778747559\n",
      "-211 1 -1 0.13956999778747559\n",
      "211 1 1 0.13956999778747559\n",
      "-211 1 -1 0.13956999778747559\n",
      "211 1 1 0.13956999778747559\n",
      "-211 1 -1 0.13956999778747559\n",
      "211 1 1 0.13956999778747559\n",
      "211 1 1 0.13956999778747559\n",
      "-211 1 -1 0.13956999778747559\n",
      "321 1 1 0.4936800003051758\n",
      "-211 1 -1 0.13956999778747559\n",
      "-321 1 -1 0.4936800003051758\n",
      "211 1 1 0.13956999778747559\n",
      "-211 1 -1 0.13956999778747559\n",
      "211 1 1 0.13956999778747559\n",
      "-211 1 -1 0.13956999778747559\n",
      "-211 1 -1 0.13956999778747559\n",
      "211 1 1 0.13956999778747559\n",
      "211 1 1 0.13956999778747559\n",
      "211 1 1 0.13956999778747559\n",
      "-211 1 -1 0.13956999778747559\n",
      "-211 1 -1 0.13956999778747559\n",
      "211 1 1 0.13956999778747559\n",
      "-211 1 -1 0.13956999778747559\n",
      "-211 1 -1 0.13956999778747559\n",
      "211 1 1 0.13956999778747559\n",
      "-211 1 -1 0.13956999778747559\n",
      "-211 1 -1 0.13956999778747559\n",
      "211 1 1 0.13956999778747559\n",
      "321 1 1 0.4936800003051758\n",
      "-211 1 -1 0.13956999778747559\n",
      "-211 1 -1 0.13956999778747559\n",
      "211 1 1 0.13956999778747559\n",
      "-211 1 -1 0.13956999778747559\n",
      "211 1 1 0.13956999778747559\n",
      "-211 1 -1 0.13956999778747559\n",
      "211 1 1 0.13956999778747559\n",
      "-321 1 -1 0.4936800003051758\n",
      "211 1 1 0.13956999778747559\n",
      "211 1 1 0.13956999778747559\n",
      "211 1 1 0.13956999778747559\n",
      "-211 1 -1 0.13956999778747559\n",
      "211 1 1 0.13956999778747559\n",
      "211 1 1 0.13956999778747559\n",
      "-211 1 -1 0.13956999778747559\n",
      "211 1 1 0.13956999778747559\n",
      "-211 1 -1 0.13956999778747559\n",
      "211 1 1 0.13956999778747559\n",
      "-211 1 -1 0.13956999778747559\n",
      "211 1 1 0.13956999778747559\n",
      "-211 1 -1 0.13956999778747559\n",
      "211 1 1 0.13956999778747559\n",
      "-211 1 -1 0.13956999778747559\n",
      "211 1 1 0.13956999778747559\n",
      "2212 1 1 0.9382699728012085\n",
      "211 1 1 0.13956999778747559\n",
      "211 1 1 0.13956999778747559\n",
      "-211 1 -1 0.13956999778747559\n",
      "211 1 1 0.13956999778747559\n",
      "-211 1 -1 0.13956999778747559\n",
      "11 1 -1 0.0005109999910928309\n",
      "-11 1 1 0.0005109999910928309\n",
      "211 1 1 0.13956999778747559\n",
      "-211 1 -1 0.13956999778747559\n",
      "211 1 1 0.13956999778747559\n",
      "-211 1 -1 0.13956999778747559\n",
      "211 1 1 0.13956999778747559\n",
      "-211 1 -1 0.13956999778747559\n",
      "211 1 1 0.13956999778747559\n",
      "-211 1 -1 0.13956999778747559\n",
      "-2212 1 -1 0.9382699728012085\n",
      "211 1 1 0.13956999778747559\n",
      "11 1 -1 0.0005109999910928309\n",
      "-11 1 1 0.0005109999910928309\n",
      "211 1 1 0.13956999778747559\n",
      "-211 1 -1 0.13956999778747559\n",
      "211 1 1 0.13956999778747559\n",
      "-211 1 -1 0.13956999778747559\n",
      "211 1 1 0.13956999778747559\n",
      "-211 1 -1 0.13956999778747559\n",
      "211 1 1 0.13956999778747559\n",
      "-211 1 -1 0.13956999778747559\n",
      "211 1 1 0.13956999778747559\n",
      "-211 1 -1 0.13956999778747559\n",
      "211 1 1 0.13956999778747559\n",
      "-211 1 -1 0.13956999778747559\n",
      "-2212 1 -1 0.9382699728012085\n",
      "211 1 1 0.13956999778747559\n",
      "211 1 1 0.13956999778747559\n",
      "-211 1 -1 0.13956999778747559\n",
      "211 1 1 0.13956999778747559\n",
      "-211 1 -1 0.13956999778747559\n",
      "323 2 1 0.908916711807251\n",
      "-211 1 -1 0.13956999778747559\n",
      "211 1 1 0.13956999778747559\n",
      "-211 1 -1 0.13956999778747559\n",
      "213 2 1 0.8837681412696838\n",
      "-211 1 -1 0.13956999778747559\n",
      "2212 1 1 0.9382699728012085\n",
      "-211 1 -1 0.13956999778747559\n",
      "323 2 1 0.9180392622947693\n",
      "211 1 1 0.13956999778747559\n",
      "211 1 1 0.13956999778747559\n",
      "211 1 1 0.13956999778747559\n",
      "-321 1 -1 0.4936800003051758\n",
      "211 1 1 0.13956999778747559\n",
      "211 1 1 0.13956999778747559\n",
      "-211 1 -1 0.13956999778747559\n"
     ]
    }
   ],
   "source": [
    "for ip in range(tree.Particle.GetEntries()):\n",
    "    p = tree.Particle.At(ip)\n",
    "    if abs(p.PID) < 10000:\n",
    "        continue\n",
    "    if p.Charge == 0:\n",
    "        continue\n",
    "    print(p.PID,p.Status,p.Charge,p.Mass)"
   ]
  },
  {
   "cell_type": "code",
   "execution_count": 24,
   "metadata": {},
   "outputs": [],
   "source": [
    "class Bla(object):\n",
    "\n",
    "    def __init__(self,x) -> None:\n",
    "        self.x = None\n",
    "        self.done = False\n",
    "        if x != 0:\n",
    "            self.x = x\n",
    "        else:\n",
    "            return\n",
    "        self.done = True"
   ]
  },
  {
   "cell_type": "code",
   "execution_count": 26,
   "metadata": {},
   "outputs": [
    {
     "name": "stdout",
     "output_type": "stream",
     "text": [
      "1 True\n"
     ]
    }
   ],
   "source": [
    "b = Bla(1)\n",
    "print(b.x,b.done)"
   ]
  },
  {
   "cell_type": "code",
   "execution_count": null,
   "metadata": {},
   "outputs": [],
   "source": []
  }
 ],
 "metadata": {
  "kernelspec": {
   "display_name": "Python 3",
   "language": "python",
   "name": "python3"
  },
  "language_info": {
   "codemirror_mode": {
    "name": "ipython",
    "version": 3
   },
   "file_extension": ".py",
   "mimetype": "text/x-python",
   "name": "python",
   "nbconvert_exporter": "python",
   "pygments_lexer": "ipython3",
   "version": "3.9.7"
  }
 },
 "nbformat": 4,
 "nbformat_minor": 2
}
