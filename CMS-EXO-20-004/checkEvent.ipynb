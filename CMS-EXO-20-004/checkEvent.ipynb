{
 "cells": [
  {
   "cell_type": "code",
   "execution_count": 1,
   "metadata": {},
   "outputs": [
    {
     "name": "stdout",
     "output_type": "stream",
     "text": [
      "Welcome to JupyROOT 6.30/02\n"
     ]
    },
    {
     "data": {
      "text/plain": [
       "True"
      ]
     },
     "execution_count": 1,
     "metadata": {},
     "output_type": "execute_result"
    }
   ],
   "source": [
    "import os,glob\n",
    "import numpy as np\n",
    "import pandas as pd\n",
    "import glob\n",
    "import pyslha\n",
    "import time\n",
    "import progressbar as P\n",
    "import matplotlib.pyplot as plt\n",
    "import os,glob\n",
    "import numpy as np\n",
    "import seaborn as sns\n",
    "from scipy.special import kn,zetac\n",
    "import pyslha\n",
    "import sys\n",
    "sys.path.append('../')\n",
    "from helper import getLLPs,getDisplacedJets\n",
    "sns.set_style('ticks',{'font.family':'serif', 'font.serif':'Times New Roman'})\n",
    "sns.set_context('paper', font_scale=1.8)\n",
    "sns.set_palette(sns.color_palette(\"Paired\"))\n",
    "\n",
    "delphesDir = os.path.abspath(\"../DelphesLLP\")\n",
    "os.environ['ROOT_INCLUDE_PATH'] = os.path.join(delphesDir,\"external\")\n",
    "\n",
    "import ROOT\n",
    "\n",
    "ROOT.gSystem.Load(os.path.join(delphesDir,\"libDelphes.so\"))\n",
    "\n",
    "ROOT.gInterpreter.Declare('#include \"classes/SortableObject.h\"')\n",
    "ROOT.gInterpreter.Declare('#include \"classes/DelphesClasses.h\"')\n",
    "ROOT.gInterpreter.Declare('#include \"external/ExRootAnalysis/ExRootTreeReader.h\"')\n"
   ]
  },
  {
   "cell_type": "code",
   "execution_count": 2,
   "metadata": {},
   "outputs": [],
   "source": [
    "inputFile = list(glob.glob('../eventData/pp2BB1j_cms_scan_New/Events/run_02/cdfo_*.root'))[0]"
   ]
  },
  {
   "cell_type": "code",
   "execution_count": 6,
   "metadata": {},
   "outputs": [],
   "source": [
    "f = ROOT.TFile(inputFile,'read')\n",
    "tree = f.Get(\"Delphes\")\n",
    "nevts = tree.GetEntries()\n",
    "\n",
    "for ievt in range(nevts):\n",
    "    tree.GetEntry(118)\n",
    "    jets = tree.Jet\n",
    "    llps = getLLPs(tree.bsm,tree.bsmDirectDaughters,tree.bsmFinalDaughters,mothers=tree.bsmMothers)\n",
    "    # llps = getLLPs(tree.bsm,tree.bsmDirectDaughters,[])\n",
    "    jetsDisp = getDisplacedJets(jets,llps)\n",
    "    missingET = tree.MissingET.At(0).MET\n",
    "    genmiss = tree.GenMissingET.At(0).MET\n",
    "    dmmiss = tree.DMMissingET.At(0).MET\n",
    "    break\n",
    "    if (jets.GetEntries() != jetsD.GetEntries()):\n",
    "        print(ievt)\n",
    "        break"
   ]
  },
  {
   "cell_type": "code",
   "execution_count": 7,
   "metadata": {},
   "outputs": [
    {
     "name": "stdout",
     "output_type": "stream",
     "text": [
      "[1000005 (106), -1000005 (106)]\n",
      "1000005 (106) -1.0\n",
      "-1000005 (106) 0.0\n"
     ]
    }
   ],
   "source": [
    "print(llps)\n",
    "for llp in llps:\n",
    "    print(llp,llp.getCharge())"
   ]
  },
  {
   "cell_type": "code",
   "execution_count": 45,
   "metadata": {},
   "outputs": [
    {
     "name": "stdout",
     "output_type": "stream",
     "text": [
      "52.73524475097656 21\n"
     ]
    }
   ],
   "source": [
    "for j in jets:\n",
    "    print(j.PT,j.Constituents.GetEntries())"
   ]
  },
  {
   "cell_type": "code",
   "execution_count": 48,
   "metadata": {},
   "outputs": [
    {
     "name": "stdout",
     "output_type": "stream",
     "text": [
      "1000522 1 123.52571105957031 0.4662858247756958 inf\n",
      "-1005113 1 152.25868225097656 1.4389843940734863 inf\n",
      "60.23372458249569\n"
     ]
    }
   ],
   "source": [
    "pTot = np.zeros(4)\n",
    "for llp in llps:\n",
    "    print(llp.PID,llp.Status,llp.PT,llp.Eta,llp.r_decay)\n",
    "    pTot += np.array([llp.Px,llp.Py,llp.Pz,llp.E])\n",
    "print(np.linalg.norm(pTot[:2]))"
   ]
  },
  {
   "cell_type": "code",
   "execution_count": 13,
   "metadata": {},
   "outputs": [],
   "source": [
    "for j in jetsDisp:\n",
    "    print(j.PT,j.Constituents.GetEntries())"
   ]
  },
  {
   "cell_type": "code",
   "execution_count": 31,
   "metadata": {},
   "outputs": [
    {
     "name": "stdout",
     "output_type": "stream",
     "text": [
      "\n",
      "JEts:\n",
      "29 15\n",
      "28 15\n",
      "314.2334289550781 60.73228073120117\n",
      "Const:\n",
      "321 0.5215311646461487 1 29.2\n",
      "-321 0.46100255846977234 -1 29.2\n",
      "211 2.2757747173309326 1 29.2\n",
      "  pT =  280.3249214858861\n",
      "ConstD:\n",
      "211 1.269769549369812 1 56.2\n",
      "-211 1.152583360671997 -1 56.2\n",
      "211 3.441673755645752 1 81.7\n",
      "  pT =  14.345142035633863\n",
      "\n",
      "JEts:\n",
      "31 10\n",
      "31 10\n",
      "161.031982421875 40.71505355834961\n",
      "Const:\n",
      "-321 2.121795654296875 -1 81.7\n",
      "211 3.441673755645752 1 81.7\n",
      "211 2.0287418365478516 1 135.0\n",
      "211 3.5668108463287354 1 81.7\n",
      "  pT =  159.78955062355158\n",
      "ConstD:\n",
      "  pT =  3.778586475173732\n",
      "\n",
      "JEts:\n",
      "14 9\n",
      "14 9\n",
      "69.44495391845703 32.48310089111328\n",
      "Const:\n",
      "  pT =  103.66892563101925\n",
      "ConstD:\n",
      "211 3.5668108463287354 1 81.7\n",
      "  pT =  34.9850728696782\n"
     ]
    }
   ],
   "source": [
    "for ij in range(jets.GetEntries()):\n",
    "    print('\\nJEts:')\n",
    "    j = jets.At(ij)\n",
    "    jD = jetsD.At(ij)\n",
    "    print(j.Particles.GetEntries(),jD.Particles.GetEntries())\n",
    "    print(j.Constituents.GetEntries(),jD.Constituents.GetEntries())\n",
    "    print(j.PT,jD.PT)\n",
    "    print('Const:')\n",
    "    pTot = np.zeros(4)\n",
    "    for ic in range(j.Particles.GetEntries()):\n",
    "        p = j.Particles.At(ic)\n",
    "        pTot += np.array([p.E,p.Px,p.Py,p.Pz])\n",
    "        rdisp = np.sqrt(p.X**2 + p.Y**2)\n",
    "        if rdisp < 2.0:\n",
    "            continue\n",
    "        print(p.PID,p.PT,p.Charge,'%1.1f' %(rdisp))\n",
    "    print('  pT = ',np.sqrt(np.dot(pTot[1:3],pTot[1:3])))\n",
    "    print('ConstD:')\n",
    "    pTot = np.zeros(4)\n",
    "    for ic in range(jD.Particles.GetEntries()):\n",
    "        p = jD.Particles.At(ic)\n",
    "        pTot += np.array([p.E,p.Px,p.Py,p.Pz])\n",
    "        rdisp = np.sqrt(p.X**2 + p.Y**2)\n",
    "        if rdisp < 4.0:\n",
    "            continue\n",
    "        print(p.PID,p.PT,p.Charge,'%1.1f' %(rdisp))    \n",
    "    print('  pT = ',np.sqrt(np.dot(pTot[1:3],pTot[1:3])))"
   ]
  },
  {
   "cell_type": "code",
   "execution_count": 18,
   "metadata": {},
   "outputs": [
    {
     "name": "stdout",
     "output_type": "stream",
     "text": [
      "PT,Eta,Phi = 33.32, -4.31, -0.18\n"
     ]
    }
   ],
   "source": []
  },
  {
   "cell_type": "code",
   "execution_count": 17,
   "metadata": {},
   "outputs": [
    {
     "name": "stdout",
     "output_type": "stream",
     "text": [
      "-5 PT,Eta,Phi = 1.39, 0.52, -0.08\n",
      "1000022 PT,Eta,Phi = 39.78, 2.38, 1.31\n",
      "5 PT,Eta,Phi = 2.92, 1.69, -1.53\n",
      "1000022 PT,Eta,Phi = 64.36, -0.05, -2.44\n"
     ]
    }
   ],
   "source": [
    "for llp in llps:\n",
    "    for d in llp.directDaughters:\n",
    "        print(d.PID,'PT,Eta,Phi = %1.2f, %1.2f, %1.2f' %(d.PT,d.Eta,d.Phi))"
   ]
  },
  {
   "cell_type": "code",
   "execution_count": null,
   "metadata": {},
   "outputs": [],
   "source": []
  }
 ],
 "metadata": {
  "kernelspec": {
   "display_name": "Python 3 (ipykernel)",
   "language": "python",
   "name": "python3"
  },
  "language_info": {
   "codemirror_mode": {
    "name": "ipython",
    "version": 3
   },
   "file_extension": ".py",
   "mimetype": "text/x-python",
   "name": "python",
   "nbconvert_exporter": "python",
   "pygments_lexer": "ipython3",
   "version": "3.10.12"
  }
 },
 "nbformat": 4,
 "nbformat_minor": 4
}
