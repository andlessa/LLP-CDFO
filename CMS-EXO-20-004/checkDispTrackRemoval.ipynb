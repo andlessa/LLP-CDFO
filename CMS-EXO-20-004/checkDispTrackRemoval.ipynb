{
 "cells": [
  {
   "cell_type": "code",
   "execution_count": 1,
   "metadata": {},
   "outputs": [
    {
     "name": "stdout",
     "output_type": "stream",
     "text": [
      "Welcome to JupyROOT 6.28/06\n"
     ]
    },
    {
     "data": {
      "text/plain": [
       "True"
      ]
     },
     "execution_count": 1,
     "metadata": {},
     "output_type": "execute_result"
    }
   ],
   "source": [
    "import os,glob\n",
    "import numpy as np\n",
    "import pandas as pd\n",
    "import glob\n",
    "import pyslha\n",
    "import time\n",
    "import progressbar as P\n",
    "import matplotlib.pyplot as plt\n",
    "import os,glob\n",
    "import numpy as np\n",
    "import seaborn as sns\n",
    "from scipy.special import kn,zetac\n",
    "import pyslha\n",
    "sns.set() #Set style\n",
    "sns.set_style('ticks',{'font.family':'serif', 'font.serif':'Times New Roman'})\n",
    "sns.set_context('paper', font_scale=1.8)\n",
    "sns.set_palette(sns.color_palette(\"Paired\"))\n",
    "\n",
    "delphesDir = os.path.abspath(\"../DelphesLLP\")\n",
    "os.environ['ROOT_INCLUDE_PATH'] = os.path.join(delphesDir,\"external\")\n",
    "\n",
    "import ROOT\n",
    "\n",
    "ROOT.gSystem.Load(os.path.join(delphesDir,\"libDelphes.so\"))\n",
    "\n",
    "ROOT.gInterpreter.Declare('#include \"classes/SortableObject.h\"')\n",
    "ROOT.gInterpreter.Declare('#include \"classes/DelphesClasses.h\"')\n",
    "ROOT.gInterpreter.Declare('#include \"external/ExRootAnalysis/ExRootTreeReader.h\"')\n"
   ]
  },
  {
   "cell_type": "code",
   "execution_count": 62,
   "metadata": {},
   "outputs": [],
   "source": [
    "# inputFile = '../pp2BB1j_cms_test/Events/run_02/cdfo_530_500.0_tau_5e-02_delphes_events.root'\n",
    "inputFile = '../DelphesLLP/test.root'\n",
    "inputFile2 = '../DelphesLLP/test_noDisp2.root'"
   ]
  },
  {
   "cell_type": "code",
   "execution_count": 63,
   "metadata": {},
   "outputs": [],
   "source": [
    "f = ROOT.TFile(inputFile,'read')\n",
    "tree = f.Get(\"Delphes\")\n",
    "nevts = tree.GetEntries()\n",
    "\n",
    "pTj1 = []\n",
    "for ievt in range(nevts):\n",
    "    tree.GetEntry(ievt)\n",
    "    jets = [tree.Jet.At(ij) for ij in range(tree.Jet.GetEntries())]\n",
    "    if len(jets) > 0:        \n",
    "        pTj1.append(max([j.PT for j in jets]))"
   ]
  },
  {
   "cell_type": "code",
   "execution_count": 64,
   "metadata": {},
   "outputs": [],
   "source": [
    "f = ROOT.TFile(inputFile2,'read')\n",
    "tree = f.Get(\"Delphes\")\n",
    "nevts = tree.GetEntries()\n",
    "\n",
    "pTj1B = []\n",
    "for ievt in range(nevts):\n",
    "    tree.GetEntry(ievt)\n",
    "    jets = [tree.Jet.At(ij) for ij in range(tree.Jet.GetEntries())]\n",
    "    if len(jets) > 0:        \n",
    "        pTj1B.append(max([j.PT for j in jets]))"
   ]
  },
  {
   "cell_type": "code",
   "execution_count": 65,
   "metadata": {},
   "outputs": [
    {
     "data": {
      "image/png": "[encoded data removed]",
      "text/plain": [
       "<Figure size 640x480 with 1 Axes>"
      ]
     },
     "metadata": {},
     "output_type": "display_data"
    }
   ],
   "source": [
    "bins = np.linspace(0.,500.,25)\n",
    "plt.hist(pTj1,bins=bins,label='jets',histtype='step',linewidth=3)\n",
    "plt.hist(pTj1B,bins=bins,label='jets PV',histtype='step',linewidth=3)\n",
    "plt.yscale('log')\n",
    "plt.legend()\n",
    "plt.show()"
   ]
  },
  {
   "cell_type": "code",
   "execution_count": null,
   "metadata": {},
   "outputs": [],
   "source": []
  },
  {
   "cell_type": "code",
   "execution_count": 66,
   "metadata": {},
   "outputs": [],
   "source": [
    "f = ROOT.TFile(inputFile,'read')\n",
    "tree = f.Get(\"Delphes\")\n",
    "ievt = 1\n",
    "tree.GetEntry(ievt)\n",
    "jets = [tree.Jet.At(ij) for ij in range(tree.Jet.GetEntries())]\n",
    "daughters = [tree.bsmDirectDaughters.At(ip) for ip in range(tree.bsmDirectDaughters.GetEntries())]\n",
    "\n",
    "f2 = ROOT.TFile(inputFile2,'read')\n",
    "tree2 = f2.Get(\"Delphes\")\n",
    "tree2.GetEntry(ievt)\n",
    "jets2 = [tree2.Jet.At(ij) for ij in range(tree2.Jet.GetEntries())]\n",
    "daughters2 = [tree2.bsmDirectDaughters.At(ip) for ip in range(tree2.bsmDirectDaughters.GetEntries())]"
   ]
  },
  {
   "cell_type": "code",
   "execution_count": 67,
   "metadata": {},
   "outputs": [
    {
     "name": "stdout",
     "output_type": "stream",
     "text": [
      "Jets (all):\n",
      "58.03624725341797 12 12\n",
      "eta = 0.11, phi = 1.90 \n",
      "\n",
      "32.78207778930664 9 7\n",
      "eta = -0.10, phi = 2.55 \n",
      "\n",
      "26.70466423034668 9 9\n",
      "eta = 0.98, phi = 1.88 \n",
      "\n",
      "\n",
      "Jets (PV):\n",
      "53.89353561401367 12 12\n",
      "eta = 0.11, phi = 1.90 \n",
      "\n",
      "37.55442810058594 9 7\n",
      "eta = -0.09, phi = 2.59 \n",
      "\n"
     ]
    }
   ],
   "source": [
    "print('Jets (all):')\n",
    "for j in jets:\n",
    "    print(j.PT,j.Particles.GetEntries(),j.Constituents.GetEntries())\n",
    "    print('eta = %1.2f, phi = %1.2f \\n' %(j.Eta,j.Phi))\n",
    "\n",
    "print('\\nJets (PV):')\n",
    "for j in jets2:\n",
    "    print(j.PT,j.Particles.GetEntries(),j.Constituents.GetEntries())\n",
    "    print('eta = %1.2f, phi = %1.2f \\n' %(j.Eta,j.Phi))\n"
   ]
  },
  {
   "cell_type": "code",
   "execution_count": 68,
   "metadata": {},
   "outputs": [
    {
     "name": "stdout",
     "output_type": "stream",
     "text": [
      "5 15.119561195373535 7.047347018033538\n",
      "eta = -1.27, phi = 0.14 \n",
      "\n",
      "1000022 497.3228759765625 7.047347018033538\n",
      "eta = -0.18, phi = -0.98 \n",
      "\n",
      "-5 28.778432846069336 8.3618081233167\n",
      "eta = 1.03, phi = 1.89 \n",
      "\n",
      "1000022 394.6347961425781 8.3618081233167\n",
      "eta = 0.24, phi = 2.24 \n",
      "\n"
     ]
    }
   ],
   "source": [
    "for d in daughters:\n",
    "    print(d.PID,d.PT,np.sqrt(d.X**2 + d.Y**2))\n",
    "    print('eta = %1.2f, phi = %1.2f \\n' %(d.Eta,d.Phi))"
   ]
  },
  {
   "cell_type": "code",
   "execution_count": 40,
   "metadata": {},
   "outputs": [
    {
     "name": "stdout",
     "output_type": "stream",
     "text": [
      "5 15.119561195373535 7.047347018033538\n",
      "1000022 497.3228759765625 7.047347018033538\n",
      "-5 28.778432846069336 8.3618081233167\n",
      "1000022 394.6347961425781 8.3618081233167\n"
     ]
    }
   ],
   "source": [
    "for d in daughters2:\n",
    "    print(d.PID,d.PT,np.sqrt(d.X**2 + d.Y**2))"
   ]
  },
  {
   "cell_type": "code",
   "execution_count": null,
   "metadata": {},
   "outputs": [],
   "source": []
  }
 ],
 "metadata": {
  "kernelspec": {
   "display_name": "Python 3 (ipykernel)",
   "language": "python",
   "name": "python3"
  },
  "language_info": {
   "codemirror_mode": {
    "name": "ipython",
    "version": 3
   },
   "file_extension": ".py",
   "mimetype": "text/x-python",
   "name": "python",
   "nbconvert_exporter": "python",
   "pygments_lexer": "ipython3",
   "version": "3.10.12"
  }
 },
 "nbformat": 4,
 "nbformat_minor": 4
}
