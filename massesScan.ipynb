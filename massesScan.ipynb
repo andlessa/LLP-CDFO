{
 "cells": [
  {
   "cell_type": "code",
   "execution_count": 2,
   "metadata": {},
   "outputs": [],
   "source": [
    "import numpy as np\n",
    "from matplotlib import pyplot as plt\n",
    "import pyslha\n",
    "import glob\n",
    "from nloSbottomXsec import xsecF"
   ]
  },
  {
   "cell_type": "code",
   "execution_count": 26,
   "metadata": {},
   "outputs": [
    {
     "name": "stdout",
     "output_type": "stream",
     "text": [
      "58\n"
     ]
    }
   ],
   "source": [
    "masses_tau = []\n",
    "lumi = 200.0\n",
    "nMax = 500000\n",
    "for f in glob.glob('./slha/*.slha'):\n",
    "    data = pyslha.readSLHAFile(f)\n",
    "    msb = data.blocks['MASS'][5000005]\n",
    "    mn1 = data.blocks['MASS'][5000022]\n",
    "    wsb = data.decays[5000005].totalwidth\n",
    "    tau_ns = 6.582e-16/wsb\n",
    "    xsec = xsecF(msb)\n",
    "    mcEvents = min(nMax,xsec*1e3*lumi)\n",
    "    masses_tau.append([mn1,msb,tau_ns,mcEvents])\n",
    "\n",
    "masses_tau = sorted(masses_tau)\n",
    "print(len(masses_tau))\n"
   ]
  },
  {
   "cell_type": "code",
   "execution_count": 27,
   "metadata": {},
   "outputs": [
    {
     "name": "stdout",
     "output_type": "stream",
     "text": [
      "[(100, 107.0, 1.1e+00), (100, 110.0, 7.2e-01), (200, 207.0, 1.3e+00), (200, 210.0, 8.8e-01), (200, 215.0, 3.5e-01), (200, 220.0, 1.1e-01), (300, 307.0, 1.3e+00), (300, 310.0, 8.4e-01), (300, 315.0, 3.6e-01), (300, 325.0, 7.0e-02), (400, 407.0, 1.3e+00), (400, 410.0, 7.9e-01), (400, 415.0, 3.4e-01), (400, 420.0, 1.8e-01), (400, 425.0, 9.9e-02), (500, 507.0, 1.3e+00), (500, 510.0, 7.2e-01), (500, 515.0, 3.1e-01), (500, 520.0, 1.7e-01), (500, 525.0, 1.0e-01), (500, 530.0, 4.8e-02), (600, 607.0, 1.3e+00), (600, 610.0, 6.7e-01), (600, 615.0, 2.9e-01), (600, 620.0, 1.6e-01), (600, 625.0, 9.4e-02), (700, 707.0, 1.3e+00), (700, 710.0, 6.1e-01), (700, 715.0, 2.6e-01), (700, 725.0, 8.5e-02), (700, 733.0, 2.1e-02), (800, 810.0, 5.6e-01), (800, 815.0, 2.3e-01), (800, 820.0, 1.3e-01), (800, 830.0, 4.0e-02), (900, 907.0, 1.2e+00), (900, 910.0, 5.1e-01), (900, 915.0, 2.1e-01), (900, 925.0, 6.4e-02), (1000, 1007.0, 1.1e+00), (1000, 1010.0, 4.6e-01), (1000, 1015.0, 1.8e-01), (1000, 1020.0, 9.6e-02), (1000, 1030.0, 1.0e-02), (1100, 1107.0, 1.1e+00), (1100, 1110.0, 4.2e-01), (1100, 1115.0, 1.6e-01), (1100, 1125.0, 3.8e-02), (1200, 1207.0, 1.0e+00), (1200, 1210.0, 3.7e-01), (1200, 1215.0, 1.4e-01), (1300, 1307.0, 9.3e-01), (1300, 1315.0, 1.1e-01), (1300, 1320.0, 3.9e-02), (1400, 1410.0, 2.8e-01), (1500, 1507.0, 7.5e-01), (1500, 1512.0, 1.2e-01), (1700, 1707.0, 4.8e-01)]\n"
     ]
    }
   ],
   "source": [
    "ptsIni = [(\"%1.0f\" %pt[0], \"%1.1f\" %pt[1], \"%1.1e\" %pt[2]) for pt in masses_tau]\n",
    "print(str(ptsIni).replace(\"'\", \"\"))"
   ]
  },
  {
   "cell_type": "code",
   "execution_count": 28,
   "metadata": {},
   "outputs": [
    {
     "name": "stdout",
     "output_type": "stream",
     "text": [
      "[(100, 107.0, 1.1e+00, 500000), (100, 110.0, 7.2e-01, 500000), (200, 207.0, 1.3e+00, 500000), (200, 210.0, 8.8e-01, 500000), (200, 215.0, 3.5e-01, 500000), (200, 220.0, 1.1e-01, 500000), (300, 307.0, 1.3e+00, 500000), (300, 310.0, 8.4e-01, 500000), (300, 315.0, 3.6e-01, 500000), (300, 325.0, 7.0e-02, 500000), (400, 407.0, 1.3e+00, 391599), (400, 410.0, 7.9e-01, 376000), (400, 415.0, 3.4e-01, 352000), (400, 420.0, 1.8e-01, 328000), (400, 425.0, 9.9e-02, 308000), (500, 507.0, 1.3e+00, 112440), (500, 510.0, 7.2e-01, 108600), (500, 515.0, 3.1e-01, 102600), (500, 520.0, 1.7e-01, 96800), (500, 525.0, 1.0e-01, 91600), (500, 530.0, 4.8e-02, 86600), (600, 607.0, 1.3e+00, 38280), (600, 610.0, 6.7e-01, 37200), (600, 615.0, 2.9e-01, 35400), (600, 620.0, 1.6e-01, 33600), (600, 625.0, 9.4e-02, 32000), (700, 707.0, 1.3e+00, 14696), (700, 710.0, 6.1e-01, 14300), (700, 715.0, 2.6e-01, 13660), (700, 725.0, 8.5e-02, 12480), (700, 733.0, 2.1e-02, 11628), (800, 810.0, 5.6e-01, 6000), (800, 815.0, 2.3e-01, 5760), (800, 820.0, 1.3e-01, 5520), (800, 830.0, 4.0e-02, 5080), (900, 907.0, 1.2e+00, 2760), (900, 910.0, 5.1e-01, 2700), (900, 915.0, 2.1e-01, 2580), (900, 925.0, 6.4e-02, 2400), (1000, 1007.0, 1.1e+00, 1298), (1000, 1010.0, 4.6e-01, 1270), (1000, 1015.0, 1.8e-01, 1226), (1000, 1020.0, 9.6e-02, 1182), (1000, 1030.0, 1.0e-02, 1100), (1100, 1107.0, 1.1e+00, 639), (1100, 1110.0, 4.2e-01, 626), (1100, 1115.0, 1.6e-01, 604), (1100, 1125.0, 3.8e-02, 564), (1200, 1207.0, 1.0e+00, 324), (1200, 1210.0, 3.7e-01, 318), (1200, 1215.0, 1.4e-01, 307), (1300, 1307.0, 9.3e-01, 169), (1300, 1315.0, 1.1e-01, 161), (1300, 1320.0, 3.9e-02, 156), (1400, 1410.0, 2.8e-01, 88), (1500, 1507.0, 7.5e-01, 49), (1500, 1512.0, 1.2e-01, 47), (1700, 1707.0, 4.8e-01, 15)]\n"
     ]
    }
   ],
   "source": [
    "ptsIni = [(\"%1.0f\" %pt[0], \"%1.1f\" %pt[1], \"%1.1e\" %pt[2], \"%i\" %pt[3]) for pt in masses_tau]\n",
    "print(str(ptsIni).replace(\"'\", \"\"))"
   ]
  },
  {
   "cell_type": "markdown",
   "metadata": {},
   "source": [
    "#### Split runs into at most 75k batches"
   ]
  },
  {
   "cell_type": "code",
   "execution_count": 29,
   "metadata": {},
   "outputs": [],
   "source": [
    "masses_tau_split = []\n",
    "for pt in masses_tau:\n",
    "    if pt[3] < 50000:\n",
    "        continue\n",
    "    nbatches = pt[3]/75000.\n",
    "    ntot = 0\n",
    "    for n in range(int(nbatches)+1):\n",
    "        nevts = min(75000,pt[3]-ntot)\n",
    "        if nevts <= 0:\n",
    "            continue\n",
    "        ntot += nevts\n",
    "        masses_tau_split.append([pt[0],pt[1],pt[2],nevts])"
   ]
  },
  {
   "cell_type": "code",
   "execution_count": 30,
   "metadata": {},
   "outputs": [
    {
     "name": "stdout",
     "output_type": "stream",
     "text": [
      "[(100, 107.0, 1.1e+00, 75000), (100, 107.0, 1.1e+00, 75000), (100, 107.0, 1.1e+00, 75000), (100, 107.0, 1.1e+00, 75000), (100, 107.0, 1.1e+00, 75000), (100, 107.0, 1.1e+00, 75000), (100, 107.0, 1.1e+00, 50000), (100, 110.0, 7.2e-01, 75000), (100, 110.0, 7.2e-01, 75000), (100, 110.0, 7.2e-01, 75000), (100, 110.0, 7.2e-01, 75000), (100, 110.0, 7.2e-01, 75000), (100, 110.0, 7.2e-01, 75000), (100, 110.0, 7.2e-01, 50000), (200, 207.0, 1.3e+00, 75000), (200, 207.0, 1.3e+00, 75000), (200, 207.0, 1.3e+00, 75000), (200, 207.0, 1.3e+00, 75000), (200, 207.0, 1.3e+00, 75000), (200, 207.0, 1.3e+00, 75000), (200, 207.0, 1.3e+00, 50000), (200, 210.0, 8.8e-01, 75000), (200, 210.0, 8.8e-01, 75000), (200, 210.0, 8.8e-01, 75000), (200, 210.0, 8.8e-01, 75000), (200, 210.0, 8.8e-01, 75000), (200, 210.0, 8.8e-01, 75000), (200, 210.0, 8.8e-01, 50000), (200, 215.0, 3.5e-01, 75000), (200, 215.0, 3.5e-01, 75000), (200, 215.0, 3.5e-01, 75000), (200, 215.0, 3.5e-01, 75000), (200, 215.0, 3.5e-01, 75000), (200, 215.0, 3.5e-01, 75000), (200, 215.0, 3.5e-01, 50000), (200, 220.0, 1.1e-01, 75000), (200, 220.0, 1.1e-01, 75000), (200, 220.0, 1.1e-01, 75000), (200, 220.0, 1.1e-01, 75000), (200, 220.0, 1.1e-01, 75000), (200, 220.0, 1.1e-01, 75000), (200, 220.0, 1.1e-01, 50000), (300, 307.0, 1.3e+00, 75000), (300, 307.0, 1.3e+00, 75000), (300, 307.0, 1.3e+00, 75000), (300, 307.0, 1.3e+00, 75000), (300, 307.0, 1.3e+00, 75000), (300, 307.0, 1.3e+00, 75000), (300, 307.0, 1.3e+00, 50000), (300, 310.0, 8.4e-01, 75000), (300, 310.0, 8.4e-01, 75000), (300, 310.0, 8.4e-01, 75000), (300, 310.0, 8.4e-01, 75000), (300, 310.0, 8.4e-01, 75000), (300, 310.0, 8.4e-01, 75000), (300, 310.0, 8.4e-01, 50000), (300, 315.0, 3.6e-01, 75000), (300, 315.0, 3.6e-01, 75000), (300, 315.0, 3.6e-01, 75000), (300, 315.0, 3.6e-01, 75000), (300, 315.0, 3.6e-01, 75000), (300, 315.0, 3.6e-01, 75000), (300, 315.0, 3.6e-01, 50000), (300, 325.0, 7.0e-02, 75000), (300, 325.0, 7.0e-02, 75000), (300, 325.0, 7.0e-02, 75000), (300, 325.0, 7.0e-02, 75000), (300, 325.0, 7.0e-02, 75000), (300, 325.0, 7.0e-02, 75000), (300, 325.0, 7.0e-02, 50000), (400, 407.0, 1.3e+00, 75000), (400, 407.0, 1.3e+00, 75000), (400, 407.0, 1.3e+00, 75000), (400, 407.0, 1.3e+00, 75000), (400, 407.0, 1.3e+00, 75000), (400, 407.0, 1.3e+00, 16599), (400, 410.0, 7.9e-01, 75000), (400, 410.0, 7.9e-01, 75000), (400, 410.0, 7.9e-01, 75000), (400, 410.0, 7.9e-01, 75000), (400, 410.0, 7.9e-01, 75000), (400, 410.0, 7.9e-01, 1000), (400, 415.0, 3.4e-01, 75000), (400, 415.0, 3.4e-01, 75000), (400, 415.0, 3.4e-01, 75000), (400, 415.0, 3.4e-01, 75000), (400, 415.0, 3.4e-01, 52000), (400, 420.0, 1.8e-01, 75000), (400, 420.0, 1.8e-01, 75000), (400, 420.0, 1.8e-01, 75000), (400, 420.0, 1.8e-01, 75000), (400, 420.0, 1.8e-01, 28000), (400, 425.0, 9.9e-02, 75000), (400, 425.0, 9.9e-02, 75000), (400, 425.0, 9.9e-02, 75000), (400, 425.0, 9.9e-02, 75000), (400, 425.0, 9.9e-02, 8000), (500, 507.0, 1.3e+00, 75000), (500, 507.0, 1.3e+00, 37440), (500, 510.0, 7.2e-01, 75000), (500, 510.0, 7.2e-01, 33600), (500, 515.0, 3.1e-01, 75000), (500, 515.0, 3.1e-01, 27600), (500, 520.0, 1.7e-01, 75000), (500, 520.0, 1.7e-01, 21800), (500, 525.0, 1.0e-01, 75000), (500, 525.0, 1.0e-01, 16600), (500, 530.0, 4.8e-02, 75000), (500, 530.0, 4.8e-02, 11600)]\n",
      "109\n"
     ]
    }
   ],
   "source": [
    "ptsIni = [(\"%1.0f\" %pt[0], \"%1.1f\" %pt[1], \"%1.1e\" %pt[2], \"%i\" %pt[3]) for pt in masses_tau_split]\n",
    "print(str(ptsIni).replace(\"'\", \"\"))\n",
    "print(len(masses_tau_split))"
   ]
  },
  {
   "cell_type": "code",
   "execution_count": 31,
   "metadata": {},
   "outputs": [
    {
     "data": {
      "image/png": "[encoded data removed]",
      "text/plain": [
       "<Figure size 640x480 with 1 Axes>"
      ]
     },
     "metadata": {},
     "output_type": "display_data"
    }
   ],
   "source": [
    "pts = np.array(masses_tau)\n",
    "mN1 = pts[:,0]\n",
    "deltaM = pts[:,1]-mN1\n",
    "plt.scatter(mN1,deltaM)\n",
    "# plt.xscale('log')\n",
    "# plt.xlim(1e-3,1e2)\n",
    "# plt.ylim(25.,2000.)\n",
    "plt.ylabel(r'$\\Delta m$ (GeV)')\n",
    "plt.xlabel(r'$m_{\\tilde \\chi_1^0}$ (GeV)')\n",
    "plt.title(r'$N = %i$' %len(pts))\n",
    "plt.show()"
   ]
  },
  {
   "cell_type": "code",
   "execution_count": null,
   "metadata": {},
   "outputs": [],
   "source": []
  }
 ],
 "metadata": {
  "kernelspec": {
   "display_name": "Python 3 (ipykernel)",
   "language": "python",
   "name": "python3"
  },
  "language_info": {
   "codemirror_mode": {
    "name": "ipython",
    "version": 3
   },
   "file_extension": ".py",
   "mimetype": "text/x-python",
   "name": "python",
   "nbconvert_exporter": "python",
   "pygments_lexer": "ipython3",
   "version": "3.10.12"
  }
 },
 "nbformat": 4,
 "nbformat_minor": 4
}
