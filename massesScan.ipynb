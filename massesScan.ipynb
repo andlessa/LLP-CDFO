{
 "cells": [
  {
   "cell_type": "code",
   "execution_count": 1,
   "metadata": {},
   "outputs": [],
   "source": [
    "import numpy as np\n",
    "from matplotlib import pyplot as plt\n",
    "import pyslha\n",
    "import glob\n",
    "from plotting.nloSbottomXsec import xsecF"
   ]
  },
  {
   "cell_type": "markdown",
   "metadata": {},
   "source": [
    "### Old Scan (Les Houches 2019)"
   ]
  },
  {
   "cell_type": "code",
   "execution_count": 2,
   "metadata": {},
   "outputs": [
    {
     "name": "stdout",
     "output_type": "stream",
     "text": [
      "0\n"
     ]
    }
   ],
   "source": [
    "masses_tau = []\n",
    "lumi = 200.0\n",
    "nMax = 500000\n",
    "for f in glob.glob('./slha/*.slha'):\n",
    "    data = pyslha.readSLHAFile(f)\n",
    "    msb = data.blocks['MASS'][5000005]\n",
    "    mn1 = data.blocks['MASS'][5000022]\n",
    "    wsb = data.decays[5000005].totalwidth\n",
    "    tau_ns = 6.582e-16/wsb\n",
    "    xsec = xsecF(msb)\n",
    "    mcEvents = min(nMax,xsec*1e3*lumi)\n",
    "    masses_tau.append([mn1,msb,tau_ns,mcEvents])\n",
    "\n",
    "masses_tau = sorted(masses_tau)\n",
    "print(len(masses_tau))\n"
   ]
  },
  {
   "cell_type": "code",
   "execution_count": 3,
   "metadata": {},
   "outputs": [
    {
     "ename": "IndexError",
     "evalue": "too many indices for array: array is 1-dimensional, but 2 were indexed",
     "output_type": "error",
     "traceback": [
      "\u001b[0;31m---------------------------------------------------------------------------\u001b[0m",
      "\u001b[0;31mIndexError\u001b[0m                                Traceback (most recent call last)",
      "Cell \u001b[0;32mIn[3], line 2\u001b[0m\n\u001b[1;32m      1\u001b[0m pts \u001b[38;5;241m=\u001b[39m np\u001b[38;5;241m.\u001b[39marray(masses_tau)\n\u001b[0;32m----> 2\u001b[0m mN1 \u001b[38;5;241m=\u001b[39m \u001b[43mpts\u001b[49m\u001b[43m[\u001b[49m\u001b[43m:\u001b[49m\u001b[43m,\u001b[49m\u001b[38;5;241;43m0\u001b[39;49m\u001b[43m]\u001b[49m\n\u001b[1;32m      3\u001b[0m deltaM \u001b[38;5;241m=\u001b[39m pts[:,\u001b[38;5;241m1\u001b[39m]\u001b[38;5;241m-\u001b[39mmN1\n\u001b[1;32m      4\u001b[0m plt\u001b[38;5;241m.\u001b[39mscatter(mN1,deltaM)\n",
      "\u001b[0;31mIndexError\u001b[0m: too many indices for array: array is 1-dimensional, but 2 were indexed"
     ]
    }
   ],
   "source": [
    "pts = np.array(masses_tau)\n",
    "mN1 = pts[:,0]\n",
    "deltaM = pts[:,1]-mN1\n",
    "plt.scatter(mN1,deltaM)\n",
    "# plt.xscale('log')\n",
    "# plt.xlim(1e-3,1e2)\n",
    "# plt.ylim(25.,2000.)\n",
    "plt.ylabel(r'$\\Delta m$ (GeV)')\n",
    "plt.xlabel(r'$m_{\\tilde \\chi_1^0}$ (GeV)')\n",
    "plt.title(r'$N = %i$' %len(pts))\n",
    "plt.show()"
   ]
  },
  {
   "cell_type": "code",
   "execution_count": null,
   "metadata": {},
   "outputs": [
    {
     "name": "stdout",
     "output_type": "stream",
     "text": [
      "[(100, 107.0, 1.1e+00), (100, 110.0, 7.2e-01), (200, 207.0, 1.3e+00), (200, 210.0, 8.8e-01), (200, 215.0, 3.5e-01), (200, 220.0, 1.1e-01), (300, 307.0, 1.3e+00), (300, 310.0, 8.4e-01), (300, 315.0, 3.6e-01), (300, 325.0, 7.0e-02), (400, 407.0, 1.3e+00), (400, 410.0, 7.9e-01), (400, 415.0, 3.4e-01), (400, 420.0, 1.8e-01), (400, 425.0, 9.9e-02), (500, 507.0, 1.3e+00), (500, 510.0, 7.2e-01), (500, 515.0, 3.1e-01), (500, 520.0, 1.7e-01), (500, 525.0, 1.0e-01), (500, 530.0, 4.8e-02), (600, 607.0, 1.3e+00), (600, 610.0, 6.7e-01), (600, 615.0, 2.9e-01), (600, 620.0, 1.6e-01), (600, 625.0, 9.4e-02), (700, 707.0, 1.3e+00), (700, 710.0, 6.1e-01), (700, 715.0, 2.6e-01), (700, 725.0, 8.5e-02), (700, 733.0, 2.1e-02), (800, 810.0, 5.6e-01), (800, 815.0, 2.3e-01), (800, 820.0, 1.3e-01), (800, 830.0, 4.0e-02), (900, 907.0, 1.2e+00), (900, 910.0, 5.1e-01), (900, 915.0, 2.1e-01), (900, 925.0, 6.4e-02), (1000, 1007.0, 1.1e+00), (1000, 1010.0, 4.6e-01), (1000, 1015.0, 1.8e-01), (1000, 1020.0, 9.6e-02), (1000, 1030.0, 1.0e-02), (1100, 1107.0, 1.1e+00), (1100, 1110.0, 4.2e-01), (1100, 1115.0, 1.6e-01), (1100, 1125.0, 3.8e-02), (1200, 1207.0, 1.0e+00), (1200, 1210.0, 3.7e-01), (1200, 1215.0, 1.4e-01), (1300, 1307.0, 9.3e-01), (1300, 1315.0, 1.1e-01), (1300, 1320.0, 3.9e-02), (1400, 1410.0, 2.8e-01), (1500, 1507.0, 7.5e-01), (1500, 1512.0, 1.2e-01), (1700, 1707.0, 4.8e-01)]\n"
     ]
    }
   ],
   "source": [
    "ptsIni = [(\"%1.0f\" %pt[0], \"%1.1f\" %pt[1], \"%1.1e\" %pt[2]) for pt in masses_tau]\n",
    "print(str(ptsIni).replace(\"'\", \"\"))"
   ]
  },
  {
   "cell_type": "code",
   "execution_count": null,
   "metadata": {},
   "outputs": [
    {
     "name": "stdout",
     "output_type": "stream",
     "text": [
      "[(100, 107.0, 1.1e+00, 500000), (100, 110.0, 7.2e-01, 500000), (200, 207.0, 1.3e+00, 500000), (200, 210.0, 8.8e-01, 500000), (200, 215.0, 3.5e-01, 500000), (200, 220.0, 1.1e-01, 500000), (300, 307.0, 1.3e+00, 500000), (300, 310.0, 8.4e-01, 500000), (300, 315.0, 3.6e-01, 500000), (300, 325.0, 7.0e-02, 500000), (400, 407.0, 1.3e+00, 391599), (400, 410.0, 7.9e-01, 376000), (400, 415.0, 3.4e-01, 352000), (400, 420.0, 1.8e-01, 328000), (400, 425.0, 9.9e-02, 308000), (500, 507.0, 1.3e+00, 112440), (500, 510.0, 7.2e-01, 108600), (500, 515.0, 3.1e-01, 102600), (500, 520.0, 1.7e-01, 96800), (500, 525.0, 1.0e-01, 91600), (500, 530.0, 4.8e-02, 86600), (600, 607.0, 1.3e+00, 38280), (600, 610.0, 6.7e-01, 37200), (600, 615.0, 2.9e-01, 35400), (600, 620.0, 1.6e-01, 33600), (600, 625.0, 9.4e-02, 32000), (700, 707.0, 1.3e+00, 14696), (700, 710.0, 6.1e-01, 14300), (700, 715.0, 2.6e-01, 13660), (700, 725.0, 8.5e-02, 12480), (700, 733.0, 2.1e-02, 11628), (800, 810.0, 5.6e-01, 6000), (800, 815.0, 2.3e-01, 5760), (800, 820.0, 1.3e-01, 5520), (800, 830.0, 4.0e-02, 5080), (900, 907.0, 1.2e+00, 2760), (900, 910.0, 5.1e-01, 2700), (900, 915.0, 2.1e-01, 2580), (900, 925.0, 6.4e-02, 2400), (1000, 1007.0, 1.1e+00, 1298), (1000, 1010.0, 4.6e-01, 1270), (1000, 1015.0, 1.8e-01, 1226), (1000, 1020.0, 9.6e-02, 1182), (1000, 1030.0, 1.0e-02, 1100), (1100, 1107.0, 1.1e+00, 639), (1100, 1110.0, 4.2e-01, 626), (1100, 1115.0, 1.6e-01, 604), (1100, 1125.0, 3.8e-02, 564), (1200, 1207.0, 1.0e+00, 324), (1200, 1210.0, 3.7e-01, 318), (1200, 1215.0, 1.4e-01, 307), (1300, 1307.0, 9.3e-01, 169), (1300, 1315.0, 1.1e-01, 161), (1300, 1320.0, 3.9e-02, 156), (1400, 1410.0, 2.8e-01, 88), (1500, 1507.0, 7.5e-01, 49), (1500, 1512.0, 1.2e-01, 47), (1700, 1707.0, 4.8e-01, 15)]\n"
     ]
    }
   ],
   "source": [
    "ptsIni = [(\"%1.0f\" %pt[0], \"%1.1f\" %pt[1], \"%1.1e\" %pt[2], \"%i\" %pt[3]) for pt in masses_tau]\n",
    "print(str(ptsIni).replace(\"'\", \"\"))"
   ]
  },
  {
   "cell_type": "markdown",
   "metadata": {},
   "source": [
    "#### Split runs into at most 75k batches"
   ]
  },
  {
   "cell_type": "code",
   "execution_count": null,
   "metadata": {},
   "outputs": [],
   "source": [
    "masses_tau_split = []\n",
    "for pt in masses_tau:\n",
    "    if pt[3] < 50000:\n",
    "        continue\n",
    "    nbatches = pt[3]/75000.\n",
    "    ntot = 0\n",
    "    for n in range(int(nbatches)+1):\n",
    "        nevts = min(75000,pt[3]-ntot)\n",
    "        if nevts <= 0:\n",
    "            continue\n",
    "        ntot += nevts\n",
    "        masses_tau_split.append([pt[0],pt[1],pt[2],nevts])"
   ]
  },
  {
   "cell_type": "code",
   "execution_count": null,
   "metadata": {},
   "outputs": [
    {
     "name": "stdout",
     "output_type": "stream",
     "text": [
      "[(100, 107.0, 1.1e+00, 75000), (100, 107.0, 1.1e+00, 75000), (100, 107.0, 1.1e+00, 75000), (100, 107.0, 1.1e+00, 75000), (100, 107.0, 1.1e+00, 75000), (100, 107.0, 1.1e+00, 75000), (100, 107.0, 1.1e+00, 50000), (100, 110.0, 7.2e-01, 75000), (100, 110.0, 7.2e-01, 75000), (100, 110.0, 7.2e-01, 75000), (100, 110.0, 7.2e-01, 75000), (100, 110.0, 7.2e-01, 75000), (100, 110.0, 7.2e-01, 75000), (100, 110.0, 7.2e-01, 50000), (200, 207.0, 1.3e+00, 75000), (200, 207.0, 1.3e+00, 75000), (200, 207.0, 1.3e+00, 75000), (200, 207.0, 1.3e+00, 75000), (200, 207.0, 1.3e+00, 75000), (200, 207.0, 1.3e+00, 75000), (200, 207.0, 1.3e+00, 50000), (200, 210.0, 8.8e-01, 75000), (200, 210.0, 8.8e-01, 75000), (200, 210.0, 8.8e-01, 75000), (200, 210.0, 8.8e-01, 75000), (200, 210.0, 8.8e-01, 75000), (200, 210.0, 8.8e-01, 75000), (200, 210.0, 8.8e-01, 50000), (200, 215.0, 3.5e-01, 75000), (200, 215.0, 3.5e-01, 75000), (200, 215.0, 3.5e-01, 75000), (200, 215.0, 3.5e-01, 75000), (200, 215.0, 3.5e-01, 75000), (200, 215.0, 3.5e-01, 75000), (200, 215.0, 3.5e-01, 50000), (200, 220.0, 1.1e-01, 75000), (200, 220.0, 1.1e-01, 75000), (200, 220.0, 1.1e-01, 75000), (200, 220.0, 1.1e-01, 75000), (200, 220.0, 1.1e-01, 75000), (200, 220.0, 1.1e-01, 75000), (200, 220.0, 1.1e-01, 50000), (300, 307.0, 1.3e+00, 75000), (300, 307.0, 1.3e+00, 75000), (300, 307.0, 1.3e+00, 75000), (300, 307.0, 1.3e+00, 75000), (300, 307.0, 1.3e+00, 75000), (300, 307.0, 1.3e+00, 75000), (300, 307.0, 1.3e+00, 50000), (300, 310.0, 8.4e-01, 75000), (300, 310.0, 8.4e-01, 75000), (300, 310.0, 8.4e-01, 75000), (300, 310.0, 8.4e-01, 75000), (300, 310.0, 8.4e-01, 75000), (300, 310.0, 8.4e-01, 75000), (300, 310.0, 8.4e-01, 50000), (300, 315.0, 3.6e-01, 75000), (300, 315.0, 3.6e-01, 75000), (300, 315.0, 3.6e-01, 75000), (300, 315.0, 3.6e-01, 75000), (300, 315.0, 3.6e-01, 75000), (300, 315.0, 3.6e-01, 75000), (300, 315.0, 3.6e-01, 50000), (300, 325.0, 7.0e-02, 75000), (300, 325.0, 7.0e-02, 75000), (300, 325.0, 7.0e-02, 75000), (300, 325.0, 7.0e-02, 75000), (300, 325.0, 7.0e-02, 75000), (300, 325.0, 7.0e-02, 75000), (300, 325.0, 7.0e-02, 50000), (400, 407.0, 1.3e+00, 75000), (400, 407.0, 1.3e+00, 75000), (400, 407.0, 1.3e+00, 75000), (400, 407.0, 1.3e+00, 75000), (400, 407.0, 1.3e+00, 75000), (400, 407.0, 1.3e+00, 16599), (400, 410.0, 7.9e-01, 75000), (400, 410.0, 7.9e-01, 75000), (400, 410.0, 7.9e-01, 75000), (400, 410.0, 7.9e-01, 75000), (400, 410.0, 7.9e-01, 75000), (400, 410.0, 7.9e-01, 1000), (400, 415.0, 3.4e-01, 75000), (400, 415.0, 3.4e-01, 75000), (400, 415.0, 3.4e-01, 75000), (400, 415.0, 3.4e-01, 75000), (400, 415.0, 3.4e-01, 52000), (400, 420.0, 1.8e-01, 75000), (400, 420.0, 1.8e-01, 75000), (400, 420.0, 1.8e-01, 75000), (400, 420.0, 1.8e-01, 75000), (400, 420.0, 1.8e-01, 28000), (400, 425.0, 9.9e-02, 75000), (400, 425.0, 9.9e-02, 75000), (400, 425.0, 9.9e-02, 75000), (400, 425.0, 9.9e-02, 75000), (400, 425.0, 9.9e-02, 8000), (500, 507.0, 1.3e+00, 75000), (500, 507.0, 1.3e+00, 37440), (500, 510.0, 7.2e-01, 75000), (500, 510.0, 7.2e-01, 33600), (500, 515.0, 3.1e-01, 75000), (500, 515.0, 3.1e-01, 27600), (500, 520.0, 1.7e-01, 75000), (500, 520.0, 1.7e-01, 21800), (500, 525.0, 1.0e-01, 75000), (500, 525.0, 1.0e-01, 16600), (500, 530.0, 4.8e-02, 75000), (500, 530.0, 4.8e-02, 11600)]\n",
      "109\n"
     ]
    }
   ],
   "source": [
    "ptsIni = [(\"%1.0f\" %pt[0], \"%1.1f\" %pt[1], \"%1.1e\" %pt[2], \"%i\" %pt[3]) for pt in masses_tau_split]\n",
    "print(str(ptsIni).replace(\"'\", \"\"))\n",
    "print(len(masses_tau_split))"
   ]
  },
  {
   "cell_type": "markdown",
   "metadata": {},
   "source": [
    "### New Scan"
   ]
  },
  {
   "cell_type": "code",
   "execution_count": 2,
   "metadata": {},
   "outputs": [],
   "source": [
    "data = np.genfromtxt('./CDFOdata_2112_01499v3_Fig9.dat',skip_header=7)"
   ]
  },
  {
   "cell_type": "code",
   "execution_count": 5,
   "metadata": {},
   "outputs": [
    {
     "name": "stdout",
     "output_type": "stream",
     "text": [
      "438\n"
     ]
    }
   ],
   "source": [
    "masses_tauNew = []\n",
    "lumi = 50.0\n",
    "nMax = 500000\n",
    "for pt in data:\n",
    "    msb = pt[2]\n",
    "    mn1 = pt[0]\n",
    "    tau_ns = 1e9*pt[4]/3e8\n",
    "    xsec = xsecF(msb)\n",
    "    mcEvents = min(nMax,xsec*1e3*lumi)\n",
    "    masses_tauNew.append([mn1,msb,tau_ns,mcEvents])\n",
    "\n",
    "masses_tauNew = sorted(masses_tauNew)\n",
    "print(len(masses_tauNew))\n",
    "ptsNew = np.array(masses_tauNew)\n"
   ]
  },
  {
   "cell_type": "code",
   "execution_count": null,
   "metadata": {},
   "outputs": [
    {
     "data": {
      "image/png": "[encoded data removed]",
      "text/plain": [
       "<Figure size 640x480 with 1 Axes>"
      ]
     },
     "metadata": {},
     "output_type": "display_data"
    }
   ],
   "source": [
    "\n",
    "mN1 = ptsNew[:,0]\n",
    "deltaM = ptsNew[:,1]-mN1\n",
    "plt.scatter(mN1,deltaM,label='New Points')\n",
    "plt.scatter(pts[:,0],pts[:,1]-pts[:,0],c='red',label='Old Points',alpha=0.5)\n",
    "plt.legend()\n",
    "# plt.xscale('log')\n",
    "# plt.xlim(1e-3,1e2)\n",
    "# plt.ylim(25.,2000.)\n",
    "plt.ylabel(r'$\\Delta m$ (GeV)')\n",
    "plt.xlabel(r'$m_{\\tilde \\chi_1^0}$ (GeV)')\n",
    "plt.title(r'$N = %i$' %len(ptsNew))\n",
    "plt.show()"
   ]
  },
  {
   "cell_type": "code",
   "execution_count": 6,
   "metadata": {},
   "outputs": [
    {
     "name": "stdout",
     "output_type": "stream",
     "text": [
      "210\n"
     ]
    }
   ],
   "source": [
    "ptsNewLight = ptsNew[ptsNew[:,1] < 1000.]\n",
    "print(len(ptsNewLight))"
   ]
  },
  {
   "cell_type": "code",
   "execution_count": 21,
   "metadata": {},
   "outputs": [
    {
     "name": "stdout",
     "output_type": "stream",
     "text": [
      "156\n",
      "[(100.00, 104.75, 5.66e+00), (100.00, 105.00, 3.98e+00), (100.00, 105.08, 3.75e+00), (100.00, 105.41, 3.09e+00), (100.00, 105.86, 2.52e+00), (100.00, 106.74, 1.79e+00), (100.00, 108.40, 1.05e+00), (1000.00, 1004.75, 1.02e+01), (1000.00, 1005.00, 4.63e+00), (1000.00, 1005.06, 4.28e+00), (1000.00, 1005.36, 3.13e+00), (1000.00, 1005.67, 2.52e+00), (1000.00, 1005.97, 2.10e+00), (1000.00, 1006.28, 1.80e+00), (1000.00, 1006.58, 1.56e+00), (1000.00, 1007.19, 1.21e+00), (1100.00, 1104.75, 1.04e+01), (1100.00, 1105.00, 4.62e+00), (1100.00, 1105.61, 2.55e+00), (1100.00, 1106.48, 1.59e+00), (1200.00, 1204.75, 1.05e+01), (1200.00, 1205.00, 4.58e+00), (1200.00, 1205.55, 2.60e+00), (1200.00, 1206.36, 1.62e+00), (1200.00, 1207.43, 1.01e+00), (125.00, 129.75, 6.10e+00), (125.00, 130.00, 4.11e+00), (125.00, 130.15, 3.68e+00), (125.00, 130.56, 2.94e+00), (125.00, 131.09, 2.32e+00), (125.00, 132.17, 1.57e+00), (1300.00, 1304.75, 1.05e+01), (1300.00, 1305.00, 4.50e+00), (1300.00, 1305.49, 2.66e+00), (1300.00, 1306.22, 1.67e+00), (1300.00, 1307.20, 1.06e+00), (1400.00, 1404.75, 1.06e+01), (1400.00, 1405.00, 4.47e+00), (1400.00, 1405.42, 2.76e+00), (1400.00, 1406.08, 1.75e+00), (1400.00, 1406.97, 1.12e+00), (150.00, 154.75, 6.50e+00), (150.00, 155.00, 4.23e+00), (150.00, 155.22, 3.60e+00), (150.00, 155.68, 2.80e+00), (150.00, 156.30, 2.15e+00), (150.00, 157.54, 1.40e+00), (1500.00, 1504.75, 1.03e+01), (1500.00, 1505.00, 4.31e+00), (1500.00, 1505.34, 2.82e+00), (1500.00, 1505.94, 1.82e+00), (1500.00, 1506.73, 1.19e+00), (1600.00, 1604.75, 1.04e+01), (1600.00, 1605.00, 4.30e+00), (1600.00, 1605.27, 2.99e+00), (1600.00, 1605.79, 1.94e+00), (1600.00, 1606.49, 1.29e+00), (1700.00, 1704.75, 1.02e+01), (1700.00, 1705.00, 4.17e+00), (1700.00, 1705.20, 3.12e+00), (1700.00, 1705.66, 2.05e+00), (1700.00, 1706.26, 1.39e+00), (1800.00, 1804.75, 1.00e+01), (1800.00, 1805.00, 4.04e+00), (1800.00, 1805.14, 3.25e+00), (1800.00, 1805.53, 2.17e+00), (1800.00, 1806.05, 1.49e+00), (200.00, 204.75, 7.15e+00), (200.00, 205.00, 4.39e+00), (200.00, 205.32, 3.44e+00), (200.00, 205.90, 2.56e+00), (200.00, 206.66, 1.88e+00), (200.00, 208.19, 1.16e+00), (2000.00, 2004.75, 9.83e+00), (2000.00, 2005.00, 3.87e+00), (2000.00, 2005.68, 1.77e+00), (2200.00, 2204.75, 9.22e+00), (2200.00, 2205.00, 3.54e+00), (2200.00, 2205.39, 2.06e+00), (2400.00, 2404.75, 8.21e+00), (2400.00, 2405.00, 3.07e+00), (2400.00, 2405.15, 2.35e+00), (250.00, 254.75, 7.64e+00), (250.00, 255.00, 4.49e+00), (250.00, 255.41, 3.28e+00), (250.00, 256.07, 2.36e+00), (250.00, 256.96, 1.68e+00), (2500.00, 2504.75, 7.47e+00), (2500.00, 2505.00, 2.75e+00), (2500.00, 2505.05, 2.49e+00), (2600.00, 2604.75, 6.58e+00), (2600.00, 2604.96, 2.62e+00), (2600.00, 2605.00, 2.36e+00), (2680.00, 2684.75, 5.70e+00), (2680.00, 2684.89, 2.71e+00), (2680.00, 2685.00, 1.99e+00), (2735.00, 2739.75, 4.97e+00), (2735.00, 2739.84, 2.76e+00), (2735.00, 2740.00, 1.67e+00), (2735.00, 2740.21, 1.07e+00), (2775.00, 2779.75, 4.35e+00), (2775.00, 2779.81, 2.77e+00), (2775.00, 2780.00, 1.38e+00), (2775.00, 2780.05, 1.21e+00), (2800.00, 2804.75, 3.88e+00), (2800.00, 2804.79, 2.74e+00), (2800.00, 2804.95, 1.33e+00), (2800.00, 2805.00, 1.13e+00), (2822.00, 2826.75, 3.38e+00), (2833.00, 2837.75, 3.08e+00), (2840.00, 2844.75, 2.87e+00), (2845.00, 2849.75, 2.70e+00), (2848.00, 2852.75, 2.59e+00), (300.00, 304.75, 8.09e+00), (300.00, 305.00, 4.58e+00), (300.00, 305.49, 3.16e+00), (300.00, 306.22, 2.21e+00), (300.00, 307.20, 1.53e+00), (350.00, 354.75, 8.38e+00), (350.00, 355.00, 4.62e+00), (350.00, 355.55, 3.04e+00), (350.00, 356.34, 2.08e+00), (350.00, 357.40, 1.41e+00), (400.00, 404.75, 8.66e+00), (400.00, 405.00, 4.66e+00), (400.00, 405.60, 2.95e+00), (400.00, 406.44, 1.97e+00), (400.00, 407.57, 1.31e+00), (450.00, 454.75, 8.91e+00), (450.00, 455.00, 4.69e+00), (450.00, 455.64, 2.86e+00), (450.00, 456.53, 1.89e+00), (450.00, 457.71, 1.23e+00), (500.00, 504.75, 9.20e+00), (500.00, 505.00, 4.74e+00), (500.00, 505.67, 2.80e+00), (500.00, 506.59, 1.82e+00), (500.00, 507.82, 1.17e+00), (600.00, 604.75, 9.55e+00), (600.00, 605.00, 4.75e+00), (600.00, 605.71, 2.68e+00), (600.00, 606.68, 1.70e+00), (600.00, 607.96, 1.08e+00), (700.00, 704.75, 9.75e+00), (700.00, 705.00, 4.72e+00), (700.00, 705.73, 2.60e+00), (700.00, 706.71, 1.63e+00), (700.00, 708.02, 1.02e+00), (800.00, 804.75, 9.92e+00), (800.00, 805.00, 4.69e+00), (800.00, 805.73, 2.54e+00), (800.00, 806.70, 1.58e+00), (900.00, 904.75, 1.02e+01), (900.00, 905.00, 4.71e+00), (900.00, 905.70, 2.53e+00), (900.00, 906.66, 1.57e+00)]\n"
     ]
    }
   ],
   "source": [
    "ptsNewLong = ptsNew[ptsNew[:,2] > 1.0]\n",
    "print(len(ptsNewLong))\n",
    "ptsIni = sorted([(\"%1.2f\" %pt[0], \"%1.2f\" %pt[1], \"%1.2e\" %pt[2]) for pt in ptsNewLong])\n",
    "print(str(ptsIni).replace(\"'\", \"\"))"
   ]
  },
  {
   "cell_type": "code",
   "execution_count": null,
   "metadata": {},
   "outputs": [
    {
     "name": "stdout",
     "output_type": "stream",
     "text": [
      "[(100.00, 104.75, 5.66e+00), (100.00, 105.00, 3.98e+00), (100.00, 105.08, 3.75e+00), (100.00, 105.41, 3.09e+00), (100.00, 105.86, 2.52e+00), (100.00, 106.74, 1.79e+00), (100.00, 108.40, 1.05e+00), (100.00, 110.28, 6.00e-01), (100.00, 111.94, 3.49e-01), (100.00, 113.61, 1.77e-01), (100.00, 114.71, 9.01e-02), (100.00, 115.27, 5.15e-02), (100.00, 115.49, 3.64e-02), (100.00, 115.71, 2.15e-02), (100.00, 115.82, 1.40e-02), (125.00, 129.75, 6.10e+00), (125.00, 130.00, 4.11e+00), (125.00, 130.15, 3.68e+00), (125.00, 130.56, 2.94e+00), (125.00, 131.09, 2.32e+00), (125.00, 132.17, 1.57e+00), (125.00, 134.18, 8.78e-01), (125.00, 136.46, 4.97e-01), (125.00, 138.48, 2.92e-01), (125.00, 140.49, 1.49e-01), (125.00, 141.83, 7.63e-02), (125.00, 142.50, 4.30e-02), (125.00, 142.77, 2.99e-02), (125.00, 143.04, 1.68e-02), (125.00, 143.18, 1.02e-02), (150.00, 154.75, 6.50e+00), (150.00, 155.00, 4.23e+00), (150.00, 155.22, 3.60e+00), (150.00, 155.68, 2.80e+00), (150.00, 156.30, 2.15e+00), (150.00, 157.54, 1.40e+00), (150.00, 159.87, 7.52e-01), (150.00, 162.51, 4.20e-01), (150.00, 164.84, 2.49e-01), (150.00, 167.17, 1.29e-01), (150.00, 168.72, 6.63e-02), (150.00, 169.50, 3.72e-02), (150.00, 169.81, 2.55e-02), (150.00, 170.12, 1.38e-02), (150.00, 170.28, 7.93e-03), (200.00, 204.75, 7.15e+00), (200.00, 205.00, 4.39e+00), (200.00, 205.32, 3.44e+00), (200.00, 205.90, 2.56e+00), (200.00, 206.66, 1.88e+00), (200.00, 208.19, 1.16e+00), (200.00, 211.06, 5.83e-01), (200.00, 214.31, 3.17e-01), (200.00, 217.17, 1.90e-01), (200.00, 220.04, 1.02e-01), (200.00, 221.95, 5.30e-02), (200.00, 222.91, 2.96e-02), (200.00, 223.29, 2.00e-02), (200.00, 223.67, 1.03e-02), (200.00, 223.86, 5.40e-03), (250.00, 254.75, 7.64e+00), (250.00, 255.00, 4.49e+00), (250.00, 255.41, 3.28e+00), (250.00, 256.07, 2.36e+00), (250.00, 256.96, 1.68e+00), (250.00, 258.72, 9.85e-01), (250.00, 262.03, 4.74e-01), (250.00, 265.78, 2.52e-01), (250.00, 269.09, 1.53e-01), (250.00, 272.40, 8.38e-02), (250.00, 274.61, 4.45e-02), (250.00, 275.71, 2.48e-02), (250.00, 276.16, 1.67e-02), (250.00, 276.60, 8.37e-03), (250.00, 276.82, 4.00e-03), (300.00, 304.75, 8.09e+00), (300.00, 305.00, 4.58e+00), (300.00, 305.49, 3.16e+00), (300.00, 306.22, 2.21e+00), (300.00, 307.20, 1.53e+00), (300.00, 309.16, 8.66e-01), (300.00, 312.84, 4.01e-01), (300.00, 317.00, 2.09e-01), (300.00, 320.68, 1.27e-01), (300.00, 324.36, 7.16e-02), (300.00, 326.81, 3.87e-02), (300.00, 328.03, 2.17e-02), (300.00, 328.52, 1.46e-02), (300.00, 329.01, 7.14e-03), (300.00, 329.26, 3.26e-03), (350.00, 354.75, 8.38e+00), (350.00, 355.00, 4.62e+00), (350.00, 355.55, 3.04e+00), (350.00, 356.34, 2.08e+00), (350.00, 357.40, 1.41e+00), (350.00, 359.53, 7.75e-01), (350.00, 363.51, 3.48e-01), (350.00, 368.02, 1.79e-01), (350.00, 372.01, 1.09e-01), (350.00, 375.99, 6.25e-02), (350.00, 378.64, 3.44e-02), (350.00, 379.97, 1.94e-02), (350.00, 380.50, 1.30e-02), (350.00, 381.03, 6.24e-03), (350.00, 381.30, 2.77e-03), (400.00, 404.75, 8.66e+00), (400.00, 405.00, 4.66e+00), (400.00, 405.60, 2.95e+00), (400.00, 406.44, 1.97e+00), (400.00, 407.57, 1.31e+00), (400.00, 409.83, 7.05e-01), (400.00, 414.06, 3.08e-01), (400.00, 418.86, 1.56e-01), (400.00, 423.10, 9.51e-02), (400.00, 427.33, 5.55e-02), (400.00, 430.15, 3.11e-02), (400.00, 431.56, 1.76e-02), (400.00, 432.13, 1.18e-02), (400.00, 432.69, 5.67e-03), (400.00, 432.98, 2.44e-03), (450.00, 454.75, 8.91e+00), (450.00, 455.00, 4.69e+00), (450.00, 455.64, 2.86e+00), (450.00, 456.53, 1.89e+00), (450.00, 457.71, 1.23e+00), (450.00, 460.08, 6.49e-01), (450.00, 464.51, 2.78e-01), (450.00, 469.54, 1.40e-01), (450.00, 473.98, 8.46e-02), (450.00, 478.42, 5.00e-02), (450.00, 481.38, 2.85e-02), (450.00, 482.86, 1.64e-02), (450.00, 483.45, 1.10e-02), (450.00, 484.04, 5.24e-03), (450.00, 484.33, 2.20e-03), (500.00, 504.75, 9.20e+00), (500.00, 505.00, 4.74e+00), (500.00, 505.67, 2.80e+00), (500.00, 506.59, 1.82e+00), (500.00, 507.82, 1.17e+00), (500.00, 510.27, 6.06e-01), (500.00, 514.87, 2.55e-01), (500.00, 520.09, 1.26e-01), (500.00, 524.69, 7.63e-02), (500.00, 529.29, 4.56e-02), (500.00, 532.36, 2.64e-02), (500.00, 533.90, 1.52e-02), (500.00, 534.51, 1.02e-02), (500.00, 535.12, 4.90e-03), (500.00, 535.43, 2.02e-03), (600.00, 604.75, 9.55e+00), (600.00, 605.00, 4.75e+00), (600.00, 605.71, 2.68e+00), (600.00, 606.68, 1.70e+00), (600.00, 607.96, 1.08e+00), (600.00, 610.53, 5.43e-01), (600.00, 615.35, 2.20e-01), (600.00, 620.80, 1.07e-01), (600.00, 625.62, 6.45e-02), (600.00, 630.44, 3.90e-02), (600.00, 633.65, 2.33e-02), (600.00, 635.25, 1.36e-02), (600.00, 635.90, 9.20e-03), (600.00, 636.54, 4.44e-03), (600.00, 636.86, 1.80e-03), (700.00, 704.75, 9.75e+00), (700.00, 705.00, 4.72e+00), (700.00, 705.73, 2.60e+00), (700.00, 706.71, 1.63e+00), (700.00, 708.02, 1.02e+00), (700.00, 710.64, 5.00e-01), (700.00, 715.54, 1.98e-01), (700.00, 721.10, 9.52e-02), (700.00, 726.00, 5.67e-02), (700.00, 730.91, 3.45e-02), (700.00, 734.18, 2.10e-02), (700.00, 735.81, 1.25e-02), (700.00, 736.46, 8.51e-03), (700.00, 737.12, 4.05e-03), (700.00, 737.45, 1.68e-03), (800.00, 804.75, 9.92e+00), (800.00, 805.00, 4.69e+00), (800.00, 805.73, 2.54e+00), (800.00, 806.70, 1.58e+00), (800.00, 808.00, 9.81e-01), (800.00, 810.61, 4.77e-01), (800.00, 815.49, 1.85e-01), (800.00, 821.02, 8.73e-02), (800.00, 825.90, 5.16e-02), (800.00, 830.79, 3.13e-02), (800.00, 834.04, 1.95e-02), (800.00, 835.67, 1.18e-02), (800.00, 836.32, 8.06e-03), (800.00, 836.97, 3.87e-03), (800.00, 837.30, 1.63e-03), (900.00, 904.75, 1.02e+01), (900.00, 905.00, 4.71e+00), (900.00, 905.70, 2.53e+00), (900.00, 906.66, 1.57e+00), (900.00, 907.93, 9.68e-01), (900.00, 910.47, 4.65e-01), (900.00, 915.24, 1.78e-01), (900.00, 920.64, 8.27e-02), (900.00, 925.41, 4.85e-02), (900.00, 930.18, 2.94e-02), (900.00, 933.35, 1.84e-02), (900.00, 934.94, 1.13e-02), (900.00, 935.58, 7.79e-03), (900.00, 936.21, 3.79e-03), (900.00, 936.53, 1.64e-03)]\n"
     ]
    }
   ],
   "source": [
    "ptsIni = sorted([(\"%1.2f\" %pt[0], \"%1.2f\" %pt[1], \"%1.2e\" %pt[2]) for pt in ptsNewLight])\n",
    "print(str(ptsIni).replace(\"'\", \"\"))"
   ]
  },
  {
   "cell_type": "markdown",
   "metadata": {},
   "source": [
    "#### Points requiring more stas"
   ]
  },
  {
   "cell_type": "code",
   "execution_count": null,
   "metadata": {},
   "outputs": [
    {
     "name": "stdout",
     "output_type": "stream",
     "text": [
      "16\n"
     ]
    }
   ],
   "source": [
    "ptsNewMoreStats = ptsNew[(ptsNew[:,1] < 500.) & (ptsNew[:,1] >= 400.) & (ptsNew[:,1]-ptsNew[:,0] >= 15.)]\n",
    "print(len(ptsNewMoreStats))"
   ]
  },
  {
   "cell_type": "markdown",
   "metadata": {},
   "source": [
    "#### Split runs into at most 75k batches"
   ]
  },
  {
   "cell_type": "code",
   "execution_count": null,
   "metadata": {},
   "outputs": [],
   "source": [
    "masses_tauNew_split = []\n",
    "for pt in masses_tauNew:\n",
    "    if pt[1] >= 500.:\n",
    "        continue\n",
    "    if pt[1] < 150.:\n",
    "        continue\n",
    "    if pt[1]-pt[0] < 20.0:\n",
    "        continue\n",
    "    if pt[3] < 50000:\n",
    "        continue\n",
    "    nbatches = pt[3]/75000.\n",
    "    ntot = 0\n",
    "    for n in range(int(nbatches)+1):\n",
    "        nevts = min(75000,pt[3]-ntot)\n",
    "        if nevts <= 0:\n",
    "            continue\n",
    "        ntot += nevts\n",
    "        masses_tauNew_split.append([pt[0],pt[1],pt[2],nevts])"
   ]
  },
  {
   "cell_type": "code",
   "execution_count": null,
   "metadata": {},
   "outputs": [
    {
     "name": "stdout",
     "output_type": "stream",
     "text": [
      "[(150, 170.1, 1.4e-02, 50000), (150, 170.1, 1.4e-02, 75000), (150, 170.1, 1.4e-02, 75000), (150, 170.1, 1.4e-02, 75000), (150, 170.1, 1.4e-02, 75000), (150, 170.1, 1.4e-02, 75000), (150, 170.1, 1.4e-02, 75000), (150, 170.3, 7.9e-03, 50000), (150, 170.3, 7.9e-03, 75000), (150, 170.3, 7.9e-03, 75000), (150, 170.3, 7.9e-03, 75000), (150, 170.3, 7.9e-03, 75000), (150, 170.3, 7.9e-03, 75000), (150, 170.3, 7.9e-03, 75000), (200, 220.0, 1.0e-01, 50000), (200, 220.0, 1.0e-01, 75000), (200, 220.0, 1.0e-01, 75000), (200, 220.0, 1.0e-01, 75000), (200, 220.0, 1.0e-01, 75000), (200, 220.0, 1.0e-01, 75000), (200, 220.0, 1.0e-01, 75000), (200, 222.0, 5.3e-02, 50000), (200, 222.0, 5.3e-02, 75000), (200, 222.0, 5.3e-02, 75000), (200, 222.0, 5.3e-02, 75000), (200, 222.0, 5.3e-02, 75000), (200, 222.0, 5.3e-02, 75000), (200, 222.0, 5.3e-02, 75000), (200, 222.9, 3.0e-02, 50000), (200, 222.9, 3.0e-02, 75000), (200, 222.9, 3.0e-02, 75000), (200, 222.9, 3.0e-02, 75000), (200, 222.9, 3.0e-02, 75000), (200, 222.9, 3.0e-02, 75000), (200, 222.9, 3.0e-02, 75000), (200, 223.3, 2.0e-02, 50000), (200, 223.3, 2.0e-02, 75000), (200, 223.3, 2.0e-02, 75000), (200, 223.3, 2.0e-02, 75000), (200, 223.3, 2.0e-02, 75000), (200, 223.3, 2.0e-02, 75000), (200, 223.3, 2.0e-02, 75000), (200, 223.7, 1.0e-02, 50000), (200, 223.7, 1.0e-02, 75000), (200, 223.7, 1.0e-02, 75000), (200, 223.7, 1.0e-02, 75000), (200, 223.7, 1.0e-02, 75000), (200, 223.7, 1.0e-02, 75000), (200, 223.7, 1.0e-02, 75000), (200, 223.9, 5.4e-03, 50000), (200, 223.9, 5.4e-03, 75000), (200, 223.9, 5.4e-03, 75000), (200, 223.9, 5.4e-03, 75000), (200, 223.9, 5.4e-03, 75000), (200, 223.9, 5.4e-03, 75000), (200, 223.9, 5.4e-03, 75000), (250, 272.4, 8.4e-02, 50000), (250, 272.4, 8.4e-02, 75000), (250, 272.4, 8.4e-02, 75000), (250, 272.4, 8.4e-02, 75000), (250, 272.4, 8.4e-02, 75000), (250, 272.4, 8.4e-02, 75000), (250, 272.4, 8.4e-02, 75000), (250, 274.6, 4.4e-02, 50000), (250, 274.6, 4.4e-02, 75000), (250, 274.6, 4.4e-02, 75000), (250, 274.6, 4.4e-02, 75000), (250, 274.6, 4.4e-02, 75000), (250, 274.6, 4.4e-02, 75000), (250, 274.6, 4.4e-02, 75000), (250, 275.7, 2.5e-02, 50000), (250, 275.7, 2.5e-02, 75000), (250, 275.7, 2.5e-02, 75000), (250, 275.7, 2.5e-02, 75000), (250, 275.7, 2.5e-02, 75000), (250, 275.7, 2.5e-02, 75000), (250, 275.7, 2.5e-02, 75000), (250, 276.2, 1.7e-02, 50000), (250, 276.2, 1.7e-02, 75000), (250, 276.2, 1.7e-02, 75000), (250, 276.2, 1.7e-02, 75000), (250, 276.2, 1.7e-02, 75000), (250, 276.2, 1.7e-02, 75000), (250, 276.2, 1.7e-02, 75000), (250, 276.6, 8.4e-03, 50000), (250, 276.6, 8.4e-03, 75000), (250, 276.6, 8.4e-03, 75000), (250, 276.6, 8.4e-03, 75000), (250, 276.6, 8.4e-03, 75000), (250, 276.6, 8.4e-03, 75000), (250, 276.6, 8.4e-03, 75000), (250, 276.8, 4.0e-03, 50000), (250, 276.8, 4.0e-03, 75000), (250, 276.8, 4.0e-03, 75000), (250, 276.8, 4.0e-03, 75000), (250, 276.8, 4.0e-03, 75000), (250, 276.8, 4.0e-03, 75000), (250, 276.8, 4.0e-03, 75000), (300, 320.7, 1.3e-01, 52690), (300, 320.7, 1.3e-01, 75000), (300, 320.7, 1.3e-01, 75000), (300, 320.7, 1.3e-01, 75000), (300, 320.7, 1.3e-01, 75000), (300, 324.4, 7.2e-02, 32104), (300, 324.4, 7.2e-02, 75000), (300, 324.4, 7.2e-02, 75000), (300, 324.4, 7.2e-02, 75000), (300, 324.4, 7.2e-02, 75000), (300, 326.8, 3.9e-02, 19283), (300, 326.8, 3.9e-02, 75000), (300, 326.8, 3.9e-02, 75000), (300, 326.8, 3.9e-02, 75000), (300, 326.8, 3.9e-02, 75000), (300, 328.0, 2.2e-02, 13033), (300, 328.0, 2.2e-02, 75000), (300, 328.0, 2.2e-02, 75000), (300, 328.0, 2.2e-02, 75000), (300, 328.0, 2.2e-02, 75000), (300, 328.5, 1.5e-02, 10533), (300, 328.5, 1.5e-02, 75000), (300, 328.5, 1.5e-02, 75000), (300, 328.5, 1.5e-02, 75000), (300, 328.5, 1.5e-02, 75000), (300, 329.0, 7.1e-03, 75000), (300, 329.0, 7.1e-03, 75000), (300, 329.0, 7.1e-03, 75000), (300, 329.0, 7.1e-03, 75000), (300, 329.0, 7.1e-03, 8034), (300, 329.3, 3.3e-03, 6784), (300, 329.3, 3.3e-03, 75000), (300, 329.3, 3.3e-03, 75000), (300, 329.3, 3.3e-03, 75000), (300, 329.3, 3.3e-03, 75000), (350, 372.0, 1.1e-01, 75000), (350, 372.0, 1.1e-01, 75000), (350, 372.0, 1.1e-01, 9883), (350, 376.0, 6.2e-02, 75000), (350, 376.0, 6.2e-02, 75000), (350, 376.0, 6.2e-02, 921), (350, 378.6, 3.4e-02, 70346), (350, 378.6, 3.4e-02, 75000), (350, 380.0, 1.9e-02, 67558), (350, 380.0, 1.9e-02, 75000), (350, 380.5, 1.3e-02, 66493), (350, 380.5, 1.3e-02, 75000), (350, 381.0, 6.2e-03, 65431), (350, 381.0, 6.2e-03, 75000), (350, 381.3, 2.8e-03, 64900), (350, 381.3, 2.8e-03, 75000), (400, 423.1, 9.5e-02, 3903), (400, 423.1, 9.5e-02, 75000), (400, 427.3, 5.6e-02, 74669), (400, 430.2, 3.1e-02, 71862), (400, 431.6, 1.8e-02, 70591), (400, 432.1, 1.2e-02, 70083), (400, 432.7, 5.7e-03, 69575), (400, 433.0, 2.4e-03, 69321)]\n",
      "157\n"
     ]
    }
   ],
   "source": [
    "ptsIni = sorted([(\"%1.0f\" %pt[0], \"%1.1f\" %pt[1], \"%1.1e\" %pt[2], \"%i\" %pt[3]) for pt in masses_tauNew_split])\n",
    "print(str(ptsIni).replace(\"'\", \"\"))\n",
    "print(len(masses_tauNew_split))"
   ]
  },
  {
   "cell_type": "code",
   "execution_count": null,
   "metadata": {},
   "outputs": [
    {
     "name": "stdout",
     "output_type": "stream",
     "text": [
      "[(400.00, 418.86, 1.56e-01), (400.00, 423.10, 9.51e-02), (400.00, 427.33, 5.55e-02), (400.00, 430.15, 3.11e-02), (400.00, 431.56, 1.76e-02), (400.00, 432.13, 1.18e-02), (400.00, 432.69, 5.67e-03), (400.00, 432.98, 2.44e-03), (450.00, 469.54, 1.40e-01), (450.00, 473.98, 8.46e-02), (450.00, 478.42, 5.00e-02), (450.00, 481.38, 2.85e-02), (450.00, 482.86, 1.64e-02), (450.00, 483.45, 1.10e-02), (450.00, 484.04, 5.24e-03), (450.00, 484.33, 2.20e-03)]\n"
     ]
    }
   ],
   "source": [
    "ptsIni = [(\"%1.2f\" %pt[0], \"%1.2f\" %pt[1], \"%1.2e\" %pt[2]) for pt in ptsNewMoreStats]\n",
    "print(str(ptsIni).replace(\"'\", \"\"))"
   ]
  },
  {
   "cell_type": "code",
   "execution_count": null,
   "metadata": {},
   "outputs": [],
   "source": []
  }
 ],
 "metadata": {
  "kernelspec": {
   "display_name": "Python 3 (ipykernel)",
   "language": "python",
   "name": "python3"
  },
  "language_info": {
   "codemirror_mode": {
    "name": "ipython",
    "version": 3
   },
   "file_extension": ".py",
   "mimetype": "text/x-python",
   "name": "python",
   "nbconvert_exporter": "python",
   "pygments_lexer": "ipython3",
   "version": "3.10.12"
  }
 },
 "nbformat": 4,
 "nbformat_minor": 4
}
