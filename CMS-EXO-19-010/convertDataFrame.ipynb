{
 "cells": [
  {
   "cell_type": "code",
   "execution_count": 1,
   "metadata": {},
   "outputs": [],
   "source": [
    "import pandas as pd"
   ]
  },
  {
   "cell_type": "code",
   "execution_count": 2,
   "metadata": {},
   "outputs": [],
   "source": [
    "d = pd.read_pickle('./cms_exo_19_010.pcl')"
   ]
  },
  {
   "cell_type": "code",
   "execution_count": 3,
   "metadata": {},
   "outputs": [],
   "source": [
    "dnew = d.copy()\n",
    "dnew.drop(columns=['ul_dR'],inplace=True)\n",
    "dnew.rename(columns={'msb' : 'mLLP', 'mn1' : 'mLSP', \n",
    "                     'ctau(m)' : 'tau_ns', 'xsec' : 'Total xsec (pb)', \n",
    "                     'ul0' : 'sigma95_obs', 'ul_dR' : 'sigma95_obs_dR'},inplace=True)\n",
    "dnew['robs'] = dnew['Total xsec (pb)']/dnew['sigma95_obs']\n",
    "dnew.to_pickle('../results_dataFrames/pp2BB1j_cms_exo_19_010.pcl')\n"
   ]
  },
  {
   "cell_type": "code",
   "execution_count": 4,
   "metadata": {},
   "outputs": [],
   "source": [
    "dnew = d.copy()\n",
    "dnew.drop(columns=['ul0'],inplace=True)\n",
    "dnew.rename(columns={'msb' : 'mLLP', 'mn1' : 'mLSP', \n",
    "                     'ctau(m)' : 'tau_ns', 'xsec' : 'Total xsec (pb)', \n",
    "                     'ul0' : 'sigma95_obs', 'ul_dR' : 'sigma95_obs'},inplace=True)\n",
    "dnew['robs'] = dnew['Total xsec (pb)']/dnew['sigma95_obs']\n",
    "dnew.to_pickle('../results_dataFrames/pp2BB1j_cms_exo_19_010_dRcut.pcl')\n"
   ]
  },
  {
   "cell_type": "code",
   "execution_count": null,
   "metadata": {},
   "outputs": [],
   "source": []
  }
 ],
 "metadata": {
  "kernelspec": {
   "display_name": "Python 3",
   "language": "python",
   "name": "python3"
  },
  "language_info": {
   "codemirror_mode": {
    "name": "ipython",
    "version": 3
   },
   "file_extension": ".py",
   "mimetype": "text/x-python",
   "name": "python",
   "nbconvert_exporter": "python",
   "pygments_lexer": "ipython3",
   "version": "3.9.7"
  }
 },
 "nbformat": 4,
 "nbformat_minor": 2
}
