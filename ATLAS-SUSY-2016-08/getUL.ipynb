{
 "cells": [
  {
   "cell_type": "code",
   "execution_count": 30,
   "metadata": {},
   "outputs": [],
   "source": [
    "import sys\n",
    "sys.path.append('../')\n",
    "from statisticalTools.simplifiedLikelihoods import Data,UpperLimitComputer\n",
    "from statisticalTools.statistics_toys import upperLimit"
   ]
  },
  {
   "cell_type": "code",
   "execution_count": 47,
   "metadata": {},
   "outputs": [],
   "source": [
    "observedN = 0.0\n",
    "expectedBG = 1.06\n",
    "bgError = 1.06\n",
    "lumi = 32.8\n",
    "alpha = .05"
   ]
  },
  {
   "cell_type": "markdown",
   "metadata": {},
   "source": [
    "### Using q_mu test statistic from the CCGV paper"
   ]
  },
  {
   "cell_type": "code",
   "execution_count": 48,
   "metadata": {},
   "outputs": [
    {
     "name": "stdout",
     "output_type": "stream",
     "text": [
      "2.444746841067114 3.880961071025713\n"
     ]
    }
   ],
   "source": [
    "\n",
    "comp = UpperLimitComputer ( 1. - alpha )\n",
    "\n",
    "m = Data(observedN, expectedBG, bgError**2, third_moment=None, nsignal=1.0,deltas_rel=0.2)\n",
    "ul = comp.getUpperLimitOnMu(m)\n",
    "ulExpected = comp.getUpperLimitOnMu(m, expected=\"posteriori\")\n",
    "print(ul,ulExpected)\n"
   ]
  },
  {
   "cell_type": "markdown",
   "metadata": {},
   "source": [
    "### Using toys"
   ]
  },
  {
   "cell_type": "code",
   "execution_count": 49,
   "metadata": {},
   "outputs": [
    {
     "name": "stdout",
     "output_type": "stream",
     "text": [
      "3.0360320826285916 4.11597316096433\n"
     ]
    }
   ],
   "source": [
    "ul_toys = upperLimit(observedN,expectedBG,bgError,lumi,alpha,toys=10000)\n",
    "ul_toys_exp = upperLimit(expectedBG,expectedBG,bgError,lumi,alpha,toys=10000)\n",
    "print(ul_toys*lumi,ul_toys_exp*lumi)\n"
   ]
  },
  {
   "cell_type": "code",
   "execution_count": null,
   "metadata": {},
   "outputs": [],
   "source": []
  }
 ],
 "metadata": {
  "kernelspec": {
   "display_name": "Python 3",
   "language": "python",
   "name": "python3"
  },
  "language_info": {
   "codemirror_mode": {
    "name": "ipython",
    "version": 3
   },
   "file_extension": ".py",
   "mimetype": "text/x-python",
   "name": "python",
   "nbconvert_exporter": "python",
   "pygments_lexer": "ipython3",
   "version": "3.10.12"
  }
 },
 "nbformat": 4,
 "nbformat_minor": 2
}
