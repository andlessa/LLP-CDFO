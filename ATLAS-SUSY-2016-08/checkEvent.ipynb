{
 "cells": [
  {
   "cell_type": "code",
   "execution_count": 50,
   "metadata": {},
   "outputs": [
    {
     "data": {
      "text/plain": [
       "True"
      ]
     },
     "execution_count": 50,
     "metadata": {},
     "output_type": "execute_result"
    }
   ],
   "source": [
    "import os,glob\n",
    "import numpy as np\n",
    "import pandas as pd\n",
    "import glob\n",
    "import pyslha\n",
    "import time\n",
    "import progressbar as P\n",
    "from atlas_susy_2016_08_Recast import getLLPs, getJets,eventAcc,vertexAcc\n",
    "from ATLAS_data.effFunctions import vertexEff, eventEff\n",
    "import matplotlib.pyplot as plt\n",
    "import os,glob\n",
    "import numpy as np\n",
    "import seaborn as sns\n",
    "from scipy.special import kn,zetac\n",
    "from helper import LLP\n",
    "import pyslha\n",
    "sns.set() #Set style\n",
    "sns.set_style('ticks',{'font.family':'serif', 'font.serif':'Times New Roman'})\n",
    "sns.set_context('paper', font_scale=1.8)\n",
    "sns.set_palette(sns.color_palette(\"Paired\"))\n",
    "\n",
    "delphesDir = os.path.abspath(\"../ATLAS-SUSY-2018-13/DelphesLLP\")\n",
    "os.environ['ROOT_INCLUDE_PATH'] = os.path.join(delphesDir,\"external\")\n",
    "\n",
    "import ROOT\n",
    "\n",
    "ROOT.gSystem.Load(os.path.join(delphesDir,\"libDelphes.so\"))\n",
    "\n",
    "ROOT.gInterpreter.Declare('#include \"classes/SortableObject.h\"')\n",
    "ROOT.gInterpreter.Declare('#include \"classes/DelphesClasses.h\"')\n",
    "ROOT.gInterpreter.Declare('#include \"external/ExRootAnalysis/ExRootTreeReader.h\"')\n"
   ]
  },
  {
   "cell_type": "code",
   "execution_count": 51,
   "metadata": {},
   "outputs": [],
   "source": [
    "inputFile = './validation/pp2GoGo/Events/run_06/tag_1_delphes_events.root'"
   ]
  },
  {
   "cell_type": "code",
   "execution_count": 52,
   "metadata": {},
   "outputs": [],
   "source": [
    "f = ROOT.TFile(inputFile,'read')\n",
    "tree = f.Get(\"Delphes\")\n",
    "nevts = tree.GetEntries()\n",
    "\n",
    "ievt = 1\n",
    "\n",
    "tree.GetEntry(ievt)\n",
    "for illp in range(tree.llps.GetEntries()):\n",
    "    llp = tree.llps.At(illp)\n",
    "try:\n",
    "    llps = getLLPs(tree.llps,tree.llpDaughters,3e-2)\n",
    "except:\n",
    "    print('Error in %i'%ievt)\n",
    "jets = getJets(tree.GenJet,pTmin=25.,etaMax=5.0)\n"
   ]
  },
  {
   "cell_type": "code",
   "execution_count": 53,
   "metadata": {},
   "outputs": [
    {
     "name": "stdout",
     "output_type": "stream",
     "text": [
      "2\n"
     ]
    }
   ],
   "source": [
    "print(tree.llps.GetEntries())"
   ]
  },
  {
   "cell_type": "code",
   "execution_count": 54,
   "metadata": {},
   "outputs": [],
   "source": [
    "jets = getJets(tree.GenJet,pTmin=25.,etaMax=5.0)\n",
    "met = tree.DMMissingET.At(0).MET\n",
    "\n",
    "# Event acceptance\n",
    "evt_acc = eventAcc(jets,met,metCut=200.0,\n",
    "                   maxJetChargedPT=5.0,minJetPt1=70.,\n",
    "                   minJetPt2=25.,minPVdistance=4.0)\n",
    "\n",
    "llps = getLLPs(tree.llps,tree.llpDaughters)\n",
    "# Vertex acceptances:\n",
    "v_acc = np.array([vertexAcc(llp,Rmax=300.0,zmax=300.0,Rmin=4.0,\n",
    "                            d0min=2.0,nmin=5,mDVmin=10.0)  for llp in llps])\n",
    "good_llps = np.array(llps)[v_acc > 0.0]"
   ]
  },
  {
   "cell_type": "code",
   "execution_count": 55,
   "metadata": {},
   "outputs": [
    {
     "name": "stdout",
     "output_type": "stream",
     "text": [
      "2\n",
      "[1. 1.]\n"
     ]
    }
   ],
   "source": [
    "print(len(good_llps))\n",
    "print(v_acc)"
   ]
  },
  {
   "cell_type": "code",
   "execution_count": 56,
   "metadata": {},
   "outputs": [
    {
     "name": "stdout",
     "output_type": "stream",
     "text": [
      "1000021 106\n",
      "3 45\n",
      "62.146097231407474\n",
      "62.146097231407474 -101.77991485595703 82.82497597766168 12\n",
      "\n",
      "\n",
      "1000021 106\n",
      "3 58\n",
      "198.97048983974395\n",
      "198.97048983974395 -11.595541954040527 80.08968712908174 14\n",
      "\n",
      "\n"
     ]
    }
   ],
   "source": [
    "for llp in llps:\n",
    "    print(llp.PID,llp.Status)\n",
    "    print(len(llp.directDaughters),len(llp.finalDaughters))\n",
    "    print(np.sqrt(llp.Xd**2 + llp.Yd**2))\n",
    "    print(llp.r_decay,llp.z_decay,llp.mDV,llp.nTracks)\n",
    "    print('\\n')"
   ]
  },
  {
   "cell_type": "code",
   "execution_count": 57,
   "metadata": {},
   "outputs": [],
   "source": [
    "j = jets[0]"
   ]
  },
  {
   "cell_type": "code",
   "execution_count": 65,
   "metadata": {},
   "outputs": [
    {
     "name": "stdout",
     "output_type": "stream",
     "text": [
      "22 1 0.5512533783912659\n",
      "-211 1 0.2413061410188675\n",
      "211 1 0.6013044714927673\n",
      "22 1 0.10199962556362152\n",
      "22 1 0.11898388713598251\n",
      "11 1 0.7012597322463989\n",
      "-11 1 0.3381158411502838\n",
      "211 1 1.9820307493209839\n",
      "22 1 0.3153257668018341\n",
      "-211 1 2.2826859951019287\n",
      "22 1 4.3992180824279785\n",
      "22 1 3.045034885406494\n",
      "-321 1 18.901334762573242\n",
      "-2112 1 4.82358455657959\n",
      "22 1 6.622241973876953\n",
      "211 1 8.116230010986328\n",
      "-211 1 29.46614646911621\n",
      "2212 1 91.164794921875\n",
      "22 1 4.250680923461914\n"
     ]
    }
   ],
   "source": [
    "for ip in range(j.Constituents.GetEntries()):\n",
    "    particle = j.Constituents.At(ip)\n",
    "    print(particle.PID,particle.Status,particle.PT,partice)"
   ]
  },
  {
   "cell_type": "code",
   "execution_count": null,
   "metadata": {},
   "outputs": [],
   "source": []
  }
 ],
 "metadata": {
  "kernelspec": {
   "display_name": "Python 3 (ipykernel)",
   "language": "python",
   "name": "python3"
  },
  "language_info": {
   "codemirror_mode": {
    "name": "ipython",
    "version": 3
   },
   "file_extension": ".py",
   "mimetype": "text/x-python",
   "name": "python",
   "nbconvert_exporter": "python",
   "pygments_lexer": "ipython3",
   "version": "3.10.12"
  }
 },
 "nbformat": 4,
 "nbformat_minor": 4
}
