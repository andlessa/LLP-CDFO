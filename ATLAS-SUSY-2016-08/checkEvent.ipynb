{
 "cells": [
  {
   "cell_type": "code",
   "execution_count": 1,
   "metadata": {},
   "outputs": [
    {
     "name": "stdout",
     "output_type": "stream",
     "text": [
      "Welcome to JupyROOT 6.28/06\n"
     ]
    },
    {
     "data": {
      "text/plain": [
       "True"
      ]
     },
     "execution_count": 1,
     "metadata": {},
     "output_type": "execute_result"
    }
   ],
   "source": [
    "import os,glob\n",
    "import numpy as np\n",
    "import pandas as pd\n",
    "import glob\n",
    "import pyslha\n",
    "import time\n",
    "import progressbar as P\n",
    "from atlas_susy_2016_08_Recast import getLLPs, getJets,eventAcc,vertexAcc\n",
    "from ATLAS_data.effFunctions import vertexEff, eventEff\n",
    "import matplotlib.pyplot as plt\n",
    "import os,glob\n",
    "import numpy as np\n",
    "import seaborn as sns\n",
    "from scipy.special import kn,zetac\n",
    "from helper import LLP\n",
    "import pyslha\n",
    "sns.set() #Set style\n",
    "sns.set_style('ticks',{'font.family':'serif', 'font.serif':'Times New Roman'})\n",
    "sns.set_context('paper', font_scale=1.8)\n",
    "sns.set_palette(sns.color_palette(\"Paired\"))\n",
    "\n",
    "delphesDir = os.path.abspath(\"../DelphesLLP\")\n",
    "os.environ['ROOT_INCLUDE_PATH'] = os.path.join(delphesDir,\"external\")\n",
    "\n",
    "import ROOT\n",
    "\n",
    "ROOT.gSystem.Load(os.path.join(delphesDir,\"libDelphes.so\"))\n",
    "\n",
    "ROOT.gInterpreter.Declare('#include \"classes/SortableObject.h\"')\n",
    "ROOT.gInterpreter.Declare('#include \"classes/DelphesClasses.h\"')\n",
    "ROOT.gInterpreter.Declare('#include \"external/ExRootAnalysis/ExRootTreeReader.h\"')\n"
   ]
  },
  {
   "cell_type": "code",
   "execution_count": 2,
   "metadata": {},
   "outputs": [],
   "source": [
    "inputFile = '../pp2BB_atlas_scan_high/Events/run_08/cdfo_530_500.0_tau_5e-02_delphes_events.root'"
   ]
  },
  {
   "cell_type": "code",
   "execution_count": 3,
   "metadata": {},
   "outputs": [
    {
     "name": "stdout",
     "output_type": "stream",
     "text": [
      "8\n"
     ]
    }
   ],
   "source": [
    "f = ROOT.TFile(inputFile,'read')\n",
    "tree = f.Get(\"Delphes\")\n",
    "nevts = tree.GetEntries()\n",
    "for ievt in range(nevts):    \n",
    "    tree.GetEntry(ievt)   \n",
    "    jets = getJets(tree.GenJet,pTmin=25.,etaMax=5.0)\n",
    "    met = tree.GenMissingET.At(0).MET\n",
    "    if met < 200.0:\n",
    "        continue\n",
    "\n",
    "    # Event acceptance\n",
    "    evt_acc = eventAcc(jets,met,metCut=200.0,\n",
    "                       maxJetChargedPT=5.0,minJetPt1=70.,\n",
    "                       minJetPt2=25.,minPVdistance=4.0)\n",
    "    if not evt_acc:\n",
    "        print(ievt)\n",
    "        break"
   ]
  },
  {
   "cell_type": "code",
   "execution_count": 4,
   "metadata": {},
   "outputs": [
    {
     "name": "stdout",
     "output_type": "stream",
     "text": [
      "5\n",
      "2\n",
      "557.328857421875\n"
     ]
    }
   ],
   "source": [
    "f = ROOT.TFile(inputFile,'read')\n",
    "tree = f.Get(\"Delphes\")\n",
    "nevts = tree.GetEntries()\n",
    "\n",
    "ievt = 8\n",
    "\n",
    "tree.GetEntry(ievt)\n",
    "jets = getJets(tree.GenJet,pTmin=25.,etaMax=5.0)\n",
    "print(len(jets))\n",
    "met = tree.GenMissingET.At(0).MET\n",
    "llps = getLLPs(tree.bsm,tree.bsmDirectDaughters,tree.bsmFinalDaughters)\n",
    "print(len(llps))\n",
    "print(met)"
   ]
  },
  {
   "cell_type": "code",
   "execution_count": 5,
   "metadata": {},
   "outputs": [],
   "source": [
    "jets_sorted = sorted(jets, key = lambda j: j.PT, reverse=True)"
   ]
  },
  {
   "cell_type": "code",
   "execution_count": 6,
   "metadata": {},
   "outputs": [
    {
     "name": "stdout",
     "output_type": "stream",
     "text": [
      "0 624.55029296875 381.4975438117981\n",
      "1 84.8246841430664 11.298833914101124\n",
      "2 50.8814811706543 27.294546976685524\n",
      "3 46.04990005493164 21.8657443523407\n",
      "4 38.95610809326172 0.46478143334388733\n"
     ]
    }
   ],
   "source": [
    "good_jets = []\n",
    "for ijet,jet in enumerate(jets_sorted):\n",
    "    pTCharged = 0.0\n",
    "    for ip in range(jet.Constituents.GetEntries()):\n",
    "        particle = jet.Constituents.At(ip)\n",
    "        if particle.Charge == 0:\n",
    "            continue\n",
    "        if particle.Status != 1:\n",
    "            continue\n",
    "        r_prod = np.sqrt(particle.X**2 + particle.Y**2)\n",
    "        if r_prod  > 4.0:\n",
    "            continue\n",
    "        pTCharged += particle.PT\n",
    "    print(ijet,jet.PT,pTCharged)\n",
    "    if pTCharged > 5.0:\n",
    "        continue\n",
    "    good_jets.append(jet)"
   ]
  },
  {
   "cell_type": "code",
   "execution_count": 7,
   "metadata": {},
   "outputs": [
    {
     "name": "stdout",
     "output_type": "stream",
     "text": [
      "38.95610809326172 -2.1852800846099854 0.3933102488517761\n"
     ]
    }
   ],
   "source": [
    "for j in good_jets:\n",
    "    print(j.PT,j.Eta,j.Phi)"
   ]
  },
  {
   "cell_type": "code",
   "execution_count": 8,
   "metadata": {},
   "outputs": [
    {
     "name": "stdout",
     "output_type": "stream",
     "text": [
      "-1000005\n",
      "   -5 58.596187591552734 -0.2951020896434784 -2.6238155364990234 23\n",
      "   1000022 565.7534790039062 -0.49909040331840515 -2.125361204147339 1\n",
      "1000005\n",
      "   5 38.54849624633789 -2.174403667449951 0.39536750316619873 23\n",
      "   1000022 200.81687927246094 -2.974487066268921 -0.33365586400032043 1\n"
     ]
    }
   ],
   "source": [
    "for llp in llps:\n",
    "    print(llp.PID)\n",
    "    for d in llp.directDaughters:\n",
    "        print('  ',d.PID,d.PT,d.Eta,d.Phi,d.Status)"
   ]
  },
  {
   "cell_type": "code",
   "execution_count": 9,
   "metadata": {},
   "outputs": [],
   "source": [
    "import fastjet"
   ]
  },
  {
   "cell_type": "code",
   "execution_count": 10,
   "metadata": {},
   "outputs": [
    {
     "name": "stdout",
     "output_type": "stream",
     "text": [
      "441\n"
     ]
    }
   ],
   "source": [
    "jetdef = fastjet.JetDefinition(fastjet.antikt_algorithm, 0.4)\n",
    "jetArray = []\n",
    "pList = []\n",
    "for iptc in range(tree.StableParticle.GetEntries()):\n",
    "    p = tree.StableParticle.At(iptc)\n",
    "    if int(abs(p.PID)) in [12,14,16]:\n",
    "        continue\n",
    "    pList.append({\"px\": float(p.Px), \"py\": float(p.Py), \"pz\": float(p.Pz), \"E\": float(p.E)})\n",
    "    jetArray.append(fastjet.PseudoJet(float(p.Px),float(p.Py),float(p.Pz),float(p.E)))\n",
    "print(len(jetArray))"
   ]
  },
  {
   "cell_type": "code",
   "execution_count": 11,
   "metadata": {},
   "outputs": [],
   "source": [
    "jetArrayB = [\n",
    "    fastjet.PseudoJet(-0.693452, 0.444349, 8.515428, 18.556302),\n",
    "    fastjet.PseudoJet(-0.292171, 0.719713, 4.673899, 14.740059),\n",
    "    fastjet.PseudoJet(-0.422724, 0.446733, -4.174223, 14.221597),\n",
    "    fastjet.PseudoJet(-0.536736, -1.226474, -6.468420, 16.623934)\n",
    "]"
   ]
  },
  {
   "cell_type": "code",
   "execution_count": 12,
   "metadata": {},
   "outputs": [],
   "source": [
    "import awkward as ak\n",
    "jetArrayC = ak.Array(pList[:3])"
   ]
  },
  {
   "cell_type": "code",
   "execution_count": 13,
   "metadata": {},
   "outputs": [
    {
     "ename": "ValueError",
     "evalue": "vector::reserve",
     "output_type": "error",
     "traceback": [
      "\u001b[0;31m---------------------------------------------------------------------------\u001b[0m",
      "\u001b[0;31mValueError\u001b[0m                                Traceback (most recent call last)",
      "Cell \u001b[0;32mIn[13], line 3\u001b[0m\n\u001b[1;32m      1\u001b[0m \u001b[38;5;66;03m# cluster = fastjet.ClusterSequence(jetArray[:5], jetdef)\u001b[39;00m\n\u001b[1;32m      2\u001b[0m \u001b[38;5;66;03m# cluster = fastjet.ClusterSequence(jetArrayB, jetdef)\u001b[39;00m\n\u001b[0;32m----> 3\u001b[0m cluster \u001b[38;5;241m=\u001b[39m \u001b[43mfastjet\u001b[49m\u001b[38;5;241;43m.\u001b[39;49m\u001b[43mClusterSequence\u001b[49m\u001b[43m(\u001b[49m\u001b[43mjetArrayC\u001b[49m\u001b[43m,\u001b[49m\u001b[43m \u001b[49m\u001b[43mjetdef\u001b[49m\u001b[43m)\u001b[49m\n",
      "File \u001b[0;32m~/.local/lib/python3.10/site-packages/fastjet/__init__.py:250\u001b[0m, in \u001b[0;36mClusterSequence.__init__\u001b[0;34m(self, data, jetdef)\u001b[0m\n\u001b[1;32m    248\u001b[0m \u001b[38;5;28;01mif\u001b[39;00m \u001b[38;5;28misinstance\u001b[39m(data, ak\u001b[38;5;241m.\u001b[39mArray):\n\u001b[1;32m    249\u001b[0m     \u001b[38;5;28mself\u001b[39m\u001b[38;5;241m.\u001b[39m\u001b[38;5;18m__class__\u001b[39m \u001b[38;5;241m=\u001b[39m fastjet\u001b[38;5;241m.\u001b[39m_pyjet\u001b[38;5;241m.\u001b[39mAwkwardClusterSequence\n\u001b[0;32m--> 250\u001b[0m     \u001b[43mfastjet\u001b[49m\u001b[38;5;241;43m.\u001b[39;49m\u001b[43m_pyjet\u001b[49m\u001b[38;5;241;43m.\u001b[39;49m\u001b[43mAwkwardClusterSequence\u001b[49m\u001b[38;5;241;43m.\u001b[39;49m\u001b[38;5;21;43m__init__\u001b[39;49m\u001b[43m(\u001b[49m\n\u001b[1;32m    251\u001b[0m \u001b[43m        \u001b[49m\u001b[38;5;28;43mself\u001b[39;49m\u001b[43m,\u001b[49m\u001b[43m \u001b[49m\u001b[43mdata\u001b[49m\u001b[38;5;241;43m=\u001b[39;49m\u001b[43mdata\u001b[49m\u001b[43m,\u001b[49m\u001b[43m \u001b[49m\u001b[43mjetdef\u001b[49m\u001b[38;5;241;43m=\u001b[39;49m\u001b[43mjetdef\u001b[49m\n\u001b[1;32m    252\u001b[0m \u001b[43m    \u001b[49m\u001b[43m)\u001b[49m\n\u001b[1;32m    253\u001b[0m \u001b[38;5;28;01melif\u001b[39;00m \u001b[38;5;28misinstance\u001b[39m(data, \u001b[38;5;28mlist\u001b[39m):\n\u001b[1;32m    254\u001b[0m     \u001b[38;5;28mself\u001b[39m\u001b[38;5;241m.\u001b[39m\u001b[38;5;18m__class__\u001b[39m \u001b[38;5;241m=\u001b[39m fastjet\u001b[38;5;241m.\u001b[39m_swig\u001b[38;5;241m.\u001b[39mClusterSequence\n",
      "File \u001b[0;32m~/.local/lib/python3.10/site-packages/fastjet/_pyjet.py:28\u001b[0m, in \u001b[0;36mAwkwardClusterSequence.__init__\u001b[0;34m(self, data, jetdef)\u001b[0m\n\u001b[1;32m     26\u001b[0m     \u001b[38;5;28mself\u001b[39m\u001b[38;5;241m.\u001b[39m_internalrep \u001b[38;5;241m=\u001b[39m fastjet\u001b[38;5;241m.\u001b[39m_multievent\u001b[38;5;241m.\u001b[39m_classmultievent(data, \u001b[38;5;28mself\u001b[39m\u001b[38;5;241m.\u001b[39m_jetdef)\n\u001b[1;32m     27\u001b[0m \u001b[38;5;28;01melif\u001b[39;00m \u001b[38;5;28mself\u001b[39m\u001b[38;5;241m.\u001b[39m_jagedness \u001b[38;5;241m==\u001b[39m \u001b[38;5;241m1\u001b[39m \u001b[38;5;129;01mand\u001b[39;00m data\u001b[38;5;241m.\u001b[39mlayout\u001b[38;5;241m.\u001b[39mis_record:\n\u001b[0;32m---> 28\u001b[0m     \u001b[38;5;28mself\u001b[39m\u001b[38;5;241m.\u001b[39m_internalrep \u001b[38;5;241m=\u001b[39m \u001b[43mfastjet\u001b[49m\u001b[38;5;241;43m.\u001b[39;49m\u001b[43m_singleevent\u001b[49m\u001b[38;5;241;43m.\u001b[39;49m\u001b[43m_classsingleevent\u001b[49m\u001b[43m(\u001b[49m\n\u001b[1;32m     29\u001b[0m \u001b[43m        \u001b[49m\u001b[43mdata\u001b[49m\u001b[43m,\u001b[49m\u001b[43m \u001b[49m\u001b[38;5;28;43mself\u001b[39;49m\u001b[38;5;241;43m.\u001b[39;49m\u001b[43m_jetdef\u001b[49m\n\u001b[1;32m     30\u001b[0m \u001b[43m    \u001b[49m\u001b[43m)\u001b[49m\n\u001b[1;32m     31\u001b[0m \u001b[38;5;28;01melif\u001b[39;00m \u001b[38;5;28mself\u001b[39m\u001b[38;5;241m.\u001b[39m_jagedness \u001b[38;5;241m>\u001b[39m\u001b[38;5;241m=\u001b[39m \u001b[38;5;241m3\u001b[39m \u001b[38;5;129;01mor\u001b[39;00m \u001b[38;5;28mself\u001b[39m\u001b[38;5;241m.\u001b[39m_check_general(data):\n\u001b[1;32m     32\u001b[0m     \u001b[38;5;28mself\u001b[39m\u001b[38;5;241m.\u001b[39m_internalrep \u001b[38;5;241m=\u001b[39m fastjet\u001b[38;5;241m.\u001b[39m_generalevent\u001b[38;5;241m.\u001b[39m_classgeneralevent(data, jetdef)\n",
      "File \u001b[0;32m~/.local/lib/python3.10/site-packages/fastjet/_singleevent.py:19\u001b[0m, in \u001b[0;36m_classsingleevent.__init__\u001b[0;34m(self, data, jetdef)\u001b[0m\n\u001b[1;32m     17\u001b[0m E \u001b[38;5;241m=\u001b[39m \u001b[38;5;28mself\u001b[39m\u001b[38;5;241m.\u001b[39mcorrect_byteorder(E)\n\u001b[1;32m     18\u001b[0m offsets \u001b[38;5;241m=\u001b[39m \u001b[38;5;28mself\u001b[39m\u001b[38;5;241m.\u001b[39mcorrect_byteorder(offsets)\n\u001b[0;32m---> 19\u001b[0m \u001b[38;5;28mself\u001b[39m\u001b[38;5;241m.\u001b[39m_results \u001b[38;5;241m=\u001b[39m \u001b[43mfastjet\u001b[49m\u001b[38;5;241;43m.\u001b[39;49m\u001b[43m_ext\u001b[49m\u001b[38;5;241;43m.\u001b[39;49m\u001b[43minterfacemulti\u001b[49m\u001b[43m(\u001b[49m\u001b[43mpx\u001b[49m\u001b[43m,\u001b[49m\u001b[43m \u001b[49m\u001b[43mpy\u001b[49m\u001b[43m,\u001b[49m\u001b[43m \u001b[49m\u001b[43mpz\u001b[49m\u001b[43m,\u001b[49m\u001b[43m \u001b[49m\u001b[43mE\u001b[49m\u001b[43m,\u001b[49m\u001b[43m \u001b[49m\u001b[43moffsets\u001b[49m\u001b[43m,\u001b[49m\u001b[43m \u001b[49m\u001b[43mjetdef\u001b[49m\u001b[43m)\u001b[49m\n",
      "\u001b[0;31mValueError\u001b[0m: vector::reserve"
     ]
    },
    {
     "name": "stdout",
     "output_type": "stream",
     "text": [
      "#--------------------------------------------------------------------------\n",
      "#                         FastJet release 3.3.4\n",
      "#                 M. Cacciari, G.P. Salam and G. Soyez                  \n",
      "#     A software package for jet finding and analysis at colliders      \n",
      "#                           http://fastjet.fr                           \n",
      "#\t                                                                      \n",
      "# Please cite EPJC72(2012)1896 [arXiv:1111.6097] if you use this package\n",
      "# for scientific work and optionally PLB641(2006)57 [hep-ph/0512210].   \n",
      "#                                                                       \n",
      "# FastJet is provided without warranty under the GNU GPL v2 or higher.  \n",
      "# It uses T. Chan's closest pair algorithm, S. Fortune's Voronoi code\n",
      "# and 3rd party plugin jet algorithms. See COPYING file for details.\n",
      "#--------------------------------------------------------------------------\n"
     ]
    }
   ],
   "source": [
    "# cluster = fastjet.ClusterSequence(jetArray[:5], jetdef)\n",
    "# cluster = fastjet.ClusterSequence(jetArrayB, jetdef)\n",
    "cluster = fastjet.ClusterSequence(jetArrayC, jetdef)"
   ]
  },
  {
   "cell_type": "code",
   "execution_count": null,
   "metadata": {},
   "outputs": [],
   "source": [
    "fast_jets = cluster.inclusive_jets(ptmin = 20.0)"
   ]
  },
  {
   "cell_type": "code",
   "execution_count": null,
   "metadata": {},
   "outputs": [],
   "source": [
    "print(len(fast_jets))\n",
    "for j in fast_jets:\n",
    "    print(j.PT)"
   ]
  },
  {
   "cell_type": "code",
   "execution_count": null,
   "metadata": {},
   "outputs": [],
   "source": [
    "fastjet.__version__"
   ]
  },
  {
   "cell_type": "code",
   "execution_count": null,
   "metadata": {},
   "outputs": [],
   "source": []
  }
 ],
 "metadata": {
  "kernelspec": {
   "display_name": "Python 3 (ipykernel)",
   "language": "python",
   "name": "python3"
  },
  "language_info": {
   "codemirror_mode": {
    "name": "ipython",
    "version": 3
   },
   "file_extension": ".py",
   "mimetype": "text/x-python",
   "name": "python",
   "nbconvert_exporter": "python",
   "pygments_lexer": "ipython3",
   "version": "3.10.12"
  }
 },
 "nbformat": 4,
 "nbformat_minor": 4
}
