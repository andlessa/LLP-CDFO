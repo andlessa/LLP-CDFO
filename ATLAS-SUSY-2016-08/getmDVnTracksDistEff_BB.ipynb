{
 "cells": [
  {
   "cell_type": "code",
   "execution_count": 1,
   "metadata": {},
   "outputs": [
    {
     "name": "stdout",
     "output_type": "stream",
     "text": [
      "Welcome to JupyROOT 6.24/06\n"
     ]
    }
   ],
   "source": [
    "import numpy as np\n",
    "import seaborn as sns\n",
    "import os\n",
    "from matplotlib import pyplot as plt\n",
    "from matplotlib.colors import LogNorm\n",
    "from ATLAS_data.effFunctions import eventEff,vertexEff\n",
    "from atlas_susy_2016_08_Recast import (getLLPs, getJets, eventAcc, \n",
    "                                       vertexAcc, getModelDict)\n",
    "\n",
    "\n",
    "plt.rcParams.update({\n",
    "    \"text.usetex\": True,\n",
    "    \"font.family\": \"sans-serif\",\n",
    "    \"font.sans-serif\": [\"Helvetica\"]})\n",
    "\n",
    "plt.rcParams.update({\"savefig.dpi\" : 300}) #Figure resolution\n",
    "\n",
    "delphesDir = os.path.abspath(\"../DelphesLLP\")\n",
    "os.environ['ROOT_INCLUDE_PATH'] = os.path.join(delphesDir,\"external\")\n",
    "\n",
    "import ROOT\n",
    "import xml.etree.ElementTree as ET\n",
    "\n",
    "\n",
    "ROOT.gSystem.Load(os.path.join(delphesDir,\"libDelphes.so\"))\n",
    "\n",
    "ROOT.gInterpreter.Declare('#include \"classes/SortableObject.h\"')\n",
    "ROOT.gInterpreter.Declare('#include \"classes/DelphesClasses.h\"')\n",
    "ROOT.gInterpreter.Declare('#include \"external/ExRootAnalysis/ExRootTreeReader.h\"')\n",
    "\n",
    "\n",
    "#Define plotting style:\n",
    "sns.set() #Set style\n",
    "sns.set_style('ticks',{'font.family':'Times New Roman', 'font.serif':'Times New Roman'})\n",
    "sns.set_context('paper', font_scale=1.8)\n",
    "cm = plt.colormaps['YlGnBu_r']"
   ]
  },
  {
   "cell_type": "markdown",
   "metadata": {},
   "source": [
    "### ATLAS data"
   ]
  },
  {
   "cell_type": "code",
   "execution_count": 2,
   "metadata": {},
   "outputs": [],
   "source": [
    "# data_obs = np.genfromtxt('./ATLAS_data/HEPData-ins1630632-v2-csv/Table5.csv',\n",
    "#                          delimiter=',',skip_header=11,skip_footer=278)\n",
    "# data_exp = np.genfromtxt('./ATLAS_data/HEPData-ins1630632-v2-csv/Table5.csv',\n",
    "#                          delimiter=',',skip_header=291)\n",
    "\n",
    "data_obs = np.genfromtxt('./ATLAS_data/HEPData-ins1630632-v2-csv/Table6.csv',\n",
    "                         delimiter=',',skip_header=11,skip_footer=113)\n",
    "data_exp = np.genfromtxt('./ATLAS_data/HEPData-ins1630632-v2-csv/Table6.csv',\n",
    "                         delimiter=',',skip_header=126)"
   ]
  },
  {
   "cell_type": "markdown",
   "metadata": {},
   "source": [
    "### Recast Data"
   ]
  },
  {
   "cell_type": "code",
   "execution_count": 3,
   "metadata": {},
   "outputs": [
    {
     "name": "stdout",
     "output_type": "stream",
     "text": [
      "mLLP =  725.0\n",
      "width (GeV) =  7.743529e-15\n",
      "tau (ns) =  0.08500000451990301\n"
     ]
    }
   ],
   "source": [
    "# inputFile = './validation/pp2GoGo_Fig7/Events/run_02/gluino_1400_100.0_tau_1e+00_delphes_events.root'\n",
    "inputFile = '../eventData/pp2BB1j_atlas_scan/Events/run_33/cdfo_725_700.0_tau_9e-02_delphes_events.root'\n",
    "modelDict = getModelDict(inputFile,model='sbottom')"
   ]
  },
  {
   "cell_type": "markdown",
   "metadata": {},
   "source": [
    "### Get vertex distribution and efficiencies"
   ]
  },
  {
   "cell_type": "code",
   "execution_count": 11,
   "metadata": {},
   "outputs": [],
   "source": [
    "f = ROOT.TFile(inputFile,'read')\n",
    "tree = f.Get(\"Delphes\")\n",
    "nevts = tree.GetEntries()\n",
    "ntotal = 0\n",
    "totalweightPB = 0.0\n",
    "lumi = 32.8\n",
    "mDV_nTracks_weights = []\n",
    "mDVcut = 5.0\n",
    "for ievt in range(nevts):    \n",
    "   \n",
    "    ntotal += 1\n",
    "    tree.GetEntry(ievt)   \n",
    "    weightPB = tree.Weight.At(1).Weight     \n",
    "    totalweightPB += weightPB\n",
    "    ns = weightPB*1e3*lumi # number of signal events\n",
    "\n",
    "    \n",
    "    jets = getJets(tree.GenJet,pTmin=25.,etaMax=5.0)\n",
    "    met = tree.GenMissingET.At(0).MET\n",
    "    \n",
    "     # Event acceptance\n",
    "    evt_acc = eventAcc(jets,met,metCut=200.0,\n",
    "                               maxJetChargedPT=5.0,minJetPt1=70.,\n",
    "                               minJetPt2=25.)\n",
    "\n",
    "    if (not evt_acc): continue\n",
    "    ns = ns*evt_acc\n",
    "\n",
    "    llps = getLLPs(tree.bsm,tree.bsmDirectDaughters,tree.bsmFinalDaughters)\n",
    "    # Vertex acceptances:\n",
    "    v_acc = np.array([vertexAcc(llp,Rmax=300.0,zmax=300.0,Rmin=4.0,\n",
    "                                        d0min=2.0,nmin=5,mDVmin=mDVcut)  for llp in llps])\n",
    "\n",
    "    good_llps = np.array(llps)[v_acc > 0.0]\n",
    "    if len(good_llps) == 0:\n",
    "        continue\n",
    "    # Event efficiency\n",
    "    evt_eff = eventEff(met,good_llps)\n",
    "    ns = ns*evt_eff\n",
    "    # Vertex efficiencies:\n",
    "    v_eff_near = np.array([vertexEff(llp,strategy='nearest') for llp in llps])\n",
    "    v_eff_avg = np.array([vertexEff(llp,strategy='average') for llp in llps])\n",
    "\n",
    "    for illp,llp in enumerate(llps):\n",
    "        wv_near = v_acc[illp]*v_eff_near[illp]\n",
    "        wv_avg = v_acc[illp]*v_eff_avg[illp]\n",
    "        if wv_near*wv_avg > 0.:            \n",
    "            mDV_nTracks_weights.append([llp.mDV,llp.nTracks,ns*wv_near,ns*wv_avg])\n",
    "\n",
    "f.Close()"
   ]
  },
  {
   "cell_type": "code",
   "execution_count": 13,
   "metadata": {},
   "outputs": [],
   "source": [
    "mDV_nTracks_weights = np.array(mDV_nTracks_weights)"
   ]
  },
  {
   "cell_type": "code",
   "execution_count": 17,
   "metadata": {},
   "outputs": [
    {
     "name": "stderr",
     "output_type": "stream",
     "text": [
      "/tmp/ipykernel_17151/130779181.py:28: UserWarning: This figure includes Axes that are not compatible with tight_layout, so results might be incorrect.\n",
      "  plt.tight_layout()\n"
     ]
    },
    {
     "data": {
      "image/png": "[encoded data removed]",
      "text/plain": [
       "<Figure size 864x360 with 3 Axes>"
      ]
     },
     "metadata": {},
     "output_type": "display_data"
    }
   ],
   "source": [
    "fig,axarr = plt.subplots(nrows=1,ncols=2,figsize=(12,5))\n",
    "\n",
    "mDV_bins = np.sort(np.unique(data_exp[:,1]))\n",
    "n_bins = np.sort((np.unique(data_exp[:,0])))\n",
    "n_bins = np.append(np.unique(data_exp[:,0]),[20.,30.,40.])\n",
    "\n",
    "labels = ['nearest','average']\n",
    "for i,label in enumerate(labels):\n",
    "    h = axarr[i].hist2d(mDV_nTracks_weights[:,1],mDV_nTracks_weights[:,0],cmap=cm,\n",
    "               weights=mDV_nTracks_weights[:,2+i],bins=(n_bins,mDV_bins),norm=LogNorm(vmin=1e-3,vmax=1))\n",
    "\n",
    "    \n",
    "    axarr[i].hlines(y=10.0,xmin=5.,xmax=max(n_bins),colors='red',linestyle='dashed')\n",
    "    axarr[i].vlines(x=5.0,ymin=10.,ymax=max(mDV_bins),colors='red',linestyle='dashed')\n",
    "    axarr[i].set_xscale('log')\n",
    "    axarr[i].set_yscale('log')\n",
    "    axarr[i].set_ylabel(r'$m_{DV}$ (GeV)')\n",
    "    axarr[i].set_xlabel(r'$n_{\\rm Tracks}$')\n",
    "    axarr[i].set_ylim(2,mDV_bins.max())\n",
    "    axarr[i].set_xlim(2,40)\n",
    "    axarr[i].set_title(r'$m_{\\tilde b} = %1.0f$ GeV, $m_{\\tilde \\chi_1^0} = %1.0f$ GeV, $\\tau = %1.2f$ ns (%s)' \n",
    "          %(modelDict['mLLP'],modelDict['mLSP'],modelDict['tau_ns'],label),fontsize=14)\n",
    "\n",
    "    \n",
    "fig.subplots_adjust(right=0.9,top=1.1)\n",
    "cbar_ax = fig.add_axes([0.99, 0.25, 0.01, 0.5]) \n",
    "fig.colorbar(h[3],label='Number of Vertices',cax=cbar_ax)\n",
    "plt.tight_layout()\n",
    "plt.show()    "
   ]
  }
 ],
 "metadata": {
  "kernelspec": {
   "display_name": "Python 3 (ipykernel)",
   "language": "python",
   "name": "python3"
  },
  "language_info": {
   "codemirror_mode": {
    "name": "ipython",
    "version": 3
   },
   "file_extension": ".py",
   "mimetype": "text/x-python",
   "name": "python",
   "nbconvert_exporter": "python",
   "pygments_lexer": "ipython3",
   "version": "3.9.7"
  }
 },
 "nbformat": 4,
 "nbformat_minor": 4
}
