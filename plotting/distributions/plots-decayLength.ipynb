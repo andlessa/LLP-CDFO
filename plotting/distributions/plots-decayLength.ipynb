{
 "cells": [
  {
   "cell_type": "markdown",
   "metadata": {},
   "source": [
    "# Plot"
   ]
  },
  {
   "cell_type": "code",
   "execution_count": 1,
   "metadata": {},
   "outputs": [
    {
     "name": "stdout",
     "output_type": "stream",
     "text": [
      "Welcome to JupyROOT 6.24/06\n"
     ]
    }
   ],
   "source": [
    "import warnings\n",
    "warnings.filterwarnings(\"ignore\", message=\"numpy.dtype size changed\")\n",
    "import numpy as np\n",
    "import os\n",
    "import pandas as pd\n",
    "import matplotlib.pyplot as plt\n",
    "import seaborn as sns\n",
    "import sys\n",
    "\n",
    "delphesDir = os.path.abspath(\"../../DelphesLLP\")\n",
    "os.environ['ROOT_INCLUDE_PATH'] = os.path.join(delphesDir,\"external\")\n",
    "\n",
    "import ROOT\n",
    "import xml.etree.ElementTree as ET\n",
    "\n",
    "\n",
    "ROOT.gSystem.Load(os.path.join(delphesDir,\"libDelphes.so\"))\n",
    "\n",
    "ROOT.gInterpreter.Declare('#include \"classes/SortableObject.h\"')\n",
    "ROOT.gInterpreter.Declare('#include \"classes/DelphesClasses.h\"')\n",
    "ROOT.gInterpreter.Declare('#include \"external/ExRootAnalysis/ExRootTreeReader.h\"')\n",
    "\n",
    "sys.path.append('../../')\n",
    "sys.path.append('../../ATLAS-SUSY-2016-08')\n",
    "from helper import getLLPs,getModelDict,getUserInfo,getEventNorm,getHSCPCandidates\n",
    "\n",
    "pd.option_context('display.max_columns', -1)\n",
    "\n",
    "pd.options.mode.chained_assignment = None #Disable copy warnings\n",
    "# plt.style.use('fivethirtyeight') #Set style\n",
    "# mpl.rcParams.update({'figure.figsize' : (15,10)})  #Set general plotting options\n",
    "plt.rcParams.update({\n",
    "    \"text.usetex\": True,\n",
    "    \"font.family\": \"sans-serif\",\n",
    "    \"font.sans-serif\": [\"Helvetica\"]})\n",
    "\n",
    "plt.rcParams.update({\"savefig.dpi\" : 300}) #Figure resolution\n",
    "\n",
    "\n",
    "#Define plotting style:\n",
    "sns.set_style('ticks',{'font.family':'Times New Roman', 'font.serif':'Times New Roman'})\n",
    "sns.set_context('paper', font_scale=1.8)\n",
    "cm = plt.colormaps['RdYlBu']\n",
    "\n",
    "colors = sns.color_palette('Paired')"
   ]
  },
  {
   "cell_type": "markdown",
   "metadata": {},
   "source": [
    "### Load Recast Data"
   ]
  },
  {
   "cell_type": "code",
   "execution_count": 2,
   "metadata": {},
   "outputs": [
    {
     "name": "stdout",
     "output_type": "stream",
     "text": [
      "mLLP =  481.38\n",
      "width (GeV) =  2.309474e-14\n",
      "tau (ns) =  0.028499996103008733\n",
      "mLLP =  808.0\n",
      "width (GeV) =  6.70948e-16\n",
      "tau (ns) =  0.9810000178851417\n"
     ]
    }
   ],
   "source": [
    "inputFiles = ['../../eventData/cdfo_481.38_450.00_tau_2.85e-02_delphes_events.root',\n",
    "              '../../eventData/cdfo_808.00_800.00_tau_9.81e-01_delphes_events.root']\n",
    "\n",
    "labelsDict = {}\n",
    "for f in inputFiles:\n",
    "    bannerFile = 'run_01_%s_banner.txt' %(os.path.basename(f).replace('_delphes_events.root',''))\n",
    "    bannerFile = os.path.join(os.path.dirname(f),bannerFile)\n",
    "    modelDict = getModelDict(f,model='sbottom',bannerFile=bannerFile)\n",
    "    labelsDict[f] = r'$m_{Y} = %1.0f$ GeV, $m_{X} = %1.0f$ GeV, $\\tau = %1.2f$ ns'%(modelDict['mLLP'],modelDict['mLSP'],modelDict['tau_ns'])\n"
   ]
  },
  {
   "cell_type": "code",
   "execution_count": 3,
   "metadata": {},
   "outputs": [
    {
     "name": "stderr",
     "output_type": "stream",
     "text": [
      "Error in <TList::Clear>: A list is accessing an object (0xa40c860) already deleted (list name = TList)\n",
      "Error in <TList::Clear>: A list is accessing an object (0xa43d4c0) already deleted (list name = TList)\n",
      "Error in <TList::Clear>: A list is accessing an object (0xa43d8f0) already deleted (list name = TList)\n",
      "Error in <TList::Clear>: A list is accessing an object (0xa446bc0) already deleted (list name = TList)\n",
      "Error in <TList::Clear>: A list is accessing an object (0xa446f30) already deleted (list name = TList)\n",
      "Error in <TList::Clear>: A list is accessing an object (0xa4473a0) already deleted (list name = TList)\n",
      "Error in <TList::Clear>: A list is accessing an object (0xa447710) already deleted (list name = TList)\n",
      "Error in <TList::Clear>: A list is accessing an object (0xa447c90) already deleted (list name = TList)\n",
      "Error in <TList::Clear>: A list is accessing an object (0xa449000) already deleted (list name = TList)\n",
      "Error in <TList::Clear>: A list is accessing an object (0xa4495e0) already deleted (list name = TList)\n",
      "Error in <TList::Clear>: A list is accessing an object (0xa449fe0) already deleted (list name = TList)\n",
      "Error in <TList::Clear>: A list is accessing an object (0xa44a4f0) already deleted (list name = TList)\n",
      "Error in <TList::Clear>: A list is accessing an object (0xa44c690) already deleted (list name = TList)\n",
      "Error in <TList::Clear>: A list is accessing an object (0xa44c970) already deleted (list name = TList)\n",
      "Error in <TList::Clear>: A list is accessing an object (0xa44cfe0) already deleted (list name = TList)\n",
      "Error in <TList::Clear>: A list is accessing an object (0xa44f750) already deleted (list name = TList)\n",
      "Error in <TList::Clear>: A list is accessing an object (0xa4582e0) already deleted (list name = TList)\n",
      "Error in <TList::Clear>: A list is accessing an object (0xa4588c0) already deleted (list name = TList)\n",
      "Error in <TList::Clear>: A list is accessing an object (0xa456780) already deleted (list name = TList)\n",
      "Error in <TList::Clear>: A list is accessing an object (0xa46f8d0) already deleted (list name = TList)\n",
      "Error in <TList::Clear>: A list is accessing an object (0xa46fc50) already deleted (list name = TList)\n",
      "Error in <TList::Clear>: A list is accessing an object (0xa472160) already deleted (list name = TList)\n",
      "Error in <TList::Clear>: A list is accessing an object (0xa47b0f0) already deleted (list name = TList)\n",
      "Error in <TList::Clear>: A list is accessing an object (0xa47b4c0) already deleted (list name = TList)\n",
      "Error in <TList::Clear>: A list is accessing an object (0xa47b960) already deleted (list name = TList)\n",
      "Error in <TList::Clear>: A list is accessing an object (0xa47bc90) already deleted (list name = TList)\n",
      "Error in <TList::Clear>: A list is accessing an object (0xa47cad0) already deleted (list name = TList)\n",
      "Error in <TList::Clear>: A list is accessing an object (0xa47e410) already deleted (list name = TList)\n",
      "Error in <TList::Clear>: A list is accessing an object (0xa47e8d0) already deleted (list name = TList)\n",
      "Error in <TList::Clear>: A list is accessing an object (0xa47f350) already deleted (list name = TList)\n",
      "Error in <TList::Clear>: A list is accessing an object (0xa47f8f0) already deleted (list name = TList)\n",
      "Error in <TList::Clear>: A list is accessing an object (0xa47fe20) already deleted (list name = TList)\n",
      "Error in <TList::Clear>: A list is accessing an object (0xa480280) already deleted (list name = TList)\n",
      "Error in <TList::Clear>: A list is accessing an object (0xa48bd40) already deleted (list name = TList)\n",
      "Error in <THashList::Delete>: A list is accessing an object (0xa2383a0) already deleted (list name = THashList)\n",
      "Error in <TList::Delete>: A list is accessing an object (0x93e0340) already deleted (list name = TList)\n",
      "Error in <TList::Clear>: A list is accessing an object (0x1d5f4dd0) already deleted (list name = TList)\n",
      "Error in <TList::Clear>: A list is accessing an object (0xb527c10) already deleted (list name = TList)\n",
      "Error in <TList::Clear>: A list is accessing an object (0xb5279f0) already deleted (list name = TList)\n",
      "Error in <TList::Clear>: A list is accessing an object (0xb527700) already deleted (list name = TList)\n",
      "Error in <TList::Clear>: A list is accessing an object (0xb527520) already deleted (list name = TList)\n",
      "Error in <TList::Clear>: A list is accessing an object (0x1d5f4c70) already deleted (list name = TList)\n",
      "Error in <TList::Clear>: A list is accessing an object (0x1d82c2f0) already deleted (list name = TList)\n",
      "Error in <TList::Clear>: A list is accessing an object (0x189500d0) already deleted (list name = TList)\n",
      "Error in <TList::Clear>: A list is accessing an object (0x179d0ee0) already deleted (list name = TList)\n",
      "Error in <TList::Clear>: A list is accessing an object (0x1de4e6b0) already deleted (list name = TList)\n",
      "Error in <TList::Clear>: A list is accessing an object (0x1d5f2330) already deleted (list name = TList)\n",
      "Error in <TList::Clear>: A list is accessing an object (0xb5269f0) already deleted (list name = TList)\n",
      "Error in <TList::Clear>: A list is accessing an object (0x189515f0) already deleted (list name = TList)\n",
      "Error in <TList::Clear>: A list is accessing an object (0x189512d0) already deleted (list name = TList)\n",
      "Error in <TList::Clear>: A list is accessing an object (0x18958c70) already deleted (list name = TList)\n",
      "Error in <TList::Clear>: A list is accessing an object (0x1d5ebfd0) already deleted (list name = TList)\n",
      "Error in <TList::Clear>: A list is accessing an object (0x1d828cc0) already deleted (list name = TList)\n",
      "Error in <TList::Clear>: A list is accessing an object (0x1d8292a0) already deleted (list name = TList)\n",
      "Error in <TList::Clear>: A list is accessing an object (0x189530b0) already deleted (list name = TList)\n",
      "Error in <TList::Clear>: A list is accessing an object (0x1d82a100) already deleted (list name = TList)\n",
      "Error in <TList::Clear>: A list is accessing an object (0x1d82a320) already deleted (list name = TList)\n",
      "Error in <TList::Clear>: A list is accessing an object (0x1d5f0da0) already deleted (list name = TList)\n",
      "Error in <TList::Clear>: A list is accessing an object (0x1d5f11b0) already deleted (list name = TList)\n",
      "Error in <TList::Clear>: A list is accessing an object (0x189552b0) already deleted (list name = TList)\n",
      "Error in <TList::Clear>: A list is accessing an object (0x18955750) already deleted (list name = TList)\n",
      "Error in <TList::Clear>: A list is accessing an object (0x18955a50) already deleted (list name = TList)\n",
      "Error in <TList::Clear>: A list is accessing an object (0x1cdca600) already deleted (list name = TList)\n",
      "Error in <TList::Clear>: A list is accessing an object (0x1d5ee230) already deleted (list name = TList)\n",
      "Error in <TList::Clear>: A list is accessing an object (0x1d5ee6a0) already deleted (list name = TList)\n",
      "Error in <TList::Clear>: A list is accessing an object (0x1d5ef120) already deleted (list name = TList)\n",
      "Error in <TList::Clear>: A list is accessing an object (0x18957b70) already deleted (list name = TList)\n",
      "Error in <TList::Clear>: A list is accessing an object (0x189580a0) already deleted (list name = TList)\n",
      "Error in <TList::Clear>: A list is accessing an object (0x18958500) already deleted (list name = TList)\n",
      "Error in <TList::Clear>: A list is accessing an object (0x1d82b7d0) already deleted (list name = TList)\n",
      "Error in <THashList::Delete>: A list is accessing an object (0x1d5f1cf0) already deleted (list name = THashList)\n",
      "Error in <TList::Delete>: A list is accessing an object (0x182ded90) already deleted (list name = TList)\n"
     ]
    }
   ],
   "source": [
    "weights = {f : [] for f in inputFiles}\n",
    "track_length = {f : [] for f in inputFiles}\n",
    "lumi = 1.0\n",
    "nCharged = {f : 0 for f in inputFiles}\n",
    "nLLP = {f : 0 for f in inputFiles}\n",
    "for inputFile in inputFiles:\n",
    "    f = ROOT.TFile(inputFile,'read')\n",
    "    tree = f.Get(\"Delphes\")\n",
    "    nevts = tree.GetEntries()\n",
    "    userInfo = getUserInfo(tree,inputFile)\n",
    "    norm = getEventNorm(userInfo,False,nevts,nevts)\n",
    "\n",
    "    for ievt in range(nevts):\n",
    "        tree.GetEntry(ievt)   \n",
    "        weightPB = tree.Event.At(0).Weight/nevts*norm     \n",
    "        ns = weightPB*1e3*lumi # number of signal events\n",
    "        \n",
    "        llps = getLLPs(tree.bsm,tree.bsmDirectDaughters,tree.bsmFinalDaughters,tree.bsmMothers)\n",
    "        nLLP[inputFile] += len(llps)\n",
    "        llps = getHSCPCandidates(llps)\n",
    "        nCharged[inputFile] += len(llps)\n",
    "\n",
    "\n",
    "        if len(llps) == 0:\n",
    "            continue\n",
    "        llpSel = np.random.choice(llps)\n",
    "        track_length[inputFile].append(min(1e5,np.sqrt(llpSel.r_decay**2 + llpSel.z_decay**2)))\n",
    "        weights[inputFile].append(ns)        \n",
    "    f.Close()\n"
   ]
  },
  {
   "cell_type": "code",
   "execution_count": 4,
   "metadata": {},
   "outputs": [
    {
     "name": "stdout",
     "output_type": "stream",
     "text": [
      "../../eventData/cdfo_481.38_450.00_tau_2.85e-02_delphes_events.root\n",
      "Fraction of charged: 0.4405805092255282\n",
      "../../eventData/cdfo_808.00_800.00_tau_9.81e-01_delphes_events.root\n",
      "Fraction of charged: 0.4415107849279513\n"
     ]
    }
   ],
   "source": [
    "totalweightPB = {}\n",
    "for f,w in weights.items():\n",
    "    print(f)\n",
    "    totalweightPB[f] = np.array(w).sum()\n",
    "    print('Fraction of charged:',nCharged[f]/nLLP[f])"
   ]
  },
  {
   "cell_type": "markdown",
   "metadata": {},
   "source": [
    "### Plot Jet Distributions"
   ]
  },
  {
   "cell_type": "code",
   "execution_count": 5,
   "metadata": {},
   "outputs": [
    {
     "data": {
      "image/png": "[encoded data removed]",
      "text/plain": [
       "<Figure size 504x360 with 1 Axes>"
      ]
     },
     "metadata": {
      "needs_background": "light"
     },
     "output_type": "display_data"
    }
   ],
   "source": [
    "colors = sns.color_palette('deep')\n",
    "fig = plt.figure(figsize=(7,5))\n",
    "lbins = np.arange(0.,110.,10.0)\n",
    "f = inputFiles[0]\n",
    "\n",
    "x = np.array(track_length[f])/10.0\n",
    "w = np.array(weights[f])/totalweightPB[f]\n",
    "h1,_,_ = plt.hist(x,weights=w,label=labelsDict[f],histtype='step',\n",
    "                  linewidth=2,bins=lbins,density=False,color=colors[0])\n",
    "\n",
    "\n",
    "\n",
    "f = inputFiles[1]\n",
    "x = np.array(track_length[f])/10.0\n",
    "w = np.array(weights[f])/totalweightPB[f]\n",
    "h2,_,_ = plt.hist(x,weights=w,label=labelsDict[f],histtype='step',\n",
    "                  linewidth=2,bins=lbins,density=False,color=colors[1])\n",
    "plt.legend(fontsize=14)\n",
    "plt.yscale('log')\n",
    "plt.xlim(0.,100.)\n",
    "plt.xticks(np.arange(0.,110.,10.))\n",
    "plt.grid()\n",
    "\n",
    "plt.xlabel(r'$l_{\\rm trk}$ (cm)',fontsize=18)\n",
    "plt.ylabel('Normalized events')\n",
    "\n",
    "plt.tight_layout()\n",
    "plt.savefig('trackLength.png')\n",
    "plt.show()"
   ]
  },
  {
   "cell_type": "code",
   "execution_count": null,
   "metadata": {},
   "outputs": [],
   "source": []
  }
 ],
 "metadata": {
  "kernelspec": {
   "display_name": "Python 3 (ipykernel)",
   "language": "python",
   "name": "python3"
  },
  "language_info": {
   "codemirror_mode": {
    "name": "ipython",
    "version": 3
   },
   "file_extension": ".py",
   "mimetype": "text/x-python",
   "name": "python",
   "nbconvert_exporter": "python",
   "pygments_lexer": "ipython3",
   "version": "3.9.7"
  }
 },
 "nbformat": 4,
 "nbformat_minor": 4
}
