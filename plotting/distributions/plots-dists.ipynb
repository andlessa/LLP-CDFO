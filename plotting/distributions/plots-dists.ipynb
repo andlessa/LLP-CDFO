{
 "cells": [
  {
   "cell_type": "markdown",
   "metadata": {},
   "source": [
    "# Plot"
   ]
  },
  {
   "cell_type": "code",
   "execution_count": 29,
   "metadata": {},
   "outputs": [],
   "source": [
    "import warnings\n",
    "warnings.filterwarnings(\"ignore\", message=\"numpy.dtype size changed\")\n",
    "import numpy as np\n",
    "import os\n",
    "import pandas as pd\n",
    "import matplotlib.pyplot as plt\n",
    "import seaborn as sns\n",
    "from matplotlib.colors import LogNorm\n",
    "import sys\n",
    "import glob\n",
    "\n",
    "delphesDir = os.path.abspath(\"../../DelphesLLP\")\n",
    "os.environ['ROOT_INCLUDE_PATH'] = os.path.join(delphesDir,\"external\")\n",
    "\n",
    "import ROOT\n",
    "import xml.etree.ElementTree as ET\n",
    "\n",
    "\n",
    "ROOT.gSystem.Load(os.path.join(delphesDir,\"libDelphes.so\"))\n",
    "\n",
    "ROOT.gInterpreter.Declare('#include \"classes/SortableObject.h\"')\n",
    "ROOT.gInterpreter.Declare('#include \"classes/DelphesClasses.h\"')\n",
    "ROOT.gInterpreter.Declare('#include \"external/ExRootAnalysis/ExRootTreeReader.h\"')\n",
    "\n",
    "sys.path.append('../../')\n",
    "sys.path.append('../../ATLAS-SUSY-2016-08')\n",
    "from helper import getLLPs,getJets,getModelDict,getDisplacedJets,getUserInfo,getEventNorm\n",
    "from atlas_susy_2016_08_Recast import eventAcc,vertexAcc,eventEff\n",
    "\n",
    "\n",
    "pd.option_context('display.max_columns', -1)\n",
    "\n",
    "pd.options.mode.chained_assignment = None #Disable copy warnings\n",
    "# plt.style.use('fivethirtyeight') #Set style\n",
    "# mpl.rcParams.update({'figure.figsize' : (15,10)})  #Set general plotting options\n",
    "plt.rcParams.update({\n",
    "    \"text.usetex\": True,\n",
    "    \"font.family\": \"sans-serif\",\n",
    "    \"font.sans-serif\": [\"Helvetica\"]})\n",
    "\n",
    "plt.rcParams.update({\"savefig.dpi\" : 300}) #Figure resolution\n",
    "\n",
    "\n",
    "#Define plotting style:\n",
    "sns.set_style('ticks',{'font.family':'Times New Roman', 'font.serif':'Times New Roman'})\n",
    "sns.set_context('paper', font_scale=1.8)\n",
    "cm = plt.colormaps['RdYlBu']\n",
    "\n",
    "colors = sns.color_palette('Paired')"
   ]
  },
  {
   "cell_type": "markdown",
   "metadata": {},
   "source": [
    "### Load Recast Data"
   ]
  },
  {
   "cell_type": "code",
   "execution_count": 30,
   "metadata": {},
   "outputs": [
    {
     "name": "stdout",
     "output_type": "stream",
     "text": [
      "mLLP =  481.38\n",
      "width (GeV) =  2.309474e-14\n",
      "tau (ns) =  0.028499996103008733\n"
     ]
    }
   ],
   "source": [
    "inputFiles = ['../../eventData/cdfo_481.38_450.00_tau_2.85e-02_delphes_events.root']\n",
    "modelDict = getModelDict(inputFiles[0],model='sbottom',bannerFile='../../eventData/run_01_cdfo_481.38_450.00_tau_2.85e-02_banner.txt')\n",
    "title = r'$m_{Y} = %1.0f$ GeV, $m_{X} = %1.0f$ GeV, $c \\tau = %1.2f$ cm'%(modelDict['mLLP'],modelDict['mLSP'],modelDict['tau_ns']*30)\n",
    "figlabel = 'msb_%1.0f_mchi_%1.0f_tau_%1.2f'%(modelDict['mLLP'],modelDict['mLSP'],modelDict['tau_ns'])"
   ]
  },
  {
   "cell_type": "code",
   "execution_count": 31,
   "metadata": {},
   "outputs": [
    {
     "name": "stderr",
     "output_type": "stream",
     "text": [
      "Error in <THashList::Delete>: A list is accessing an object (0x2f017650) already deleted (list name = THashList)\n",
      "Error in <THashList::Delete>: A list is accessing an object (0x17d84400) already deleted (list name = THashList)\n",
      "Error in <TList::Delete>: A list is accessing an object (0xadc25b0) already deleted (list name = TList)\n"
     ]
    }
   ],
   "source": [
    "pTj1 = []\n",
    "pTj1Disp = []\n",
    "pTj2 = []\n",
    "mDV_nTracks = []\n",
    "mDV_nTracks_cuts = []\n",
    "RDV_max = []\n",
    "njets = []\n",
    "njetsDisp = []\n",
    "met = []\n",
    "weights = []\n",
    "track_length = []\n",
    "ntotal = 0\n",
    "lumi = 1.0\n",
    "totalweightPB = 0.0\n",
    "ntotal = 0\n",
    "for inputFile in inputFiles:\n",
    "    f = ROOT.TFile(inputFile,'read')\n",
    "    tree = f.Get(\"Delphes\")\n",
    "    nevts = tree.GetEntries()\n",
    "    ntotal += nevts\n",
    "    f.Close()\n",
    "\n",
    "\n",
    "for inputFile in inputFiles:\n",
    "    f = ROOT.TFile(inputFile,'read')\n",
    "    tree = f.Get(\"Delphes\")\n",
    "    nevts = tree.GetEntries()\n",
    "    userInfo = getUserInfo(tree,inputFile)\n",
    "    norm = getEventNorm(userInfo,False,nevts,ntotal)\n",
    "\n",
    "    for ievt in range(nevts):\n",
    "        tree.GetEntry(ievt)   \n",
    "        weightPB = tree.Event.At(0).Weight/nevts*norm     \n",
    "        totalweightPB += weightPB\n",
    "        ns = weightPB*1e3*lumi # number of signal events\n",
    "        \n",
    "        llps = getLLPs(tree.bsm,tree.bsmDirectDaughters,tree.bsmFinalDaughters,trackEff=1.0)\n",
    "        jets = getJets(tree.GenJet,pTmin=25.,etaMax=5.0)\n",
    "        jets = sorted(jets, key = lambda j: j.PT, reverse=True)\n",
    "        jetsDisp = getDisplacedJets(jets,llps)\n",
    "        jetsDisp = [j for j in jetsDisp[:] if j.llp.r_decay > 4.0]\n",
    "        jetsPrompt = [j for j in jets if not any(j is jd for jd in jetsDisp)]\n",
    "\n",
    "        if len(llps) > 0:\n",
    "            llpSel = np.random.choice(llps)\n",
    "            track_length.append(np.sqrt(llpSel.r_decay**2 + llpSel.z_decay**2))\n",
    "\n",
    "        njets.append(len(jetsPrompt))\n",
    "        njetsDisp.append(len(jetsDisp))\n",
    "        pt1 = 0.0\n",
    "        pt2 = 0.0\n",
    "        pt1Disp = 0.0\n",
    "        rmax = 0.0\n",
    "        if len(jetsPrompt) > 0:\n",
    "            pt1 = jetsPrompt[0].PT\n",
    "        if len(jetsPrompt) > 1:\n",
    "            pt2 = jetsPrompt[1].PT\n",
    "        if len(jetsDisp) > 0:\n",
    "            pt1Disp = jetsDisp[0].PT\n",
    "            rmax = max([j.llp.r_decay for j in jetsDisp])\n",
    "        pTj1.append(pt1)\n",
    "        pTj2.append(pt2)\n",
    "        pTj1Disp.append(pt1Disp)\n",
    "        missET = tree.GenMissingET.At(0).MET\n",
    "        met.append(missET)\n",
    "        RDV_max.append(rmax)\n",
    "        weights.append(ns)\n",
    "        \n",
    "        for llp in llps:\n",
    "            mDV_nTracks.append([llp.mDV,llp.nTracks,ns])\n",
    "\n",
    "        # Apply cuts acceptance\n",
    "        evt_acc = eventAcc(jets,missET,metCut=200.0,\n",
    "                               maxJetChargedPT=5.0,minJetPt1=70.,\n",
    "                               minJetPt2=25.)\n",
    "\n",
    "        if (not evt_acc):\n",
    "            continue\n",
    "\n",
    "        ns = ns*evt_acc\n",
    "        # Vertex acceptances:\n",
    "        v_acc = np.array([vertexAcc(llp,Rmax=300.0,zmax=300.0,Rmin=4.0,\n",
    "                                    d0min=2.0,nmin=0,mDVmin=0.0)  for llp in llps])\n",
    "        good_llps = np.array(llps)[v_acc > 0.0]\n",
    "        if len(good_llps) == 0:\n",
    "            continue\n",
    "        # Event efficiency\n",
    "        evt_eff = eventEff(missET,good_llps)\n",
    "        if evt_eff <=0.0:\n",
    "            continue\n",
    "        ns = ns*evt_eff\n",
    "        for llp in good_llps:\n",
    "            mDV_nTracks_cuts.append([llp.mDV,llp.nTracks,ns])\n",
    "    f.Close()\n",
    "            "
   ]
  },
  {
   "cell_type": "code",
   "execution_count": 32,
   "metadata": {},
   "outputs": [
    {
     "name": "stdout",
     "output_type": "stream",
     "text": [
      "0.4961780794064953\n"
     ]
    }
   ],
   "source": [
    "print(totalweightPB)"
   ]
  },
  {
   "cell_type": "code",
   "execution_count": 33,
   "metadata": {},
   "outputs": [
    {
     "name": "stdout",
     "output_type": "stream",
     "text": [
      "0.4961780794056258\n"
     ]
    }
   ],
   "source": [
    "weightsPB = np.array(weights)/1e3\n",
    "print(weightsPB.sum())"
   ]
  },
  {
   "cell_type": "markdown",
   "metadata": {},
   "source": [
    "### Plot Jet Distributions"
   ]
  },
  {
   "cell_type": "code",
   "execution_count": 34,
   "metadata": {},
   "outputs": [
    {
     "data": {
      "image/png": "[encoded data removed]",
      "text/plain": [
       "<Figure size 504x360 with 1 Axes>"
      ]
     },
     "metadata": {},
     "output_type": "display_data"
    }
   ],
   "source": [
    "colors = sns.color_palette('deep')\n",
    "fig = plt.figure(figsize=(7,5))\n",
    "pTbins = np.arange(25.,500.,25.)\n",
    "h1,_,_ = plt.hist(pTj1,weights=weightsPB/totalweightPB,label=r'Prompt jets',histtype='step',\n",
    "                  linewidth=2,bins=pTbins,density=False,color=colors[0])\n",
    "\n",
    "h2,_,_ = plt.hist(pTj1Disp,weights=weightsPB/totalweightPB,label=r'Displaced jets',histtype='step',\n",
    "                  linewidth=2,bins=pTbins,density=False,color=colors[1])\n",
    "plt.legend()\n",
    "plt.yscale('log')\n",
    "plt.ylim(1e-3,1e0)\n",
    "plt.xlim(25.,400.)\n",
    "plt.grid()\n",
    "\n",
    "plt.xlabel(r'$p_T(j_1)$ (GeV)',fontsize=18)\n",
    "plt.ylabel('Normalized events')\n",
    "\n",
    "# plt.title(r'$m_T = %1.0f$ GeV, $m_{\\chi} = %1.0f$ GeV, $y_{DM} = %1.0f$' %(mST,mChi,yDM),loc='left')\n",
    "plt.title(title,fontsize=14)\n",
    "plt.tight_layout()\n",
    "plt.savefig('jetPTs_%s.png' %figlabel)\n",
    "plt.show()"
   ]
  },
  {
   "cell_type": "code",
   "execution_count": 35,
   "metadata": {},
   "outputs": [
    {
     "data": {
      "image/png": "[encoded data removed]",
      "text/plain": [
       "<Figure size 504x360 with 1 Axes>"
      ]
     },
     "metadata": {},
     "output_type": "display_data"
    }
   ],
   "source": [
    "fig = plt.figure(figsize=(7,5))\n",
    "njBins = np.arange(0.,10.,1.)\n",
    "h1,b,_ = plt.hist(njets,weights=weightsPB/totalweightPB,histtype='step',linewidth=2,\n",
    "         bins=njBins,density=False,color=colors[0],label='Prompt jets')\n",
    "h2,_,_ = plt.hist(njetsDisp,weights=weightsPB/totalweightPB,histtype='step',linewidth=2,\n",
    "         bins=njBins,density=False,color=colors[1],label='Displaced jets')\n",
    "\n",
    "# plt.vlines(x=2.,ymin=h1.min(),ymax=0.4,linestyle = 'dashed', color=colors[0])\n",
    "plt.grid()\n",
    "# plt.text(b[2],0.8*h2.max(),r'$p_T(j) > 25$ GeV',\n",
    "#          fontsize=15,bbox={'boxstyle':'round', 'facecolor':'white'})\n",
    "plt.xlabel(r'$n(j)$',fontsize=18)\n",
    "plt.ylabel('Normalized events')\n",
    "plt.title(title,fontsize=14)\n",
    "plt.legend()\n",
    "plt.tight_layout()\n",
    "plt.savefig('njet_%s.png' %figlabel)\n",
    "plt.show()"
   ]
  },
  {
   "cell_type": "code",
   "execution_count": 36,
   "metadata": {},
   "outputs": [
    {
     "data": {
      "image/png": "[encoded data removed]",
      "text/plain": [
       "<Figure size 504x360 with 1 Axes>"
      ]
     },
     "metadata": {},
     "output_type": "display_data"
    }
   ],
   "source": [
    "fig = plt.figure(figsize=(7,5))\n",
    "njBins = np.arange(0.,15.,0.5)\n",
    "h1,b,_ = plt.hist(RDV_max,weights=weightsPB/totalweightPB,histtype='step',linewidth=2,\n",
    "         bins=njBins,density=False,color=colors[0])\n",
    "\n",
    "# plt.vlines(x=4.,ymin=h1.min(),ymax=0.2,linestyle = 'dashed', color=colors[0])\n",
    "plt.grid()\n",
    "# plt.text(b[6],0.05,r'$p_T(j) > 25$ GeV',\n",
    "#          fontsize=15,bbox={'boxstyle':'round', 'facecolor':'white'})\n",
    "plt.xlabel(r'$R_{xy}^{max}(j)$ (mm)',fontsize=18)\n",
    "plt.ylabel('Normalized events')\n",
    "plt.xlim(0.5,10.)\n",
    "plt.ylim(0.0,0.06)\n",
    "plt.title(title,fontsize=14)\n",
    "plt.tight_layout()\n",
    "plt.savefig('rdvjet_%s.png' %figlabel)\n",
    "plt.show()"
   ]
  },
  {
   "cell_type": "markdown",
   "metadata": {},
   "source": [
    "### Plot MET"
   ]
  },
  {
   "cell_type": "code",
   "execution_count": 37,
   "metadata": {},
   "outputs": [
    {
     "data": {
      "image/png": "[encoded data removed]",
      "text/plain": [
       "<Figure size 504x360 with 1 Axes>"
      ]
     },
     "metadata": {},
     "output_type": "display_data"
    }
   ],
   "source": [
    "fig = plt.figure(figsize=(7,5))\n",
    "metBins = np.arange(0.,500.,50.)\n",
    "h1,_,_ = plt.hist(met,weights=weightsPB/totalweightPB,histtype='step',linewidth=2,\n",
    "         bins=metBins,density=False,color=colors[0])\n",
    "# plt.vlines(x=200.,ymin=h1.min(),ymax=h1.max(),linestyle = 'dashed', color=colors[0])\n",
    "plt.grid()\n",
    "\n",
    "plt.xlabel(r'$E_{T}^{\\rm miss}$ (GeV)',fontsize=18)\n",
    "plt.ylabel('Normalized events')\n",
    "plt.title(title,fontsize=14)\n",
    "plt.tight_layout()\n",
    "plt.savefig('met_%s.png' %figlabel)\n",
    "plt.show()"
   ]
  },
  {
   "cell_type": "markdown",
   "metadata": {},
   "source": [
    "### Plot mDV and nTracks dist"
   ]
  },
  {
   "cell_type": "code",
   "execution_count": 38,
   "metadata": {},
   "outputs": [],
   "source": [
    "mDV_nTracks_weights = np.array(mDV_nTracks)\n",
    "data_obs = np.genfromtxt('../../ATLAS-SUSY-2016-08/ATLAS_data/HEPData-ins1630632-v2-csv/Table6.csv',\n",
    "                         delimiter=',',skip_header=11,skip_footer=113)\n",
    "data_exp = np.genfromtxt('../../ATLAS-SUSY-2016-08/ATLAS_data/HEPData-ins1630632-v2-csv/Table6.csv',\n",
    "                         delimiter=',',skip_header=126)"
   ]
  },
  {
   "cell_type": "code",
   "execution_count": 39,
   "metadata": {},
   "outputs": [
    {
     "data": {
      "image/png": "[encoded data removed]",
      "text/plain": [
       "<Figure size 504x360 with 2 Axes>"
      ]
     },
     "metadata": {},
     "output_type": "display_data"
    }
   ],
   "source": [
    "fig = plt.figure(figsize=(7,5))\n",
    "cm = plt.colormaps['YlGnBu_r']\n",
    "mDV_bins = np.sort(np.unique(data_exp[:,1]))\n",
    "n_bins = np.sort((np.unique(data_exp[:,0])))\n",
    "# mDV_bins = np.append(mDV_bins,np.arange(200.,1000.,100.))\n",
    "n_bins = np.append(np.unique(data_exp[:,0]),[20.,30.,40.])\n",
    "h = plt.hist2d(mDV_nTracks_weights[:,1],mDV_nTracks_weights[:,0],cmap=cm,\n",
    "               weights=mDV_nTracks_weights[:,2],bins=(n_bins,mDV_bins),norm=LogNorm(vmin=1e-1,vmax=10))\n",
    "\n",
    "\n",
    "# for ipt,pt in enumerate(data_obs):\n",
    "#     if pt[-1] == 0.0:\n",
    "#         continue\n",
    "#     plt.text(1.1*pt[0],pt[1],'%i' %pt[-1],fontsize=10)\n",
    "    \n",
    "# plt.hlines(y=10.0,xmin=5.,xmax=max(n_bins),colors='red',linestyle='dashed')\n",
    "# plt.vlines(x=5.0,ymin=10.,ymax=max(mDV_bins),colors='red',linestyle='dashed')\n",
    "plt.xscale('log')\n",
    "plt.yscale('log')\n",
    "plt.ylabel(r'$m_{\\rm DV}$ (GeV)')\n",
    "plt.xlabel(r'$n_{\\rm trk}$')\n",
    "plt.ylim(2,120.)\n",
    "plt.xlim(2,40)\n",
    "fig.colorbar(h[3], ax=plt.gca(),label='Number of Vertices')\n",
    "plt.title(title,fontsize=14)\n",
    "plt.tight_layout()\n",
    "plt.savefig('mDVnTrack_%s.png' %figlabel)\n",
    "plt.show()"
   ]
  },
  {
   "cell_type": "markdown",
   "metadata": {},
   "source": [
    "### Plot mDV and nTracks dist after pre-selection"
   ]
  },
  {
   "cell_type": "code",
   "execution_count": 40,
   "metadata": {},
   "outputs": [],
   "source": [
    "mDV_nTracks_weights_cut = np.array(mDV_nTracks_cuts)"
   ]
  },
  {
   "cell_type": "code",
   "execution_count": 41,
   "metadata": {},
   "outputs": [
    {
     "data": {
      "image/png": "[encoded data removed]",
      "text/plain": [
       "<Figure size 504x360 with 2 Axes>"
      ]
     },
     "metadata": {},
     "output_type": "display_data"
    }
   ],
   "source": [
    "fig = plt.figure(figsize=(7,5))\n",
    "cm = plt.colormaps['YlGnBu_r']\n",
    "mDV_bins = np.sort(np.unique(data_exp[:,1]))\n",
    "n_bins = np.sort((np.unique(data_exp[:,0])))\n",
    "# mDV_bins = np.append(mDV_bins,np.arange(200.,1000.,100.))\n",
    "n_bins = np.append(np.unique(data_exp[:,0]),[20.,30.,40.])\n",
    "h = plt.hist2d(mDV_nTracks_weights_cut[:,1],mDV_nTracks_weights_cut[:,0],cmap=cm,\n",
    "               weights=mDV_nTracks_weights_cut[:,2],bins=(n_bins,mDV_bins),norm=LogNorm(vmin=1e-1,vmax=10))\n",
    "\n",
    "\n",
    "# for ipt,pt in enumerate(data_obs):\n",
    "#     if pt[-1] == 0.0:\n",
    "#         continue\n",
    "#     plt.text(1.1*pt[0],pt[1],'%i' %pt[-1],fontsize=10)\n",
    "\n",
    "\n",
    "plt.hlines(y=10.0,xmin=5.,xmax=max(n_bins),colors='red',linestyle='solid',label='ATLAS SR',linewidth=2)\n",
    "plt.vlines(x=5.0,ymin=10.,ymax=max(mDV_bins),colors='red',linestyle='solid',linewidth=2)\n",
    "\n",
    "plt.hlines(y=5.0,xmin=5.,xmax=max(n_bins),colors='red',linestyle='dashed',label='Extended SR',linewidth=2)\n",
    "plt.vlines(x=5.0,ymin=5.,ymax=max(mDV_bins),colors='red',linestyle='dashed',linewidth=2)\n",
    "\n",
    "\n",
    "plt.text(n_bins[-int(len(n_bins)/1.5)],mDV_bins[-6],\"After ATLAS Pre-Selection\",fontsize=14)\n",
    "\n",
    "plt.xscale('log')\n",
    "plt.yscale('log')\n",
    "plt.ylabel(r'$m_{\\rm DV}$ (GeV)')\n",
    "plt.xlabel(r'$n_{\\rm trk}$')\n",
    "plt.ylim(2,120.)\n",
    "plt.xlim(2,40)\n",
    "fig.colorbar(h[3], ax=plt.gca(),label='Number of Vertices')\n",
    "plt.title(title,fontsize=14)\n",
    "plt.legend()\n",
    "plt.tight_layout()\n",
    "plt.savefig('mDVnTrackCut_%s.png' %figlabel)\n",
    "plt.show()"
   ]
  },
  {
   "cell_type": "code",
   "execution_count": null,
   "metadata": {},
   "outputs": [],
   "source": []
  },
  {
   "cell_type": "code",
   "execution_count": null,
   "metadata": {},
   "outputs": [],
   "source": []
  },
  {
   "cell_type": "code",
   "execution_count": null,
   "metadata": {},
   "outputs": [],
   "source": []
  }
 ],
 "metadata": {
  "kernelspec": {
   "display_name": "Python 3 (ipykernel)",
   "language": "python",
   "name": "python3"
  },
  "language_info": {
   "codemirror_mode": {
    "name": "ipython",
    "version": 3
   },
   "file_extension": ".py",
   "mimetype": "text/x-python",
   "name": "python",
   "nbconvert_exporter": "python",
   "pygments_lexer": "ipython3",
   "version": "3.9.7"
  }
 },
 "nbformat": 4,
 "nbformat_minor": 4
}
