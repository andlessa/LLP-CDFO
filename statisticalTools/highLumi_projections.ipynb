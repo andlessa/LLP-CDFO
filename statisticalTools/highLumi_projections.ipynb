{
 "cells": [
  {
   "cell_type": "code",
   "execution_count": 3,
   "metadata": {},
   "outputs": [],
   "source": [
    "from statistics_toys import upperLimit\n",
    "import pandas as pd\n",
    "import numpy as np"
   ]
  },
  {
   "cell_type": "markdown",
   "metadata": {},
   "source": [
    "### ATLAS-SUSY-2016-08"
   ]
  },
  {
   "cell_type": "markdown",
   "metadata": {},
   "source": [
    "#### Limits for current lumi"
   ]
  },
  {
   "cell_type": "code",
   "execution_count": 5,
   "metadata": {},
   "outputs": [
    {
     "name": "stdout",
     "output_type": "stream",
     "text": [
      "xsec_UL (fb) = 0.09, ns_UL = 3.0\n"
     ]
    }
   ],
   "source": [
    "Nobs = 0.0\n",
    "Nexp = 0.02\n",
    "sigmaexp = 0.02\n",
    "lumi = 32.8\n",
    "sigma_UL = upperLimit(Nobs,Nexp,sigmaexp,lumi)\n",
    "print('xsec_UL (fb) = %1.2f, ns_UL = %1.1f' %(sigma_UL,sigma_UL*lumi))"
   ]
  },
  {
   "cell_type": "markdown",
   "metadata": {},
   "source": [
    "#### Limits for high lumi"
   ]
  },
  {
   "cell_type": "code",
   "execution_count": 9,
   "metadata": {},
   "outputs": [
    {
     "name": "stdout",
     "output_type": "stream",
     "text": [
      "xsec_UL (fb) = 0.00138, ns_UL = 4.13285\n"
     ]
    }
   ],
   "source": [
    "lumi_HL = 3000.0\n",
    "Nexp_HL = Nexp*lumi_HL/lumi\n",
    "Nobs_HL = Nexp_HL # assumes obs = expected\n",
    "sigmaexp_HL = (sigmaexp/Nexp)*Nexp_HL # assumes uncertainty is dominated by the systematical uncertainty\n",
    "sigma_UL_HL = upperLimit(Nobs_HL,Nexp_HL,sigmaexp_HL,lumi_HL)\n",
    "print('xsec_UL (fb) = %1.5f, ns_UL = %1.5f' %(sigma_UL_HL,sigma_UL_HL*lumi_HL))"
   ]
  },
  {
   "cell_type": "markdown",
   "metadata": {},
   "source": [
    "### ATLAS-SUSY-2018-13"
   ]
  },
  {
   "cell_type": "markdown",
   "metadata": {},
   "source": [
    "#### Limits for current lumi"
   ]
  },
  {
   "cell_type": "markdown",
   "metadata": {},
   "source": [
    "##### Trackless SR"
   ]
  },
  {
   "cell_type": "code",
   "execution_count": 20,
   "metadata": {},
   "outputs": [
    {
     "name": "stdout",
     "output_type": "stream",
     "text": [
      "xsec_UL (fb) = 0.02, ns_UL = 3.0\n"
     ]
    }
   ],
   "source": [
    "Nobs_trackless = 0.0\n",
    "Nexp_trackless = 0.83\n",
    "sigmaexp_trackless = 0.5\n",
    "lumi = 139.0\n",
    "sigma_UL_trackless = upperLimit(Nobs_trackless,Nexp_trackless,sigmaexp_trackless,lumi)\n",
    "print('xsec_UL (fb) = %1.2f, ns_UL = %1.1f' %(sigma_UL_trackless,sigma_UL_trackless*lumi))"
   ]
  },
  {
   "cell_type": "markdown",
   "metadata": {},
   "source": [
    "##### High-PT SR"
   ]
  },
  {
   "cell_type": "code",
   "execution_count": 21,
   "metadata": {},
   "outputs": [
    {
     "name": "stdout",
     "output_type": "stream",
     "text": [
      "xsec_UL (fb) = 0.03, ns_UL = 4.4\n"
     ]
    }
   ],
   "source": [
    "Nobs_highpt = 1.0\n",
    "Nexp_highpt = 0.46\n",
    "sigmaexp_highpt = 0.3\n",
    "lumi = 139.0\n",
    "sigma_UL_highpt = upperLimit(Nobs_highpt,Nexp_highpt,sigmaexp_highpt,lumi)\n",
    "print('xsec_UL (fb) = %1.2f, ns_UL = %1.1f' %(sigma_UL_highpt,sigma_UL_highpt*lumi))"
   ]
  },
  {
   "cell_type": "markdown",
   "metadata": {},
   "source": [
    "#### Limits for high lumi"
   ]
  },
  {
   "cell_type": "markdown",
   "metadata": {},
   "source": [
    "##### Trackless SR"
   ]
  },
  {
   "cell_type": "code",
   "execution_count": 22,
   "metadata": {},
   "outputs": [
    {
     "name": "stdout",
     "output_type": "stream",
     "text": [
      "xsec_UL (fb) = 0.00608, ns_UL = 18.23508\n"
     ]
    }
   ],
   "source": [
    "lumi_HL = 3000.0\n",
    "Nexp_trackless_HL = Nexp_trackless*lumi_HL/lumi\n",
    "Nobs_trackless_HL = Nexp_trackless_HL # assumes obs = expected\n",
    "sigmaexp_trackless_HL = (sigmaexp_trackless/Nexp_trackless)*Nexp_trackless_HL # assumes uncertainty is dominated by the systematical uncertainty\n",
    "sigma_UL_trackless_HL = upperLimit(Nobs_trackless_HL,Nexp_trackless_HL,sigmaexp_trackless_HL,lumi_HL)\n",
    "print('xsec_UL (fb) = %1.5f, ns_UL = %1.5f' %(sigma_UL_trackless_HL,sigma_UL_trackless_HL*lumi_HL))"
   ]
  },
  {
   "cell_type": "markdown",
   "metadata": {},
   "source": [
    "##### High-PT SR"
   ]
  },
  {
   "cell_type": "code",
   "execution_count": 23,
   "metadata": {},
   "outputs": [
    {
     "name": "stdout",
     "output_type": "stream",
     "text": [
      "xsec_UL (fb) = 0.00380, ns_UL = 11.38700\n"
     ]
    }
   ],
   "source": [
    "lumi_HL = 3000.0\n",
    "Nexp_highpt_HL = Nexp_highpt*lumi_HL/lumi\n",
    "Nobs_highpt_HL = Nexp_highpt_HL # assumes obs = expected\n",
    "sigmaexp_highpt_HL = (sigmaexp_highpt/Nexp_highpt)*Nexp_highpt_HL # assumes uncertainty is dominated by the systematical uncertainty\n",
    "sigma_UL_highpt_HL = upperLimit(Nobs_highpt_HL,Nexp_highpt_HL,sigmaexp_highpt_HL,lumi_HL)\n",
    "print('xsec_UL (fb) = %1.5f, ns_UL = %1.5f' %(sigma_UL_highpt_HL,sigma_UL_highpt_HL*lumi_HL))"
   ]
  },
  {
   "cell_type": "code",
   "execution_count": null,
   "metadata": {},
   "outputs": [],
   "source": []
  },
  {
   "cell_type": "markdown",
   "metadata": {},
   "source": [
    "### ATLAS-SUSY-2018-42"
   ]
  },
  {
   "cell_type": "markdown",
   "metadata": {},
   "source": [
    "#### Limits for current lumi"
   ]
  },
  {
   "cell_type": "code",
   "execution_count": 34,
   "metadata": {},
   "outputs": [],
   "source": [
    "atlasFile = '../ATLAS-SUSY-2018-42/ATLAS_data/modelIndependentLimits.pcl'\n",
    "atlasDF = pd.read_pickle(atlasFile)\n",
    "S95_obs = []\n",
    "for _,row in atlasDF.iterrows():\n",
    "    Nobs = row['Observed']\n",
    "    Nexp = row['Expected background']\n",
    "    sigmaexp = max(abs(row['error +']),abs(row['error -']))\n",
    "    lumi = 139.0\n",
    "    sigma_UL = upperLimit(Nobs,Nexp,sigmaexp,lumi,toys=2000)\n",
    "    S95_obs.append(sigma_UL*lumi)"
   ]
  },
  {
   "cell_type": "code",
   "execution_count": 35,
   "metadata": {},
   "outputs": [
    {
     "data": {
      "text/html": [
       "<div>\n",
       "<style scoped>\n",
       "    .dataframe tbody tr th:only-of-type {\n",
       "        vertical-align: middle;\n",
       "    }\n",
       "\n",
       "    .dataframe tbody tr th {\n",
       "        vertical-align: top;\n",
       "    }\n",
       "\n",
       "    .dataframe thead th {\n",
       "        text-align: right;\n",
       "    }\n",
       "</style>\n",
       "<table border=\"1\" class=\"dataframe\">\n",
       "  <thead>\n",
       "    <tr style=\"text-align: right;\">\n",
       "      <th></th>\n",
       "      <th>Target Mass [GeV]</th>\n",
       "      <th>Mass Window</th>\n",
       "      <th>Expected background</th>\n",
       "      <th>error +</th>\n",
       "      <th>error -</th>\n",
       "      <th>Observed</th>\n",
       "      <th>p0-value</th>\n",
       "      <th>Local Z signif.</th>\n",
       "      <th>S95_exp</th>\n",
       "      <th>S95_obs</th>\n",
       "      <th>SR</th>\n",
       "      <th>Regime</th>\n",
       "      <th>S95_comp</th>\n",
       "    </tr>\n",
       "  </thead>\n",
       "  <tbody>\n",
       "    <tr>\n",
       "      <th>0</th>\n",
       "      <td>100</td>\n",
       "      <td>[120 200]</td>\n",
       "      <td>68.0</td>\n",
       "      <td>7.0</td>\n",
       "      <td>-5.0</td>\n",
       "      <td>63.0</td>\n",
       "      <td>0.500000</td>\n",
       "      <td>0.0</td>\n",
       "      <td>19.0</td>\n",
       "      <td>16.0</td>\n",
       "      <td>SR-Inclusive_Low</td>\n",
       "      <td>Long Lifetime</td>\n",
       "      <td>19.483250</td>\n",
       "    </tr>\n",
       "    <tr>\n",
       "      <th>1</th>\n",
       "      <td>200</td>\n",
       "      <td>[150 225]</td>\n",
       "      <td>63.0</td>\n",
       "      <td>7.0</td>\n",
       "      <td>-4.0</td>\n",
       "      <td>54.0</td>\n",
       "      <td>0.500000</td>\n",
       "      <td>0.0</td>\n",
       "      <td>18.0</td>\n",
       "      <td>13.0</td>\n",
       "      <td>SR-Inclusive_Low</td>\n",
       "      <td>Long Lifetime</td>\n",
       "      <td>16.737055</td>\n",
       "    </tr>\n",
       "    <tr>\n",
       "      <th>2</th>\n",
       "      <td>300</td>\n",
       "      <td>[250 350]</td>\n",
       "      <td>40.9</td>\n",
       "      <td>6.0</td>\n",
       "      <td>-4.0</td>\n",
       "      <td>35.0</td>\n",
       "      <td>0.500000</td>\n",
       "      <td>0.0</td>\n",
       "      <td>15.0</td>\n",
       "      <td>11.0</td>\n",
       "      <td>SR-Inclusive_Low</td>\n",
       "      <td>Long Lifetime</td>\n",
       "      <td>14.176080</td>\n",
       "    </tr>\n",
       "    <tr>\n",
       "      <th>3</th>\n",
       "      <td>400</td>\n",
       "      <td>[350 500]</td>\n",
       "      <td>29.2</td>\n",
       "      <td>5.3</td>\n",
       "      <td>-3.2</td>\n",
       "      <td>33.0</td>\n",
       "      <td>0.254000</td>\n",
       "      <td>0.7</td>\n",
       "      <td>12.6</td>\n",
       "      <td>16.0</td>\n",
       "      <td>SR-Inclusive_Low</td>\n",
       "      <td>Long Lifetime</td>\n",
       "      <td>19.168249</td>\n",
       "    </tr>\n",
       "    <tr>\n",
       "      <th>4</th>\n",
       "      <td>450</td>\n",
       "      <td>[400 550]</td>\n",
       "      <td>21.5</td>\n",
       "      <td>4.2</td>\n",
       "      <td>-2.9</td>\n",
       "      <td>30.0</td>\n",
       "      <td>0.050300</td>\n",
       "      <td>1.6</td>\n",
       "      <td>11.0</td>\n",
       "      <td>19.4</td>\n",
       "      <td>SR-Inclusive_Low</td>\n",
       "      <td>Long Lifetime</td>\n",
       "      <td>21.518977</td>\n",
       "    </tr>\n",
       "    <tr>\n",
       "      <th>...</th>\n",
       "      <td>...</td>\n",
       "      <td>...</td>\n",
       "      <td>...</td>\n",
       "      <td>...</td>\n",
       "      <td>...</td>\n",
       "      <td>...</td>\n",
       "      <td>...</td>\n",
       "      <td>...</td>\n",
       "      <td>...</td>\n",
       "      <td>...</td>\n",
       "      <td>...</td>\n",
       "      <td>...</td>\n",
       "      <td>...</td>\n",
       "    </tr>\n",
       "    <tr>\n",
       "      <th>12</th>\n",
       "      <td>1200</td>\n",
       "      <td>[800 2400]</td>\n",
       "      <td>1.5</td>\n",
       "      <td>1.6</td>\n",
       "      <td>-0.8</td>\n",
       "      <td>6.0</td>\n",
       "      <td>0.009100</td>\n",
       "      <td>2.4</td>\n",
       "      <td>4.0</td>\n",
       "      <td>10.0</td>\n",
       "      <td>SR-Inclusive_High</td>\n",
       "      <td>Short Lifetime</td>\n",
       "      <td>10.281660</td>\n",
       "    </tr>\n",
       "    <tr>\n",
       "      <th>13</th>\n",
       "      <td>1400</td>\n",
       "      <td>[900 2900]</td>\n",
       "      <td>1.1</td>\n",
       "      <td>1.4</td>\n",
       "      <td>-0.7</td>\n",
       "      <td>7.0</td>\n",
       "      <td>0.002080</td>\n",
       "      <td>2.9</td>\n",
       "      <td>4.0</td>\n",
       "      <td>11.5</td>\n",
       "      <td>SR-Inclusive_High</td>\n",
       "      <td>Short Lifetime</td>\n",
       "      <td>11.730992</td>\n",
       "    </tr>\n",
       "    <tr>\n",
       "      <th>14</th>\n",
       "      <td>1600</td>\n",
       "      <td>[1000 3450]</td>\n",
       "      <td>0.9</td>\n",
       "      <td>1.5</td>\n",
       "      <td>-0.5</td>\n",
       "      <td>7.0</td>\n",
       "      <td>0.000603</td>\n",
       "      <td>3.2</td>\n",
       "      <td>3.6</td>\n",
       "      <td>11.8</td>\n",
       "      <td>SR-Inclusive_High</td>\n",
       "      <td>Short Lifetime</td>\n",
       "      <td>11.800641</td>\n",
       "    </tr>\n",
       "    <tr>\n",
       "      <th>15</th>\n",
       "      <td>1800</td>\n",
       "      <td>[1100 4000]</td>\n",
       "      <td>0.8</td>\n",
       "      <td>1.1</td>\n",
       "      <td>-0.2</td>\n",
       "      <td>7.0</td>\n",
       "      <td>0.000887</td>\n",
       "      <td>3.1</td>\n",
       "      <td>3.5</td>\n",
       "      <td>11.9</td>\n",
       "      <td>SR-Inclusive_High</td>\n",
       "      <td>Short Lifetime</td>\n",
       "      <td>11.992365</td>\n",
       "    </tr>\n",
       "    <tr>\n",
       "      <th>16</th>\n",
       "      <td>2000</td>\n",
       "      <td>[1200 4600]</td>\n",
       "      <td>0.6</td>\n",
       "      <td>1.1</td>\n",
       "      <td>-0.1</td>\n",
       "      <td>5.0</td>\n",
       "      <td>0.004920</td>\n",
       "      <td>2.6</td>\n",
       "      <td>3.1</td>\n",
       "      <td>9.4</td>\n",
       "      <td>SR-Inclusive_High</td>\n",
       "      <td>Short Lifetime</td>\n",
       "      <td>9.512092</td>\n",
       "    </tr>\n",
       "  </tbody>\n",
       "</table>\n",
       "<p>86 rows × 13 columns</p>\n",
       "</div>"
      ],
      "text/plain": [
       "    Target Mass [GeV]  Mass Window  Expected background  error +  error -  \\\n",
       "0                 100    [120 200]                 68.0      7.0     -5.0   \n",
       "1                 200    [150 225]                 63.0      7.0     -4.0   \n",
       "2                 300    [250 350]                 40.9      6.0     -4.0   \n",
       "3                 400    [350 500]                 29.2      5.3     -3.2   \n",
       "4                 450    [400 550]                 21.5      4.2     -2.9   \n",
       "..                ...          ...                  ...      ...      ...   \n",
       "12               1200   [800 2400]                  1.5      1.6     -0.8   \n",
       "13               1400   [900 2900]                  1.1      1.4     -0.7   \n",
       "14               1600  [1000 3450]                  0.9      1.5     -0.5   \n",
       "15               1800  [1100 4000]                  0.8      1.1     -0.2   \n",
       "16               2000  [1200 4600]                  0.6      1.1     -0.1   \n",
       "\n",
       "    Observed  p0-value  Local Z signif.  S95_exp  S95_obs                 SR  \\\n",
       "0       63.0  0.500000              0.0     19.0     16.0   SR-Inclusive_Low   \n",
       "1       54.0  0.500000              0.0     18.0     13.0   SR-Inclusive_Low   \n",
       "2       35.0  0.500000              0.0     15.0     11.0   SR-Inclusive_Low   \n",
       "3       33.0  0.254000              0.7     12.6     16.0   SR-Inclusive_Low   \n",
       "4       30.0  0.050300              1.6     11.0     19.4   SR-Inclusive_Low   \n",
       "..       ...       ...              ...      ...      ...                ...   \n",
       "12       6.0  0.009100              2.4      4.0     10.0  SR-Inclusive_High   \n",
       "13       7.0  0.002080              2.9      4.0     11.5  SR-Inclusive_High   \n",
       "14       7.0  0.000603              3.2      3.6     11.8  SR-Inclusive_High   \n",
       "15       7.0  0.000887              3.1      3.5     11.9  SR-Inclusive_High   \n",
       "16       5.0  0.004920              2.6      3.1      9.4  SR-Inclusive_High   \n",
       "\n",
       "            Regime   S95_comp  \n",
       "0    Long Lifetime  19.483250  \n",
       "1    Long Lifetime  16.737055  \n",
       "2    Long Lifetime  14.176080  \n",
       "3    Long Lifetime  19.168249  \n",
       "4    Long Lifetime  21.518977  \n",
       "..             ...        ...  \n",
       "12  Short Lifetime  10.281660  \n",
       "13  Short Lifetime  11.730992  \n",
       "14  Short Lifetime  11.800641  \n",
       "15  Short Lifetime  11.992365  \n",
       "16  Short Lifetime   9.512092  \n",
       "\n",
       "[86 rows x 13 columns]"
      ]
     },
     "execution_count": 35,
     "metadata": {},
     "output_type": "execute_result"
    }
   ],
   "source": [
    "atlasDF['S95_comp'] = S95_obs\n",
    "atlasDF"
   ]
  },
  {
   "cell_type": "markdown",
   "metadata": {},
   "source": [
    "#### Limits for high lumi"
   ]
  },
  {
   "cell_type": "code",
   "execution_count": 37,
   "metadata": {},
   "outputs": [],
   "source": [
    "atlasFile = '../ATLAS-SUSY-2018-42/ATLAS_data/modelIndependentLimits.pcl'\n",
    "atlasDF_HL = pd.read_pickle(atlasFile)\n",
    "S95_HL = []\n",
    "for _,row in atlasDF.iterrows():\n",
    "    Nobs = row['Observed']\n",
    "    Nexp = row['Expected background']\n",
    "    sigmaexp = max(abs(row['error +']),abs(row['error -']))\n",
    "    lumi_HL = 3000.0\n",
    "    Nexp_HL = Nexp*lumi_HL/lumi\n",
    "    Nobs_HL = Nexp_HL # assumes obs = expected\n",
    "    sigmaexp_HL = (sigmaexp/Nexp)*Nexp_HL # assumes uncertainty is dominated by the systematical uncertainty\n",
    "    sigma_UL_HL = upperLimit(Nobs_HL,Nexp_HL,sigmaexp_HL,lumi_HL,toys=5000)\n",
    "    S95_HL.append(sigma_UL_HL*lumi_HL)\n"
   ]
  },
  {
   "cell_type": "code",
   "execution_count": 38,
   "metadata": {},
   "outputs": [],
   "source": [
    "atlasDF_HL['S95_obs_HL'] = S95_HL\n",
    "atlasDF_HL['S95_exp_HL'] = S95_HL\n",
    "atlasDF_HL.to_pickle(atlasFile.replace('.pcl','_HL.pcl'))"
   ]
  },
  {
   "cell_type": "code",
   "execution_count": null,
   "metadata": {},
   "outputs": [],
   "source": []
  },
  {
   "cell_type": "code",
   "execution_count": 4,
   "metadata": {},
   "outputs": [
    {
     "name": "stdout",
     "output_type": "stream",
     "text": [
      "xsec_UL (fb) = 0.40, ns_UL = 16.9\n"
     ]
    }
   ],
   "source": [
    "Nobs = 17.0\n",
    "Nexp = 12.2\n",
    "sigmaexp = np.sqrt(1.1**2 + 4.7**2)\n",
    "lumi = 42.0\n",
    "sigma_UL = upperLimit(Nobs,Nexp,sigmaexp,lumi)\n",
    "print('xsec_UL (fb) = %1.2f, ns_UL = %1.1f' %(sigma_UL,sigma_UL*lumi))"
   ]
  },
  {
   "cell_type": "code",
   "execution_count": 16,
   "metadata": {},
   "outputs": [
    {
     "data": {
      "text/plain": [
       "16.9055721468"
      ]
     },
     "execution_count": 16,
     "metadata": {},
     "output_type": "execute_result"
    }
   ],
   "source": [
    "0.2536980*0.0004794*139.0*1000"
   ]
  },
  {
   "cell_type": "code",
   "execution_count": 17,
   "metadata": {},
   "outputs": [
    {
     "data": {
      "text/plain": [
       "16.763509862819998"
      ]
     },
     "execution_count": 17,
     "metadata": {},
     "output_type": "execute_result"
    }
   ],
   "source": [
    "0.0619514*0.0019467*139.0*1000"
   ]
  },
  {
   "cell_type": "code",
   "execution_count": null,
   "metadata": {},
   "outputs": [],
   "source": [
    "Nobs_HL = 17.0\n",
    "Nexp = 12.2\n",
    "sigmaexp = np.sqrt(1.1**2 + 4.7**2)\n",
    "lumi = 42.0\n",
    "sigma_UL = upperLimit(Nobs,Nexp,sigmaexp,lumi)\n",
    "print('xsec_UL (fb) = %1.2f, ns_UL = %1.1f' %(sigma_UL,sigma_UL*lumi))"
   ]
  }
 ],
 "metadata": {
  "kernelspec": {
   "display_name": "Python 3",
   "language": "python",
   "name": "python3"
  },
  "language_info": {
   "codemirror_mode": {
    "name": "ipython",
    "version": 3
   },
   "file_extension": ".py",
   "mimetype": "text/x-python",
   "name": "python",
   "nbconvert_exporter": "python",
   "pygments_lexer": "ipython3",
   "version": "3.10.12"
  }
 },
 "nbformat": 4,
 "nbformat_minor": 2
}
