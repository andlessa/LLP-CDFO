{
  "cells": [
    {
      "cell_type": "code",
      "execution_count": null,
      "metadata": {
        "id": "HT2eQCpOTHYA"
      },
      "outputs": [],
      "source": [
        "from statistics_toys import upperLimit\n",
        "import pandas as pd\n",
        "import numpy as np"
      ]
    },
    {
      "cell_type": "markdown",
      "source": [
        "### CMS-EXO-19-010"
      ],
      "metadata": {
        "id": "BQPUboFgTrYk"
      }
    },
    {
      "cell_type": "markdown",
      "source": [
        "####SR1 Combined"
      ],
      "metadata": {
        "id": "r0O5joaODFSl"
      }
    },
    {
      "cell_type": "code",
      "source": [
        "Nobs = np.array([17,5,11]).sum()\n",
        "Nexp = np.array([12.2,7.3,10]).sum()\n",
        "sigmaexp = np.array([np.sqrt(1.1**2 + 4.7**2),np.sqrt(1.1**2 + 3.5**2),np.sqrt(1**2 + 5.4**2)]).sum()\n",
        "\n",
        "lumi = 140.4\n",
        "sigma_UL = []\n",
        "\n",
        "item = upperLimit(Nobs,Nexp,sigmaexp,lumi)\n",
        "print(item)"
      ],
      "metadata": {
        "outputId": "ceae9051-96c6-4eba-ea8a-4c7ab2c9e29b",
        "colab": {
          "base_uri": "https://localhost:8080/"
        },
        "id": "i6MxsdBD_ZmS"
      },
      "execution_count": null,
      "outputs": [
        {
          "output_type": "stream",
          "name": "stdout",
          "text": [
            "0.21531656362673005\n"
          ]
        }
      ]
    },
    {
      "cell_type": "code",
      "source": [
        "Nobs = np.array([17,5,11]).sum()\n",
        "Nexp = np.array([12.2,7.3,10]).sum()\n",
        "sigmaexp = np.sqrt(np.array([1**2,1**2,1**2]).sum())\n",
        "\n",
        "lumi = 140.4\n",
        "sigma_UL = []\n",
        "\n",
        "item = upperLimit(Nobs,Nexp,sigmaexp,lumi)\n",
        "print(item)"
      ],
      "metadata": {
        "outputId": "48ca29b5-a61e-4f6a-f816-f34013b7bad6",
        "colab": {
          "base_uri": "https://localhost:8080/"
        },
        "id": "clu64HXs30PR"
      },
      "execution_count": null,
      "outputs": [
        {
          "output_type": "stream",
          "name": "stdout",
          "text": [
            "0.11390562663075439\n"
          ]
        }
      ]
    },
    {
      "cell_type": "markdown",
      "source": [
        "####SR2 Combined"
      ],
      "metadata": {
        "id": "sF-WT4PrDJ81"
      }
    },
    {
      "cell_type": "code",
      "source": [
        "Nobs = np.array([4,0,2]).sum()\n",
        "Nexp = np.array([2.1,0.6,1.0]).sum()\n",
        "sigmaexp = np.sqrt(np.array([0.4**2 + 0.6**2,0.6**2 + 0.3**2,0.7**2 + 0.3**2]).sum())\n",
        "lumi = 140.4\n",
        "\n",
        "s95_obs = upperLimit(Nobs,Nexp,sigmaexp,lumi)\n",
        "\n",
        "print(s95_obs)\n",
        "print(s95_obs*lumi)"
      ],
      "metadata": {
        "colab": {
          "base_uri": "https://localhost:8080/"
        },
        "id": "Gm0r4yd-DOsi",
        "outputId": "4050c613-2baa-4203-d4b1-dd6dab6ab362"
      },
      "execution_count": null,
      "outputs": [
        {
          "output_type": "stream",
          "name": "stdout",
          "text": [
            "0.06224022369369497\n",
            "8.738527406594773\n"
          ]
        }
      ]
    },
    {
      "cell_type": "markdown",
      "source": [
        "####SR3 Combined"
      ],
      "metadata": {
        "id": "iI_RW9acDSUA"
      }
    },
    {
      "cell_type": "code",
      "source": [
        "Nobs = np.array([1.0,2.0,4.0,6.0,2.0,1.0]).sum() #This includes SR3_2015, SR3_2016A, SR3_2016B\n",
        "Nexp = np.array([0.1,2.4,4.0,6.7,1.8,5.7]).sum()\n",
        "sigmaexp = np.sqrt(np.array([0.1**2, 0.6**2, 1.1**2, 1.1**2 + 0.7**2, 0.6**2 + 0.2**2, 1.2**2 + 0.6**2]).sum())\n",
        "lumi = 140.4\n",
        "\n",
        "s95_obs = upperLimit(Nobs,Nexp,sigmaexp,lumi)\n",
        "\n",
        "print(s95_obs)\n",
        "print(s95_obs*lumi)"
      ],
      "metadata": {
        "colab": {
          "base_uri": "https://localhost:8080/"
        },
        "id": "m63puIZHDUuY",
        "outputId": "1911f573-d1c1-414d-940a-ae11763f3a79"
      },
      "execution_count": null,
      "outputs": [
        {
          "output_type": "stream",
          "name": "stdout",
          "text": [
            "0.05986366949082641\n",
            "8.404859196512028\n"
          ]
        }
      ]
    },
    {
      "cell_type": "markdown",
      "source": [
        "#### 2017 Dataset"
      ],
      "metadata": {
        "id": "4woXEXEobpCm"
      }
    },
    {
      "cell_type": "code",
      "source": [
        "Nobs = np.array([17,4,6])\n",
        "Nexp = np.array([12.2,2.1,6.7])\n",
        "#sigmaexp = np.array([np.sqrt(1.1**2 + 4.7**2),np.sqrt(0.6**2 + 0.4**2),np.sqrt(1.1**2 + 0.7**2)])\n",
        "sigmaexp = np.array([4.7,0.7,1.3])\n",
        "lumi = 42\n",
        "sigma_UL = []\n",
        "for nobs, nexp, sig in zip(Nobs,Nexp,sigmaexp):\n",
        "  sigma_UL.append(upperLimit(nobs,nexp,sig,lumi))\n",
        "for item in sigma_UL:\n",
        "  print('xsec_UL (fb) = %1.2f, ns_UL = %1.1f' %(item,item*lumi))"
      ],
      "metadata": {
        "id": "l_rpl9vPbyKO",
        "outputId": "a20c42fe-5a85-4374-8481-2afdab0370ae",
        "colab": {
          "base_uri": "https://localhost:8080/"
        }
      },
      "execution_count": null,
      "outputs": [
        {
          "output_type": "stream",
          "name": "stdout",
          "text": [
            "xsec_UL (fb) = 0.40, ns_UL = 16.8\n",
            "xsec_UL (fb) = 0.17, ns_UL = 7.3\n",
            "xsec_UL (fb) = 0.16, ns_UL = 6.8\n"
          ]
        }
      ]
    },
    {
      "cell_type": "code",
      "source": [
        "lumi_HL = 3000.0\n",
        "Nexp_HL = Nexp*lumi_HL/lumi\n",
        "Nobs_HL = Nexp_HL # assumes obs = expected\n",
        "sigmaexp_HL = (sigmaexp/Nexp)*Nexp_HL # assumes uncertainty is dominated by the systematical uncertainty\n",
        "print(sigmaexp_HL)\n",
        "sigma_UL_HL = []\n",
        "for nobs, nexp, sig in zip(Nobs_HL,Nexp_HL,sigmaexp_HL):\n",
        "  print(nobs,nexp,sig)\n",
        "  sigma_UL_HL.append(upperLimit(nobs,nexp,sig,lumi_HL))\n",
        "for item in sigma_UL_HL:\n",
        "  print('xsec_UL (fb) = %1.5f, ns_UL = %1.5f' %(item,item*lumi_HL))"
      ],
      "metadata": {
        "id": "2_SyYD0JcPbR",
        "outputId": "3c26385d-e825-4edd-a8fe-54a978cfcb17",
        "colab": {
          "base_uri": "https://localhost:8080/"
        }
      },
      "execution_count": null,
      "outputs": [
        {
          "output_type": "stream",
          "name": "stdout",
          "text": [
            "[335.71428571  50.          92.85714286]\n",
            "871.4285714285714 871.4285714285714 335.7142857142858\n",
            "150.0 150.0 50.0\n",
            "478.57142857142856 478.57142857142856 92.85714285714286\n",
            "xsec_UL (fb) = 0.21146, ns_UL = 634.38537\n",
            "xsec_UL (fb) = 0.03347, ns_UL = 100.41460\n",
            "xsec_UL (fb) = 0.06237, ns_UL = 187.10165\n"
          ]
        }
      ]
    },
    {
      "cell_type": "markdown",
      "source": [
        "#### 2018A Dataset"
      ],
      "metadata": {
        "id": "Ss7n4RICacMr"
      }
    },
    {
      "cell_type": "code",
      "source": [
        "Nobs = np.array([5,0,2])\n",
        "Nexp = np.array([7.3,0.6,1.8])\n",
        "sigmaexp = np.array([np.sqrt(1.1**2 + 3.5**2),np.sqrt(0.6**2 + 0.3**2),np.sqrt(0.6**2 + 0.2**2)])\n",
        "lumi = 21\n",
        "sigma_UL = []\n",
        "for nobs, nexp, sig in zip(Nobs,Nexp,sigmaexp):\n",
        "  sigma_UL.append(upperLimit(nobs,nexp,sig,lumi))\n",
        "for item in sigma_UL:\n",
        "  print('xsec_UL (fb) = %1.5f, ns_UL = %1.5f' %(item,item*lumi))"
      ],
      "metadata": {
        "id": "geVrOUVGTvpI",
        "outputId": "4027ad48-6457-4110-c79d-5beff37acc54",
        "colab": {
          "base_uri": "https://localhost:8080/"
        }
      },
      "execution_count": null,
      "outputs": [
        {
          "output_type": "stream",
          "name": "stdout",
          "text": [
            "xsec_UL (fb) = 0.34742, ns_UL = 7.29591\n",
            "xsec_UL (fb) = 0.14163, ns_UL = 2.97421\n",
            "xsec_UL (fb) = 0.24152, ns_UL = 5.07189\n"
          ]
        }
      ]
    },
    {
      "cell_type": "code",
      "source": [
        "lumi_HL = 3000.0\n",
        "Nexp_HL = Nexp*lumi_HL/lumi\n",
        "Nobs_HL = Nexp_HL # assumes obs = expected\n",
        "sigmaexp_HL = (np.array([3.5,0.3,0.2])/Nexp)*Nexp_HL # assumes uncertainty is dominated by the systematical uncertainty\n",
        "print(sigmaexp_HL)\n",
        "sigma_UL_HL = []\n",
        "for nobs, nexp, sig in zip(Nobs_HL,Nexp_HL,sigmaexp_HL):\n",
        "  sigma_UL_HL.append(upperLimit(nobs,nexp,sig,lumi_HL))\n",
        "for item in sigma_UL_HL:\n",
        "  print('xsec_UL (fb) = %1.7f, ns_UL = %1.7f' %(item,item*lumi_HL))"
      ],
      "metadata": {
        "id": "GTcmYB6mXAW6",
        "outputId": "a6fcdb5a-ad37-49cb-bcc5-7092976c8ca9",
        "colab": {
          "base_uri": "https://localhost:8080/"
        }
      },
      "execution_count": null,
      "outputs": [
        {
          "output_type": "stream",
          "name": "stdout",
          "text": [
            "[500.          42.85714286  28.57142857]\n",
            "xsec_UL (fb) = 0.2877139, ns_UL = 863.1416006\n",
            "xsec_UL (fb) = 0.0246694, ns_UL = 74.0082788\n",
            "xsec_UL (fb) = 0.0216372, ns_UL = 64.9115129\n"
          ]
        }
      ]
    },
    {
      "cell_type": "markdown",
      "source": [
        "####2018B Dataset"
      ],
      "metadata": {
        "id": "0LnZXFlpa6xR"
      }
    },
    {
      "cell_type": "code",
      "source": [
        "Nobs = np.array([11,2,1])\n",
        "Nexp = np.array([10.3,1.0,5.7])\n",
        "sigmaexp = np.array([np.sqrt(1.**2 + 5.4**2),np.sqrt(0.7**2 + 0.3**2),np.sqrt(0.6**2 + 1.2**2)])\n",
        "lumi = 39\n",
        "sigma_UL = []\n",
        "for nobs, nexp, sig in zip(Nobs,Nexp,sigmaexp):\n",
        "  sigma_UL.append(upperLimit(nobs,nexp,sig,lumi))\n",
        "for item in sigma_UL:\n",
        "  print('xsec_UL (fb) = %1.2f, ns_UL = %1.1f' %(item,item*lumi))"
      ],
      "metadata": {
        "id": "oiSCcbJba_Z4",
        "outputId": "788f9819-d60e-4140-d042-c06a03a1591b",
        "colab": {
          "base_uri": "https://localhost:8080/"
        }
      },
      "execution_count": null,
      "outputs": [
        {
          "output_type": "stream",
          "name": "stdout",
          "text": [
            "xsec_UL (fb) = 0.33, ns_UL = 12.7\n",
            "xsec_UL (fb) = 0.14, ns_UL = 5.5\n",
            "xsec_UL (fb) = 0.09, ns_UL = 3.6\n"
          ]
        }
      ]
    },
    {
      "cell_type": "code",
      "source": [
        "lumi_HL = 3000.0\n",
        "Nexp_HL = Nexp*lumi_HL/lumi\n",
        "Nobs_HL = Nexp_HL # assumes obs = expected\n",
        "sigmaexp_HL = (np.array([5.4,0.3,1.3])/Nexp)*Nexp_HL # assumes uncertainty is dominated by the systematical uncertainty\n",
        "print(sigmaexp_HL)\n",
        "sigma_UL_HL = []\n",
        "for nobs, nexp, sig in zip(Nobs_HL,Nexp_HL,sigmaexp_HL):\n",
        "  sigma_UL_HL.append(upperLimit(nobs,nexp,sig,lumi_HL))\n",
        "for item in sigma_UL_HL:\n",
        "  print('xsec_UL (fb) = %1.7f, ns_UL = %1.7f' %(item,item*lumi_HL))"
      ],
      "metadata": {
        "id": "G2FrGsRcbjSF",
        "outputId": "64d6dc88-476b-4b30-c581-c282cf021898",
        "colab": {
          "base_uri": "https://localhost:8080/"
        }
      },
      "execution_count": null,
      "outputs": [
        {
          "output_type": "stream",
          "name": "stdout",
          "text": [
            "[415.38461538  23.07692308 100.        ]\n",
            "xsec_UL (fb) = 0.2268497, ns_UL = 680.5491939\n",
            "xsec_UL (fb) = 0.0160657, ns_UL = 48.1972391\n",
            "xsec_UL (fb) = 0.0670251, ns_UL = 201.0753794\n"
          ]
        }
      ]
    },
    {
      "cell_type": "markdown",
      "metadata": {
        "id": "jeyZEONPTHYB"
      },
      "source": [
        "### ATLAS-SUSY-2016-08"
      ]
    },
    {
      "cell_type": "markdown",
      "metadata": {
        "id": "wbPd7JJkTHYD"
      },
      "source": [
        "#### Limits for current lumi"
      ]
    },
    {
      "cell_type": "code",
      "execution_count": null,
      "metadata": {
        "id": "iHliQpD_THYE",
        "outputId": "d05bb339-3470-4331-9d3c-349b674ac8b3",
        "colab": {
          "base_uri": "https://localhost:8080/"
        }
      },
      "outputs": [
        {
          "output_type": "stream",
          "name": "stdout",
          "text": [
            "xsec_UL (fb) = 0.09, ns_UL = 3.0\n"
          ]
        }
      ],
      "source": [
        "Nobs = 0.0\n",
        "Nexp = 0.02\n",
        "sigmaexp = 0.02\n",
        "lumi = 32.8\n",
        "sigma_UL = upperLimit(Nobs,Nexp,sigmaexp,lumi)\n",
        "print('xsec_UL (fb) = %1.2f, ns_UL = %1.1f' %(sigma_UL,sigma_UL*lumi))"
      ]
    },
    {
      "cell_type": "markdown",
      "metadata": {
        "id": "wX6p_qJvTHYG"
      },
      "source": [
        "#### Limits for high lumi"
      ]
    },
    {
      "cell_type": "code",
      "execution_count": null,
      "metadata": {
        "id": "gbdr3UuFTHYG",
        "outputId": "84168d3b-aa41-4048-da36-7f259cef6e8b",
        "colab": {
          "base_uri": "https://localhost:8080/"
        }
      },
      "outputs": [
        {
          "output_type": "stream",
          "name": "stdout",
          "text": [
            "xsec_UL (fb) = 0.00136, ns_UL = 4.08961\n"
          ]
        }
      ],
      "source": [
        "lumi_HL = 3000.0\n",
        "Nexp_HL = Nexp*lumi_HL/lumi\n",
        "Nobs_HL = Nexp_HL # assumes obs = expected\n",
        "sigmaexp_HL = (sigmaexp/Nexp)*Nexp_HL # assumes uncertainty is dominated by the systematical uncertainty\n",
        "sigma_UL_HL = upperLimit(Nobs_HL,Nexp_HL,sigmaexp_HL,lumi_HL)\n",
        "print('xsec_UL (fb) = %1.5f, ns_UL = %1.5f' %(sigma_UL_HL,sigma_UL_HL*lumi_HL))"
      ]
    },
    {
      "cell_type": "markdown",
      "metadata": {
        "id": "V69U6AEOTHYH"
      },
      "source": [
        "### ATLAS-SUSY-2018-13"
      ]
    },
    {
      "cell_type": "markdown",
      "metadata": {
        "id": "q14mahqcTHYI"
      },
      "source": [
        "#### Limits for current lumi"
      ]
    },
    {
      "cell_type": "markdown",
      "metadata": {
        "id": "UZp1hp3KTHYK"
      },
      "source": [
        "##### Trackless SR"
      ]
    },
    {
      "cell_type": "code",
      "execution_count": null,
      "metadata": {
        "id": "N5Z-qzfdTHYM",
        "outputId": "ea3cd06b-7409-452c-baa4-8c0c09a9108b"
      },
      "outputs": [
        {
          "name": "stdout",
          "output_type": "stream",
          "text": [
            "xsec_UL (fb) = 0.02, ns_UL = 3.0\n"
          ]
        }
      ],
      "source": [
        "Nobs_trackless = 0.0\n",
        "Nexp_trackless = 0.83\n",
        "sigmaexp_trackless = 0.5\n",
        "lumi = 139.0\n",
        "sigma_UL_trackless = upperLimit(Nobs_trackless,Nexp_trackless,sigmaexp_trackless,lumi)\n",
        "print('xsec_UL (fb) = %1.2f, ns_UL = %1.1f' %(sigma_UL_trackless,sigma_UL_trackless*lumi))"
      ]
    },
    {
      "cell_type": "markdown",
      "metadata": {
        "id": "0qmR2HQsTHYN"
      },
      "source": [
        "##### High-PT SR"
      ]
    },
    {
      "cell_type": "code",
      "execution_count": null,
      "metadata": {
        "id": "7YG6YjUnTHYP",
        "outputId": "d54856e1-662a-4eb6-d6c1-9daf009d5685"
      },
      "outputs": [
        {
          "name": "stdout",
          "output_type": "stream",
          "text": [
            "xsec_UL (fb) = 0.03, ns_UL = 4.4\n"
          ]
        }
      ],
      "source": [
        "Nobs_highpt = 1.0\n",
        "Nexp_highpt = 0.46\n",
        "sigmaexp_highpt = 0.3\n",
        "lumi = 139.0\n",
        "sigma_UL_highpt = upperLimit(Nobs_highpt,Nexp_highpt,sigmaexp_highpt,lumi)\n",
        "print('xsec_UL (fb) = %1.2f, ns_UL = %1.1f' %(sigma_UL_highpt,sigma_UL_highpt*lumi))"
      ]
    },
    {
      "cell_type": "markdown",
      "metadata": {
        "id": "qieP0eJ9THYP"
      },
      "source": [
        "#### Limits for high lumi"
      ]
    },
    {
      "cell_type": "markdown",
      "metadata": {
        "id": "YFgUmKGATHYP"
      },
      "source": [
        "##### Trackless SR"
      ]
    },
    {
      "cell_type": "code",
      "execution_count": null,
      "metadata": {
        "id": "jfLXMBikTHYR",
        "outputId": "f5c4f82e-de49-4b54-b2ed-332406b06fd1"
      },
      "outputs": [
        {
          "name": "stdout",
          "output_type": "stream",
          "text": [
            "xsec_UL (fb) = 0.00608, ns_UL = 18.23508\n"
          ]
        }
      ],
      "source": [
        "lumi_HL = 3000.0\n",
        "Nexp_trackless_HL = Nexp_trackless*lumi_HL/lumi\n",
        "Nobs_trackless_HL = Nexp_trackless_HL # assumes obs = expected\n",
        "sigmaexp_trackless_HL = (sigmaexp_trackless/Nexp_trackless)*Nexp_trackless_HL # assumes uncertainty is dominated by the systematical uncertainty\n",
        "sigma_UL_trackless_HL = upperLimit(Nobs_trackless_HL,Nexp_trackless_HL,sigmaexp_trackless_HL,lumi_HL)\n",
        "print('xsec_UL (fb) = %1.5f, ns_UL = %1.5f' %(sigma_UL_trackless_HL,sigma_UL_trackless_HL*lumi_HL))"
      ]
    },
    {
      "cell_type": "markdown",
      "metadata": {
        "id": "NKtXsrBTTHYS"
      },
      "source": [
        "##### High-PT SR"
      ]
    },
    {
      "cell_type": "code",
      "execution_count": null,
      "metadata": {
        "id": "kFYVaNRLTHYS",
        "outputId": "4803cb41-f27f-441c-dfa3-0772d399c9db"
      },
      "outputs": [
        {
          "name": "stdout",
          "output_type": "stream",
          "text": [
            "xsec_UL (fb) = 0.00380, ns_UL = 11.38700\n"
          ]
        }
      ],
      "source": [
        "lumi_HL = 3000.0\n",
        "Nexp_highpt_HL = Nexp_highpt*lumi_HL/lumi\n",
        "Nobs_highpt_HL = Nexp_highpt_HL # assumes obs = expected\n",
        "sigmaexp_highpt_HL = (sigmaexp_highpt/Nexp_highpt)*Nexp_highpt_HL # assumes uncertainty is dominated by the systematical uncertainty\n",
        "sigma_UL_highpt_HL = upperLimit(Nobs_highpt_HL,Nexp_highpt_HL,sigmaexp_highpt_HL,lumi_HL)\n",
        "print('xsec_UL (fb) = %1.5f, ns_UL = %1.5f' %(sigma_UL_highpt_HL,sigma_UL_highpt_HL*lumi_HL))"
      ]
    },
    {
      "cell_type": "code",
      "execution_count": null,
      "metadata": {
        "id": "FVGb2aMJTHYT"
      },
      "outputs": [],
      "source": []
    },
    {
      "cell_type": "markdown",
      "metadata": {
        "id": "23q4AFxpTHYT"
      },
      "source": [
        "### ATLAS-SUSY-2018-42"
      ]
    },
    {
      "cell_type": "markdown",
      "metadata": {
        "id": "dyz33yLUTHYT"
      },
      "source": [
        "#### Limits for current lumi"
      ]
    },
    {
      "cell_type": "code",
      "execution_count": null,
      "metadata": {
        "id": "yc_fWYrsTHYT"
      },
      "outputs": [],
      "source": [
        "atlasFile = '../ATLAS-SUSY-2018-42/ATLAS_data/modelIndependentLimits.pcl'\n",
        "atlasDF = pd.read_pickle(atlasFile)\n",
        "S95_obs = []\n",
        "for _,row in atlasDF.iterrows():\n",
        "    Nobs = row['Observed']\n",
        "    Nexp = row['Expected background']\n",
        "    sigmaexp = max(abs(row['error +']),abs(row['error -']))\n",
        "    lumi = 139.0\n",
        "    sigma_UL = upperLimit(Nobs,Nexp,sigmaexp,lumi,toys=2000)\n",
        "    S95_obs.append(sigma_UL*lumi)"
      ]
    },
    {
      "cell_type": "code",
      "execution_count": null,
      "metadata": {
        "id": "Ri5xa00LTHYU",
        "outputId": "35778819-3470-4d0c-f018-ad3a9d79f437"
      },
      "outputs": [
        {
          "data": {
            "text/html": [
              "<div>\n",
              "<style scoped>\n",
              "    .dataframe tbody tr th:only-of-type {\n",
              "        vertical-align: middle;\n",
              "    }\n",
              "\n",
              "    .dataframe tbody tr th {\n",
              "        vertical-align: top;\n",
              "    }\n",
              "\n",
              "    .dataframe thead th {\n",
              "        text-align: right;\n",
              "    }\n",
              "</style>\n",
              "<table border=\"1\" class=\"dataframe\">\n",
              "  <thead>\n",
              "    <tr style=\"text-align: right;\">\n",
              "      <th></th>\n",
              "      <th>Target Mass [GeV]</th>\n",
              "      <th>Mass Window</th>\n",
              "      <th>Expected background</th>\n",
              "      <th>error +</th>\n",
              "      <th>error -</th>\n",
              "      <th>Observed</th>\n",
              "      <th>p0-value</th>\n",
              "      <th>Local Z signif.</th>\n",
              "      <th>S95_exp</th>\n",
              "      <th>S95_obs</th>\n",
              "      <th>SR</th>\n",
              "      <th>Regime</th>\n",
              "      <th>S95_comp</th>\n",
              "    </tr>\n",
              "  </thead>\n",
              "  <tbody>\n",
              "    <tr>\n",
              "      <th>0</th>\n",
              "      <td>100</td>\n",
              "      <td>[120 200]</td>\n",
              "      <td>68.0</td>\n",
              "      <td>7.0</td>\n",
              "      <td>-5.0</td>\n",
              "      <td>63.0</td>\n",
              "      <td>0.500000</td>\n",
              "      <td>0.0</td>\n",
              "      <td>19.0</td>\n",
              "      <td>16.0</td>\n",
              "      <td>SR-Inclusive_Low</td>\n",
              "      <td>Long Lifetime</td>\n",
              "      <td>19.483250</td>\n",
              "    </tr>\n",
              "    <tr>\n",
              "      <th>1</th>\n",
              "      <td>200</td>\n",
              "      <td>[150 225]</td>\n",
              "      <td>63.0</td>\n",
              "      <td>7.0</td>\n",
              "      <td>-4.0</td>\n",
              "      <td>54.0</td>\n",
              "      <td>0.500000</td>\n",
              "      <td>0.0</td>\n",
              "      <td>18.0</td>\n",
              "      <td>13.0</td>\n",
              "      <td>SR-Inclusive_Low</td>\n",
              "      <td>Long Lifetime</td>\n",
              "      <td>16.737055</td>\n",
              "    </tr>\n",
              "    <tr>\n",
              "      <th>2</th>\n",
              "      <td>300</td>\n",
              "      <td>[250 350]</td>\n",
              "      <td>40.9</td>\n",
              "      <td>6.0</td>\n",
              "      <td>-4.0</td>\n",
              "      <td>35.0</td>\n",
              "      <td>0.500000</td>\n",
              "      <td>0.0</td>\n",
              "      <td>15.0</td>\n",
              "      <td>11.0</td>\n",
              "      <td>SR-Inclusive_Low</td>\n",
              "      <td>Long Lifetime</td>\n",
              "      <td>14.176080</td>\n",
              "    </tr>\n",
              "    <tr>\n",
              "      <th>3</th>\n",
              "      <td>400</td>\n",
              "      <td>[350 500]</td>\n",
              "      <td>29.2</td>\n",
              "      <td>5.3</td>\n",
              "      <td>-3.2</td>\n",
              "      <td>33.0</td>\n",
              "      <td>0.254000</td>\n",
              "      <td>0.7</td>\n",
              "      <td>12.6</td>\n",
              "      <td>16.0</td>\n",
              "      <td>SR-Inclusive_Low</td>\n",
              "      <td>Long Lifetime</td>\n",
              "      <td>19.168249</td>\n",
              "    </tr>\n",
              "    <tr>\n",
              "      <th>4</th>\n",
              "      <td>450</td>\n",
              "      <td>[400 550]</td>\n",
              "      <td>21.5</td>\n",
              "      <td>4.2</td>\n",
              "      <td>-2.9</td>\n",
              "      <td>30.0</td>\n",
              "      <td>0.050300</td>\n",
              "      <td>1.6</td>\n",
              "      <td>11.0</td>\n",
              "      <td>19.4</td>\n",
              "      <td>SR-Inclusive_Low</td>\n",
              "      <td>Long Lifetime</td>\n",
              "      <td>21.518977</td>\n",
              "    </tr>\n",
              "    <tr>\n",
              "      <th>...</th>\n",
              "      <td>...</td>\n",
              "      <td>...</td>\n",
              "      <td>...</td>\n",
              "      <td>...</td>\n",
              "      <td>...</td>\n",
              "      <td>...</td>\n",
              "      <td>...</td>\n",
              "      <td>...</td>\n",
              "      <td>...</td>\n",
              "      <td>...</td>\n",
              "      <td>...</td>\n",
              "      <td>...</td>\n",
              "      <td>...</td>\n",
              "    </tr>\n",
              "    <tr>\n",
              "      <th>12</th>\n",
              "      <td>1200</td>\n",
              "      <td>[800 2400]</td>\n",
              "      <td>1.5</td>\n",
              "      <td>1.6</td>\n",
              "      <td>-0.8</td>\n",
              "      <td>6.0</td>\n",
              "      <td>0.009100</td>\n",
              "      <td>2.4</td>\n",
              "      <td>4.0</td>\n",
              "      <td>10.0</td>\n",
              "      <td>SR-Inclusive_High</td>\n",
              "      <td>Short Lifetime</td>\n",
              "      <td>10.281660</td>\n",
              "    </tr>\n",
              "    <tr>\n",
              "      <th>13</th>\n",
              "      <td>1400</td>\n",
              "      <td>[900 2900]</td>\n",
              "      <td>1.1</td>\n",
              "      <td>1.4</td>\n",
              "      <td>-0.7</td>\n",
              "      <td>7.0</td>\n",
              "      <td>0.002080</td>\n",
              "      <td>2.9</td>\n",
              "      <td>4.0</td>\n",
              "      <td>11.5</td>\n",
              "      <td>SR-Inclusive_High</td>\n",
              "      <td>Short Lifetime</td>\n",
              "      <td>11.730992</td>\n",
              "    </tr>\n",
              "    <tr>\n",
              "      <th>14</th>\n",
              "      <td>1600</td>\n",
              "      <td>[1000 3450]</td>\n",
              "      <td>0.9</td>\n",
              "      <td>1.5</td>\n",
              "      <td>-0.5</td>\n",
              "      <td>7.0</td>\n",
              "      <td>0.000603</td>\n",
              "      <td>3.2</td>\n",
              "      <td>3.6</td>\n",
              "      <td>11.8</td>\n",
              "      <td>SR-Inclusive_High</td>\n",
              "      <td>Short Lifetime</td>\n",
              "      <td>11.800641</td>\n",
              "    </tr>\n",
              "    <tr>\n",
              "      <th>15</th>\n",
              "      <td>1800</td>\n",
              "      <td>[1100 4000]</td>\n",
              "      <td>0.8</td>\n",
              "      <td>1.1</td>\n",
              "      <td>-0.2</td>\n",
              "      <td>7.0</td>\n",
              "      <td>0.000887</td>\n",
              "      <td>3.1</td>\n",
              "      <td>3.5</td>\n",
              "      <td>11.9</td>\n",
              "      <td>SR-Inclusive_High</td>\n",
              "      <td>Short Lifetime</td>\n",
              "      <td>11.992365</td>\n",
              "    </tr>\n",
              "    <tr>\n",
              "      <th>16</th>\n",
              "      <td>2000</td>\n",
              "      <td>[1200 4600]</td>\n",
              "      <td>0.6</td>\n",
              "      <td>1.1</td>\n",
              "      <td>-0.1</td>\n",
              "      <td>5.0</td>\n",
              "      <td>0.004920</td>\n",
              "      <td>2.6</td>\n",
              "      <td>3.1</td>\n",
              "      <td>9.4</td>\n",
              "      <td>SR-Inclusive_High</td>\n",
              "      <td>Short Lifetime</td>\n",
              "      <td>9.512092</td>\n",
              "    </tr>\n",
              "  </tbody>\n",
              "</table>\n",
              "<p>86 rows × 13 columns</p>\n",
              "</div>"
            ],
            "text/plain": [
              "    Target Mass [GeV]  Mass Window  Expected background  error +  error -  \\\n",
              "0                 100    [120 200]                 68.0      7.0     -5.0   \n",
              "1                 200    [150 225]                 63.0      7.0     -4.0   \n",
              "2                 300    [250 350]                 40.9      6.0     -4.0   \n",
              "3                 400    [350 500]                 29.2      5.3     -3.2   \n",
              "4                 450    [400 550]                 21.5      4.2     -2.9   \n",
              "..                ...          ...                  ...      ...      ...   \n",
              "12               1200   [800 2400]                  1.5      1.6     -0.8   \n",
              "13               1400   [900 2900]                  1.1      1.4     -0.7   \n",
              "14               1600  [1000 3450]                  0.9      1.5     -0.5   \n",
              "15               1800  [1100 4000]                  0.8      1.1     -0.2   \n",
              "16               2000  [1200 4600]                  0.6      1.1     -0.1   \n",
              "\n",
              "    Observed  p0-value  Local Z signif.  S95_exp  S95_obs                 SR  \\\n",
              "0       63.0  0.500000              0.0     19.0     16.0   SR-Inclusive_Low   \n",
              "1       54.0  0.500000              0.0     18.0     13.0   SR-Inclusive_Low   \n",
              "2       35.0  0.500000              0.0     15.0     11.0   SR-Inclusive_Low   \n",
              "3       33.0  0.254000              0.7     12.6     16.0   SR-Inclusive_Low   \n",
              "4       30.0  0.050300              1.6     11.0     19.4   SR-Inclusive_Low   \n",
              "..       ...       ...              ...      ...      ...                ...   \n",
              "12       6.0  0.009100              2.4      4.0     10.0  SR-Inclusive_High   \n",
              "13       7.0  0.002080              2.9      4.0     11.5  SR-Inclusive_High   \n",
              "14       7.0  0.000603              3.2      3.6     11.8  SR-Inclusive_High   \n",
              "15       7.0  0.000887              3.1      3.5     11.9  SR-Inclusive_High   \n",
              "16       5.0  0.004920              2.6      3.1      9.4  SR-Inclusive_High   \n",
              "\n",
              "            Regime   S95_comp  \n",
              "0    Long Lifetime  19.483250  \n",
              "1    Long Lifetime  16.737055  \n",
              "2    Long Lifetime  14.176080  \n",
              "3    Long Lifetime  19.168249  \n",
              "4    Long Lifetime  21.518977  \n",
              "..             ...        ...  \n",
              "12  Short Lifetime  10.281660  \n",
              "13  Short Lifetime  11.730992  \n",
              "14  Short Lifetime  11.800641  \n",
              "15  Short Lifetime  11.992365  \n",
              "16  Short Lifetime   9.512092  \n",
              "\n",
              "[86 rows x 13 columns]"
            ]
          },
          "execution_count": 35,
          "metadata": {},
          "output_type": "execute_result"
        }
      ],
      "source": [
        "atlasDF['S95_comp'] = S95_obs\n",
        "atlasDF"
      ]
    },
    {
      "cell_type": "markdown",
      "metadata": {
        "id": "zZaUxv_aTHYU"
      },
      "source": [
        "#### Limits for high lumi"
      ]
    },
    {
      "cell_type": "code",
      "execution_count": null,
      "metadata": {
        "id": "ZGeCMKSyTHYV"
      },
      "outputs": [],
      "source": [
        "atlasFile = '../ATLAS-SUSY-2018-42/ATLAS_data/modelIndependentLimits.pcl'\n",
        "atlasDF_HL = pd.read_pickle(atlasFile)\n",
        "S95_HL = []\n",
        "for _,row in atlasDF.iterrows():\n",
        "    Nobs = row['Observed']\n",
        "    Nexp = row['Expected background']\n",
        "    sigmaexp = max(abs(row['error +']),abs(row['error -']))\n",
        "    lumi_HL = 3000.0\n",
        "    Nexp_HL = Nexp*lumi_HL/lumi\n",
        "    Nobs_HL = Nexp_HL # assumes obs = expected\n",
        "    sigmaexp_HL = (sigmaexp/Nexp)*Nexp_HL # assumes uncertainty is dominated by the systematical uncertainty\n",
        "    sigma_UL_HL = upperLimit(Nobs_HL,Nexp_HL,sigmaexp_HL,lumi_HL,toys=5000)\n",
        "    S95_HL.append(sigma_UL_HL*lumi_HL)\n"
      ]
    },
    {
      "cell_type": "code",
      "execution_count": null,
      "metadata": {
        "id": "VS-y0vDhTHYW"
      },
      "outputs": [],
      "source": [
        "atlasDF_HL['S95_obs_HL'] = S95_HL\n",
        "atlasDF_HL['S95_exp_HL'] = S95_HL\n",
        "atlasDF_HL.to_pickle(atlasFile.replace('.pcl','_HL.pcl'))"
      ]
    }
  ],
  "metadata": {
    "kernelspec": {
      "display_name": "Python 3",
      "language": "python",
      "name": "python3"
    },
    "language_info": {
      "codemirror_mode": {
        "name": "ipython",
        "version": 3
      },
      "file_extension": ".py",
      "mimetype": "text/x-python",
      "name": "python",
      "nbconvert_exporter": "python",
      "pygments_lexer": "ipython3",
      "version": "3.10.12"
    },
    "colab": {
      "provenance": []
    }
  },
  "nbformat": 4,
  "nbformat_minor": 0
}